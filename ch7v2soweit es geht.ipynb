{
  "cells": [
    {
      "cell_type": "code",
      "execution_count": 1,
      "metadata": {
        "id": "CSEx-s4k6t1a",
        "outputId": "4f1f61f3-3cfc-4eef-e376-45a733aa167f",
        "colab": {
          "base_uri": "https://localhost:8080/"
        }
      },
      "outputs": [
        {
          "output_type": "stream",
          "name": "stdout",
          "text": [
            "Cloning into 'notebooks'...\n",
            "remote: Enumerating objects: 526, done.\u001b[K\n",
            "remote: Counting objects: 100% (526/526), done.\u001b[K\n",
            "remote: Compressing objects: 100% (289/289), done.\u001b[K\n",
            "remote: Total 526 (delta 251), reused 480 (delta 231), pack-reused 0\u001b[K\n",
            "Receiving objects: 100% (526/526), 29.30 MiB | 9.70 MiB/s, done.\n",
            "Resolving deltas: 100% (251/251), done.\n",
            "Updating files: 100% (127/127), done.\n",
            "/content/notebooks\n",
            "Collecting farm-haystack[colab]==1.4.0\n",
            "  Downloading farm_haystack-1.4.0-py3-none-any.whl (524 kB)\n",
            "\u001b[2K     \u001b[90m━━━━━━━━━━━━━━━━━━━━━━━━━━━━━━━━━━━━━━━━\u001b[0m \u001b[32m524.7/524.7 kB\u001b[0m \u001b[31m3.6 MB/s\u001b[0m eta \u001b[36m0:00:00\u001b[0m\n",
            "\u001b[?25hINFO: pip is looking at multiple versions of farm-haystack[colab] to determine which version is compatible with other requirements. This could take a while.\n",
            "\u001b[31mERROR: Could not find a version that satisfies the requirement torch<1.11,>1.9 (from farm-haystack[colab]) (from versions: 1.11.0, 1.12.0, 1.12.1, 1.13.0, 1.13.1, 2.0.0, 2.0.1, 2.1.0, 2.1.1, 2.1.2, 2.2.0, 2.2.1, 2.2.2, 2.3.0, 2.3.1)\u001b[0m\u001b[31m\n",
            "\u001b[0m\u001b[31mERROR: No matching distribution found for torch<1.11,>1.9\u001b[0m\u001b[31m\n",
            "\u001b[0mRequirement already satisfied: matplotlib in /usr/local/lib/python3.10/dist-packages (3.7.1)\n",
            "Requirement already satisfied: contourpy>=1.0.1 in /usr/local/lib/python3.10/dist-packages (from matplotlib) (1.2.1)\n",
            "Requirement already satisfied: cycler>=0.10 in /usr/local/lib/python3.10/dist-packages (from matplotlib) (0.12.1)\n",
            "Requirement already satisfied: fonttools>=4.22.0 in /usr/local/lib/python3.10/dist-packages (from matplotlib) (4.53.0)\n",
            "Requirement already satisfied: kiwisolver>=1.0.1 in /usr/local/lib/python3.10/dist-packages (from matplotlib) (1.4.5)\n",
            "Requirement already satisfied: numpy>=1.20 in /usr/local/lib/python3.10/dist-packages (from matplotlib) (1.25.2)\n",
            "Requirement already satisfied: packaging>=20.0 in /usr/local/lib/python3.10/dist-packages (from matplotlib) (24.1)\n",
            "Requirement already satisfied: pillow>=6.2.0 in /usr/local/lib/python3.10/dist-packages (from matplotlib) (9.4.0)\n",
            "Requirement already satisfied: pyparsing>=2.3.1 in /usr/local/lib/python3.10/dist-packages (from matplotlib) (3.1.2)\n",
            "Requirement already satisfied: python-dateutil>=2.7 in /usr/local/lib/python3.10/dist-packages (from matplotlib) (2.8.2)\n",
            "Requirement already satisfied: six>=1.5 in /usr/local/lib/python3.10/dist-packages (from python-dateutil>=2.7->matplotlib) (1.16.0)\n",
            "Collecting datasets\n",
            "  Downloading datasets-2.20.0-py3-none-any.whl (547 kB)\n",
            "\u001b[2K     \u001b[90m━━━━━━━━━━━━━━━━━━━━━━━━━━━━━━━━━━━━━━━━\u001b[0m \u001b[32m547.8/547.8 kB\u001b[0m \u001b[31m6.0 MB/s\u001b[0m eta \u001b[36m0:00:00\u001b[0m\n",
            "\u001b[?25hRequirement already satisfied: filelock in /usr/local/lib/python3.10/dist-packages (from datasets) (3.15.3)\n",
            "Requirement already satisfied: numpy>=1.17 in /usr/local/lib/python3.10/dist-packages (from datasets) (1.25.2)\n",
            "Collecting pyarrow>=15.0.0 (from datasets)\n",
            "  Downloading pyarrow-16.1.0-cp310-cp310-manylinux_2_28_x86_64.whl (40.8 MB)\n",
            "\u001b[2K     \u001b[90m━━━━━━━━━━━━━━━━━━━━━━━━━━━━━━━━━━━━━━━━\u001b[0m \u001b[32m40.8/40.8 MB\u001b[0m \u001b[31m9.9 MB/s\u001b[0m eta \u001b[36m0:00:00\u001b[0m\n",
            "\u001b[?25hRequirement already satisfied: pyarrow-hotfix in /usr/local/lib/python3.10/dist-packages (from datasets) (0.6)\n",
            "Collecting dill<0.3.9,>=0.3.0 (from datasets)\n",
            "  Downloading dill-0.3.8-py3-none-any.whl (116 kB)\n",
            "\u001b[2K     \u001b[90m━━━━━━━━━━━━━━━━━━━━━━━━━━━━━━━━━━━━━━━━\u001b[0m \u001b[32m116.3/116.3 kB\u001b[0m \u001b[31m9.8 MB/s\u001b[0m eta \u001b[36m0:00:00\u001b[0m\n",
            "\u001b[?25hRequirement already satisfied: pandas in /usr/local/lib/python3.10/dist-packages (from datasets) (2.0.3)\n",
            "Collecting requests>=2.32.2 (from datasets)\n",
            "  Downloading requests-2.32.3-py3-none-any.whl (64 kB)\n",
            "\u001b[2K     \u001b[90m━━━━━━━━━━━━━━━━━━━━━━━━━━━━━━━━━━━━━━━━\u001b[0m \u001b[32m64.9/64.9 kB\u001b[0m \u001b[31m8.0 MB/s\u001b[0m eta \u001b[36m0:00:00\u001b[0m\n",
            "\u001b[?25hRequirement already satisfied: tqdm>=4.66.3 in /usr/local/lib/python3.10/dist-packages (from datasets) (4.66.4)\n",
            "Collecting xxhash (from datasets)\n",
            "  Downloading xxhash-3.4.1-cp310-cp310-manylinux_2_17_x86_64.manylinux2014_x86_64.whl (194 kB)\n",
            "\u001b[2K     \u001b[90m━━━━━━━━━━━━━━━━━━━━━━━━━━━━━━━━━━━━━━━━\u001b[0m \u001b[32m194.1/194.1 kB\u001b[0m \u001b[31m19.4 MB/s\u001b[0m eta \u001b[36m0:00:00\u001b[0m\n",
            "\u001b[?25hCollecting multiprocess (from datasets)\n",
            "  Downloading multiprocess-0.70.16-py310-none-any.whl (134 kB)\n",
            "\u001b[2K     \u001b[90m━━━━━━━━━━━━━━━━━━━━━━━━━━━━━━━━━━━━━━━━\u001b[0m \u001b[32m134.8/134.8 kB\u001b[0m \u001b[31m14.5 MB/s\u001b[0m eta \u001b[36m0:00:00\u001b[0m\n",
            "\u001b[?25hRequirement already satisfied: fsspec[http]<=2024.5.0,>=2023.1.0 in /usr/local/lib/python3.10/dist-packages (from datasets) (2023.6.0)\n",
            "Requirement already satisfied: aiohttp in /usr/local/lib/python3.10/dist-packages (from datasets) (3.9.5)\n",
            "Requirement already satisfied: huggingface-hub>=0.21.2 in /usr/local/lib/python3.10/dist-packages (from datasets) (0.23.4)\n",
            "Requirement already satisfied: packaging in /usr/local/lib/python3.10/dist-packages (from datasets) (24.1)\n",
            "Requirement already satisfied: pyyaml>=5.1 in /usr/local/lib/python3.10/dist-packages (from datasets) (6.0.1)\n",
            "Requirement already satisfied: aiosignal>=1.1.2 in /usr/local/lib/python3.10/dist-packages (from aiohttp->datasets) (1.3.1)\n",
            "Requirement already satisfied: attrs>=17.3.0 in /usr/local/lib/python3.10/dist-packages (from aiohttp->datasets) (23.2.0)\n",
            "Requirement already satisfied: frozenlist>=1.1.1 in /usr/local/lib/python3.10/dist-packages (from aiohttp->datasets) (1.4.1)\n",
            "Requirement already satisfied: multidict<7.0,>=4.5 in /usr/local/lib/python3.10/dist-packages (from aiohttp->datasets) (6.0.5)\n",
            "Requirement already satisfied: yarl<2.0,>=1.0 in /usr/local/lib/python3.10/dist-packages (from aiohttp->datasets) (1.9.4)\n",
            "Requirement already satisfied: async-timeout<5.0,>=4.0 in /usr/local/lib/python3.10/dist-packages (from aiohttp->datasets) (4.0.3)\n",
            "Requirement already satisfied: typing-extensions>=3.7.4.3 in /usr/local/lib/python3.10/dist-packages (from huggingface-hub>=0.21.2->datasets) (4.12.2)\n",
            "Requirement already satisfied: charset-normalizer<4,>=2 in /usr/local/lib/python3.10/dist-packages (from requests>=2.32.2->datasets) (3.3.2)\n",
            "Requirement already satisfied: idna<4,>=2.5 in /usr/local/lib/python3.10/dist-packages (from requests>=2.32.2->datasets) (3.7)\n",
            "Requirement already satisfied: urllib3<3,>=1.21.1 in /usr/local/lib/python3.10/dist-packages (from requests>=2.32.2->datasets) (2.0.7)\n",
            "Requirement already satisfied: certifi>=2017.4.17 in /usr/local/lib/python3.10/dist-packages (from requests>=2.32.2->datasets) (2024.6.2)\n",
            "Requirement already satisfied: python-dateutil>=2.8.2 in /usr/local/lib/python3.10/dist-packages (from pandas->datasets) (2.8.2)\n",
            "Requirement already satisfied: pytz>=2020.1 in /usr/local/lib/python3.10/dist-packages (from pandas->datasets) (2023.4)\n",
            "Requirement already satisfied: tzdata>=2022.1 in /usr/local/lib/python3.10/dist-packages (from pandas->datasets) (2024.1)\n",
            "Requirement already satisfied: six>=1.5 in /usr/local/lib/python3.10/dist-packages (from python-dateutil>=2.8.2->pandas->datasets) (1.16.0)\n",
            "Installing collected packages: xxhash, requests, pyarrow, dill, multiprocess, datasets\n",
            "  Attempting uninstall: requests\n",
            "    Found existing installation: requests 2.31.0\n",
            "    Uninstalling requests-2.31.0:\n",
            "      Successfully uninstalled requests-2.31.0\n",
            "  Attempting uninstall: pyarrow\n",
            "    Found existing installation: pyarrow 14.0.2\n",
            "    Uninstalling pyarrow-14.0.2:\n",
            "      Successfully uninstalled pyarrow-14.0.2\n",
            "\u001b[31mERROR: pip's dependency resolver does not currently take into account all the packages that are installed. This behaviour is the source of the following dependency conflicts.\n",
            "cudf-cu12 24.4.1 requires pyarrow<15.0.0a0,>=14.0.1, but you have pyarrow 16.1.0 which is incompatible.\n",
            "google-colab 1.0.0 requires requests==2.31.0, but you have requests 2.32.3 which is incompatible.\n",
            "ibis-framework 8.0.0 requires pyarrow<16,>=2, but you have pyarrow 16.1.0 which is incompatible.\u001b[0m\u001b[31m\n",
            "\u001b[0mSuccessfully installed datasets-2.20.0 dill-0.3.8 multiprocess-0.70.16 pyarrow-16.1.0 requests-2.32.3 xxhash-3.4.1\n"
          ]
        }
      ],
      "source": [
        "# Uncomment and run this cell if you're on Colab or Kaggle\n",
        "#!git clone https://github.com/nlp-with-transformers/notebooks.git\n",
        "#%cd notebooks\n",
        "from install import *\n",
        "#install_requirements(is_chapter7_v2=True)\n",
        "!pip install farm-haystack[colab]==1.4.0\n",
        "!pip install matplotlib\n",
        "!pip install datasets"
      ]
    },
    {
      "cell_type": "code",
      "execution_count": 2,
      "metadata": {
        "colab": {
          "base_uri": "https://localhost:8080/"
        },
        "id": "1dltmMmR6t1c",
        "outputId": "b69139b1-9774-426e-d9f7-1b1fe3621f09"
      },
      "outputs": [
        {
          "output_type": "stream",
          "name": "stdout",
          "text": [
            "No GPU was detected! This notebook can be *very* slow without a GPU 🐢\n",
            "Go to Runtime > Change runtime type and select a GPU hardware accelerator.\n",
            "Using transformers v4.41.2\n",
            "Using datasets v2.20.0\n"
          ]
        }
      ],
      "source": [
        "from utils import *\n",
        "setup_chapter()"
      ]
    },
    {
      "cell_type": "code",
      "execution_count": 3,
      "metadata": {
        "colab": {
          "base_uri": "https://localhost:8080/"
        },
        "id": "7L2Xn4FJ6t1c",
        "outputId": "f005b89c-cc90-49f5-e705-e880850055e1"
      },
      "outputs": [
        {
          "output_type": "stream",
          "name": "stdout",
          "text": [
            "env: TOKENIZERS_PARALLELISM=false\n"
          ]
        }
      ],
      "source": [
        "%env TOKENIZERS_PARALLELISM=false"
      ]
    },
    {
      "cell_type": "code",
      "execution_count": 4,
      "metadata": {
        "id": "9SQNg3e76t1d"
      },
      "outputs": [],
      "source": [
        "# Suppress Haystack logging\n",
        "import logging\n",
        "for module in [\"farm.utils\", \"farm.infer\", \"haystack.reader.farm.FARMReader\",\n",
        "              \"farm.modeling.prediction_head\", \"elasticsearch\", \"haystack.eval\",\n",
        "               \"haystack.document_store.base\", \"haystack.retriever.base\",\n",
        "              \"farm.data_handler.dataset\"]:\n",
        "    module_logger = logging.getLogger(module)\n",
        "    module_logger.setLevel(logging.ERROR)"
      ]
    },
    {
      "cell_type": "markdown",
      "metadata": {
        "id": "rm4QNfrW6t1d"
      },
      "source": [
        "# Question Answering"
      ]
    },
    {
      "cell_type": "markdown",
      "metadata": {
        "id": "RDBAMNnDZf9G"
      },
      "source": [
        "<img alt=\"Marie Curie\" width=\"500\" caption=\"A Google search query and corresponding answer snippet\" src=\"https://github.com/nlp-with-transformers/notebooks/blob/main/images/chapter07_marie-curie.png?raw=1\" id=\"marie-curie\"/>"
      ]
    },
    {
      "cell_type": "markdown",
      "metadata": {
        "id": "bAfghOAk6t1e"
      },
      "source": [
        "## Building a Review-Based QA System"
      ]
    },
    {
      "cell_type": "markdown",
      "metadata": {
        "id": "nC9E5WGw6t1e"
      },
      "source": [
        "### The Dataset"
      ]
    },
    {
      "cell_type": "markdown",
      "metadata": {
        "id": "0ShsaaKBZf9H"
      },
      "source": [
        "<img alt=\"Phone with Query\" width=\"400\" caption=\"A question about a product and the corresponding review (the answer span is underlined)\" src=\"https://github.com/nlp-with-transformers/notebooks/blob/main/images/chapter07_phone.png?raw=1\" id=\"phone\"/>"
      ]
    },
    {
      "cell_type": "code",
      "execution_count": 31,
      "metadata": {
        "id": "9_EEUb116t1f",
        "outputId": "31ff404a-e614-4c06-ff83-7f285d4aefd2",
        "colab": {
          "base_uri": "https://localhost:8080/"
        }
      },
      "outputs": [
        {
          "output_type": "execute_result",
          "data": {
            "text/plain": [
              "['books', 'electronics', 'grocery', 'movies', 'restaurants', 'tripadvisor']"
            ]
          },
          "metadata": {},
          "execution_count": 31
        }
      ],
      "source": [
        "from datasets import get_dataset_config_names\n",
        "\n",
        "domains = get_dataset_config_names(\"subjqa\")\n",
        "domains"
      ]
    },
    {
      "cell_type": "code",
      "execution_count": 32,
      "metadata": {
        "id": "d_VkeYWb6t1g"
      },
      "outputs": [],
      "source": [
        "from datasets import load_dataset\n",
        "\n",
        "subjqa = load_dataset(\"subjqa\", name=\"electronics\")"
      ]
    },
    {
      "cell_type": "code",
      "execution_count": 7,
      "metadata": {
        "id": "auZjlpKc6t1g",
        "outputId": "fec448f0-1680-4efc-a894-3c005f0f5943",
        "colab": {
          "base_uri": "https://localhost:8080/"
        }
      },
      "outputs": [
        {
          "output_type": "stream",
          "name": "stdout",
          "text": [
            "{'text': ['Bass is weak as expected', 'Bass is weak as expected, even with EQ\n",
            "adjusted up'], 'answer_start': [1302, 1302], 'answer_subj_level': [1, 1],\n",
            "'ans_subj_score': [0.5083333253860474, 0.5083333253860474], 'is_ans_subjective':\n",
            "[True, True]}\n"
          ]
        }
      ],
      "source": [
        "print(subjqa[\"train\"][\"answers\"][1])"
      ]
    },
    {
      "cell_type": "code",
      "execution_count": 8,
      "metadata": {
        "colab": {
          "base_uri": "https://localhost:8080/"
        },
        "id": "L9CFp5lI6t1g",
        "outputId": "f9254e0d-11c3-4f4e-c774-096a221f28b1"
      },
      "outputs": [
        {
          "output_type": "stream",
          "name": "stdout",
          "text": [
            "Number of questions in train: 1295\n",
            "Number of questions in test: 358\n",
            "Number of questions in validation: 255\n"
          ]
        }
      ],
      "source": [
        "import pandas as pd\n",
        "\n",
        "dfs = {split: dset.to_pandas() for split, dset in subjqa.flatten().items()}\n",
        "\n",
        "for split, df in dfs.items():\n",
        "    print(f\"Number of questions in {split}: {df['id'].nunique()}\")"
      ]
    },
    {
      "cell_type": "code",
      "execution_count": 9,
      "metadata": {
        "id": "ViY4Zlkl6t1h",
        "outputId": "90349786-dea1-406e-ffe2-08bcbb98f392",
        "colab": {
          "base_uri": "https://localhost:8080/",
          "height": 125
        }
      },
      "outputs": [
        {
          "output_type": "execute_result",
          "data": {
            "text/plain": [
              "           title                        question                answers.text  \\\n",
              "791   B005DKZTMG  Does the keyboard lightweight?  [this keyboard is compact]   \n",
              "1159  B00AAIPT76             How is the battery?                          []   \n",
              "\n",
              "     answers.answer_start                                            context  \n",
              "791                 [215]  I really like this keyboard.  I give it 4 star...  \n",
              "1159                   []  I bought this after the first spare gopro batt...  "
            ],
            "text/html": [
              "\n",
              "  <div id=\"df-4ee9aa71-d3a2-405a-85f0-2cfe178b59d2\" class=\"colab-df-container\">\n",
              "    <div>\n",
              "<style scoped>\n",
              "    .dataframe tbody tr th:only-of-type {\n",
              "        vertical-align: middle;\n",
              "    }\n",
              "\n",
              "    .dataframe tbody tr th {\n",
              "        vertical-align: top;\n",
              "    }\n",
              "\n",
              "    .dataframe thead th {\n",
              "        text-align: right;\n",
              "    }\n",
              "</style>\n",
              "<table border=\"1\" class=\"dataframe\">\n",
              "  <thead>\n",
              "    <tr style=\"text-align: right;\">\n",
              "      <th></th>\n",
              "      <th>title</th>\n",
              "      <th>question</th>\n",
              "      <th>answers.text</th>\n",
              "      <th>answers.answer_start</th>\n",
              "      <th>context</th>\n",
              "    </tr>\n",
              "  </thead>\n",
              "  <tbody>\n",
              "    <tr>\n",
              "      <th>791</th>\n",
              "      <td>B005DKZTMG</td>\n",
              "      <td>Does the keyboard lightweight?</td>\n",
              "      <td>[this keyboard is compact]</td>\n",
              "      <td>[215]</td>\n",
              "      <td>I really like this keyboard.  I give it 4 star...</td>\n",
              "    </tr>\n",
              "    <tr>\n",
              "      <th>1159</th>\n",
              "      <td>B00AAIPT76</td>\n",
              "      <td>How is the battery?</td>\n",
              "      <td>[]</td>\n",
              "      <td>[]</td>\n",
              "      <td>I bought this after the first spare gopro batt...</td>\n",
              "    </tr>\n",
              "  </tbody>\n",
              "</table>\n",
              "</div>\n",
              "    <div class=\"colab-df-buttons\">\n",
              "\n",
              "  <div class=\"colab-df-container\">\n",
              "    <button class=\"colab-df-convert\" onclick=\"convertToInteractive('df-4ee9aa71-d3a2-405a-85f0-2cfe178b59d2')\"\n",
              "            title=\"Convert this dataframe to an interactive table.\"\n",
              "            style=\"display:none;\">\n",
              "\n",
              "  <svg xmlns=\"http://www.w3.org/2000/svg\" height=\"24px\" viewBox=\"0 -960 960 960\">\n",
              "    <path d=\"M120-120v-720h720v720H120Zm60-500h600v-160H180v160Zm220 220h160v-160H400v160Zm0 220h160v-160H400v160ZM180-400h160v-160H180v160Zm440 0h160v-160H620v160ZM180-180h160v-160H180v160Zm440 0h160v-160H620v160Z\"/>\n",
              "  </svg>\n",
              "    </button>\n",
              "\n",
              "  <style>\n",
              "    .colab-df-container {\n",
              "      display:flex;\n",
              "      gap: 12px;\n",
              "    }\n",
              "\n",
              "    .colab-df-convert {\n",
              "      background-color: #E8F0FE;\n",
              "      border: none;\n",
              "      border-radius: 50%;\n",
              "      cursor: pointer;\n",
              "      display: none;\n",
              "      fill: #1967D2;\n",
              "      height: 32px;\n",
              "      padding: 0 0 0 0;\n",
              "      width: 32px;\n",
              "    }\n",
              "\n",
              "    .colab-df-convert:hover {\n",
              "      background-color: #E2EBFA;\n",
              "      box-shadow: 0px 1px 2px rgba(60, 64, 67, 0.3), 0px 1px 3px 1px rgba(60, 64, 67, 0.15);\n",
              "      fill: #174EA6;\n",
              "    }\n",
              "\n",
              "    .colab-df-buttons div {\n",
              "      margin-bottom: 4px;\n",
              "    }\n",
              "\n",
              "    [theme=dark] .colab-df-convert {\n",
              "      background-color: #3B4455;\n",
              "      fill: #D2E3FC;\n",
              "    }\n",
              "\n",
              "    [theme=dark] .colab-df-convert:hover {\n",
              "      background-color: #434B5C;\n",
              "      box-shadow: 0px 1px 3px 1px rgba(0, 0, 0, 0.15);\n",
              "      filter: drop-shadow(0px 1px 2px rgba(0, 0, 0, 0.3));\n",
              "      fill: #FFFFFF;\n",
              "    }\n",
              "  </style>\n",
              "\n",
              "    <script>\n",
              "      const buttonEl =\n",
              "        document.querySelector('#df-4ee9aa71-d3a2-405a-85f0-2cfe178b59d2 button.colab-df-convert');\n",
              "      buttonEl.style.display =\n",
              "        google.colab.kernel.accessAllowed ? 'block' : 'none';\n",
              "\n",
              "      async function convertToInteractive(key) {\n",
              "        const element = document.querySelector('#df-4ee9aa71-d3a2-405a-85f0-2cfe178b59d2');\n",
              "        const dataTable =\n",
              "          await google.colab.kernel.invokeFunction('convertToInteractive',\n",
              "                                                    [key], {});\n",
              "        if (!dataTable) return;\n",
              "\n",
              "        const docLinkHtml = 'Like what you see? Visit the ' +\n",
              "          '<a target=\"_blank\" href=https://colab.research.google.com/notebooks/data_table.ipynb>data table notebook</a>'\n",
              "          + ' to learn more about interactive tables.';\n",
              "        element.innerHTML = '';\n",
              "        dataTable['output_type'] = 'display_data';\n",
              "        await google.colab.output.renderOutput(dataTable, element);\n",
              "        const docLink = document.createElement('div');\n",
              "        docLink.innerHTML = docLinkHtml;\n",
              "        element.appendChild(docLink);\n",
              "      }\n",
              "    </script>\n",
              "  </div>\n",
              "\n",
              "\n",
              "<div id=\"df-a1cfb489-b6ba-4c44-8b65-d30827186330\">\n",
              "  <button class=\"colab-df-quickchart\" onclick=\"quickchart('df-a1cfb489-b6ba-4c44-8b65-d30827186330')\"\n",
              "            title=\"Suggest charts\"\n",
              "            style=\"display:none;\">\n",
              "\n",
              "<svg xmlns=\"http://www.w3.org/2000/svg\" height=\"24px\"viewBox=\"0 0 24 24\"\n",
              "     width=\"24px\">\n",
              "    <g>\n",
              "        <path d=\"M19 3H5c-1.1 0-2 .9-2 2v14c0 1.1.9 2 2 2h14c1.1 0 2-.9 2-2V5c0-1.1-.9-2-2-2zM9 17H7v-7h2v7zm4 0h-2V7h2v10zm4 0h-2v-4h2v4z\"/>\n",
              "    </g>\n",
              "</svg>\n",
              "  </button>\n",
              "\n",
              "<style>\n",
              "  .colab-df-quickchart {\n",
              "      --bg-color: #E8F0FE;\n",
              "      --fill-color: #1967D2;\n",
              "      --hover-bg-color: #E2EBFA;\n",
              "      --hover-fill-color: #174EA6;\n",
              "      --disabled-fill-color: #AAA;\n",
              "      --disabled-bg-color: #DDD;\n",
              "  }\n",
              "\n",
              "  [theme=dark] .colab-df-quickchart {\n",
              "      --bg-color: #3B4455;\n",
              "      --fill-color: #D2E3FC;\n",
              "      --hover-bg-color: #434B5C;\n",
              "      --hover-fill-color: #FFFFFF;\n",
              "      --disabled-bg-color: #3B4455;\n",
              "      --disabled-fill-color: #666;\n",
              "  }\n",
              "\n",
              "  .colab-df-quickchart {\n",
              "    background-color: var(--bg-color);\n",
              "    border: none;\n",
              "    border-radius: 50%;\n",
              "    cursor: pointer;\n",
              "    display: none;\n",
              "    fill: var(--fill-color);\n",
              "    height: 32px;\n",
              "    padding: 0;\n",
              "    width: 32px;\n",
              "  }\n",
              "\n",
              "  .colab-df-quickchart:hover {\n",
              "    background-color: var(--hover-bg-color);\n",
              "    box-shadow: 0 1px 2px rgba(60, 64, 67, 0.3), 0 1px 3px 1px rgba(60, 64, 67, 0.15);\n",
              "    fill: var(--button-hover-fill-color);\n",
              "  }\n",
              "\n",
              "  .colab-df-quickchart-complete:disabled,\n",
              "  .colab-df-quickchart-complete:disabled:hover {\n",
              "    background-color: var(--disabled-bg-color);\n",
              "    fill: var(--disabled-fill-color);\n",
              "    box-shadow: none;\n",
              "  }\n",
              "\n",
              "  .colab-df-spinner {\n",
              "    border: 2px solid var(--fill-color);\n",
              "    border-color: transparent;\n",
              "    border-bottom-color: var(--fill-color);\n",
              "    animation:\n",
              "      spin 1s steps(1) infinite;\n",
              "  }\n",
              "\n",
              "  @keyframes spin {\n",
              "    0% {\n",
              "      border-color: transparent;\n",
              "      border-bottom-color: var(--fill-color);\n",
              "      border-left-color: var(--fill-color);\n",
              "    }\n",
              "    20% {\n",
              "      border-color: transparent;\n",
              "      border-left-color: var(--fill-color);\n",
              "      border-top-color: var(--fill-color);\n",
              "    }\n",
              "    30% {\n",
              "      border-color: transparent;\n",
              "      border-left-color: var(--fill-color);\n",
              "      border-top-color: var(--fill-color);\n",
              "      border-right-color: var(--fill-color);\n",
              "    }\n",
              "    40% {\n",
              "      border-color: transparent;\n",
              "      border-right-color: var(--fill-color);\n",
              "      border-top-color: var(--fill-color);\n",
              "    }\n",
              "    60% {\n",
              "      border-color: transparent;\n",
              "      border-right-color: var(--fill-color);\n",
              "    }\n",
              "    80% {\n",
              "      border-color: transparent;\n",
              "      border-right-color: var(--fill-color);\n",
              "      border-bottom-color: var(--fill-color);\n",
              "    }\n",
              "    90% {\n",
              "      border-color: transparent;\n",
              "      border-bottom-color: var(--fill-color);\n",
              "    }\n",
              "  }\n",
              "</style>\n",
              "\n",
              "  <script>\n",
              "    async function quickchart(key) {\n",
              "      const quickchartButtonEl =\n",
              "        document.querySelector('#' + key + ' button');\n",
              "      quickchartButtonEl.disabled = true;  // To prevent multiple clicks.\n",
              "      quickchartButtonEl.classList.add('colab-df-spinner');\n",
              "      try {\n",
              "        const charts = await google.colab.kernel.invokeFunction(\n",
              "            'suggestCharts', [key], {});\n",
              "      } catch (error) {\n",
              "        console.error('Error during call to suggestCharts:', error);\n",
              "      }\n",
              "      quickchartButtonEl.classList.remove('colab-df-spinner');\n",
              "      quickchartButtonEl.classList.add('colab-df-quickchart-complete');\n",
              "    }\n",
              "    (() => {\n",
              "      let quickchartButtonEl =\n",
              "        document.querySelector('#df-a1cfb489-b6ba-4c44-8b65-d30827186330 button');\n",
              "      quickchartButtonEl.style.display =\n",
              "        google.colab.kernel.accessAllowed ? 'block' : 'none';\n",
              "    })();\n",
              "  </script>\n",
              "</div>\n",
              "\n",
              "  <div id=\"id_abc89ecc-7b2f-4556-b375-2a3330f6f400\">\n",
              "    <style>\n",
              "      .colab-df-generate {\n",
              "        background-color: #E8F0FE;\n",
              "        border: none;\n",
              "        border-radius: 50%;\n",
              "        cursor: pointer;\n",
              "        display: none;\n",
              "        fill: #1967D2;\n",
              "        height: 32px;\n",
              "        padding: 0 0 0 0;\n",
              "        width: 32px;\n",
              "      }\n",
              "\n",
              "      .colab-df-generate:hover {\n",
              "        background-color: #E2EBFA;\n",
              "        box-shadow: 0px 1px 2px rgba(60, 64, 67, 0.3), 0px 1px 3px 1px rgba(60, 64, 67, 0.15);\n",
              "        fill: #174EA6;\n",
              "      }\n",
              "\n",
              "      [theme=dark] .colab-df-generate {\n",
              "        background-color: #3B4455;\n",
              "        fill: #D2E3FC;\n",
              "      }\n",
              "\n",
              "      [theme=dark] .colab-df-generate:hover {\n",
              "        background-color: #434B5C;\n",
              "        box-shadow: 0px 1px 3px 1px rgba(0, 0, 0, 0.15);\n",
              "        filter: drop-shadow(0px 1px 2px rgba(0, 0, 0, 0.3));\n",
              "        fill: #FFFFFF;\n",
              "      }\n",
              "    </style>\n",
              "    <button class=\"colab-df-generate\" onclick=\"generateWithVariable('sample_df')\"\n",
              "            title=\"Generate code using this dataframe.\"\n",
              "            style=\"display:none;\">\n",
              "\n",
              "  <svg xmlns=\"http://www.w3.org/2000/svg\" height=\"24px\"viewBox=\"0 0 24 24\"\n",
              "       width=\"24px\">\n",
              "    <path d=\"M7,19H8.4L18.45,9,17,7.55,7,17.6ZM5,21V16.75L18.45,3.32a2,2,0,0,1,2.83,0l1.4,1.43a1.91,1.91,0,0,1,.58,1.4,1.91,1.91,0,0,1-.58,1.4L9.25,21ZM18.45,9,17,7.55Zm-12,3A5.31,5.31,0,0,0,4.9,8.1,5.31,5.31,0,0,0,1,6.5,5.31,5.31,0,0,0,4.9,4.9,5.31,5.31,0,0,0,6.5,1,5.31,5.31,0,0,0,8.1,4.9,5.31,5.31,0,0,0,12,6.5,5.46,5.46,0,0,0,6.5,12Z\"/>\n",
              "  </svg>\n",
              "    </button>\n",
              "    <script>\n",
              "      (() => {\n",
              "      const buttonEl =\n",
              "        document.querySelector('#id_abc89ecc-7b2f-4556-b375-2a3330f6f400 button.colab-df-generate');\n",
              "      buttonEl.style.display =\n",
              "        google.colab.kernel.accessAllowed ? 'block' : 'none';\n",
              "\n",
              "      buttonEl.onclick = () => {\n",
              "        google.colab.notebook.generateWithVariable('sample_df');\n",
              "      }\n",
              "      })();\n",
              "    </script>\n",
              "  </div>\n",
              "\n",
              "    </div>\n",
              "  </div>\n"
            ],
            "application/vnd.google.colaboratory.intrinsic+json": {
              "type": "dataframe",
              "variable_name": "sample_df",
              "summary": "{\n  \"name\": \"sample_df\",\n  \"rows\": 2,\n  \"fields\": [\n    {\n      \"column\": \"title\",\n      \"properties\": {\n        \"dtype\": \"string\",\n        \"num_unique_values\": 2,\n        \"samples\": [\n          \"B00AAIPT76\",\n          \"B005DKZTMG\"\n        ],\n        \"semantic_type\": \"\",\n        \"description\": \"\"\n      }\n    },\n    {\n      \"column\": \"question\",\n      \"properties\": {\n        \"dtype\": \"string\",\n        \"num_unique_values\": 2,\n        \"samples\": [\n          \"How is the battery?\",\n          \"Does the keyboard lightweight?\"\n        ],\n        \"semantic_type\": \"\",\n        \"description\": \"\"\n      }\n    },\n    {\n      \"column\": \"answers.text\",\n      \"properties\": {\n        \"dtype\": \"object\",\n        \"semantic_type\": \"\",\n        \"description\": \"\"\n      }\n    },\n    {\n      \"column\": \"answers.answer_start\",\n      \"properties\": {\n        \"dtype\": \"object\",\n        \"semantic_type\": \"\",\n        \"description\": \"\"\n      }\n    },\n    {\n      \"column\": \"context\",\n      \"properties\": {\n        \"dtype\": \"string\",\n        \"num_unique_values\": 2,\n        \"samples\": [\n          \"I bought this after the first spare gopro battery I bought wouldn't hold a charge. I have very realistic expectations of this sort of product, I am skeptical of amazing stories of charge time and battery life but I do expect the batteries to hold a charge for a couple of weeks at least and for the charger to work like a charger. In this I was not disappointed. I am a river rafter and found that the gopro burns through power in a hurry so this purchase solved that issue. the batteries held a charge, on shorter trips the extra two batteries were enough and on longer trips I could use my friends JOOS Orange to recharge them.I just bought a newtrent xtreme powerpak and expect to be able to charge these with that so I will not run out of power again.\",\n          \"I really like this keyboard.  I give it 4 stars because it doesn't have a CAPS LOCK key so I never know if my caps are on.  But for the price, it really suffices as a wireless keyboard.  I have very large hands and this keyboard is compact, but I have no complaints.\"\n        ],\n        \"semantic_type\": \"\",\n        \"description\": \"\"\n      }\n    }\n  ]\n}"
            }
          },
          "metadata": {},
          "execution_count": 9
        }
      ],
      "source": [
        "qa_cols = [\"title\", \"question\", \"answers.text\",\n",
        "           \"answers.answer_start\", \"context\"]\n",
        "sample_df = dfs[\"train\"][qa_cols].sample(2, random_state=7)\n",
        "sample_df"
      ]
    },
    {
      "cell_type": "code",
      "execution_count": 10,
      "metadata": {
        "colab": {
          "base_uri": "https://localhost:8080/",
          "height": 36
        },
        "id": "yR-tdtrS6t1h",
        "outputId": "8b14ab64-814f-4eec-b159-53fd8625e2e6"
      },
      "outputs": [
        {
          "output_type": "execute_result",
          "data": {
            "text/plain": [
              "'this keyboard is compact'"
            ],
            "application/vnd.google.colaboratory.intrinsic+json": {
              "type": "string"
            }
          },
          "metadata": {},
          "execution_count": 10
        }
      ],
      "source": [
        "start_idx = sample_df[\"answers.answer_start\"].iloc[0][0]\n",
        "end_idx = start_idx + len(sample_df[\"answers.text\"].iloc[0][0])\n",
        "sample_df[\"context\"].iloc[0][start_idx:end_idx]"
      ]
    },
    {
      "cell_type": "code",
      "execution_count": 11,
      "metadata": {
        "colab": {
          "base_uri": "https://localhost:8080/",
          "height": 384
        },
        "id": "eRYgAKe-6t1h",
        "outputId": "8366d0d1-a1da-411c-9a9d-af0d8cceeaef"
      },
      "outputs": [
        {
          "output_type": "display_data",
          "data": {
            "text/plain": [
              "<Figure size 600x400 with 1 Axes>"
            ],
            "image/svg+xml": "<?xml version=\"1.0\" encoding=\"utf-8\" standalone=\"no\"?>\n<!DOCTYPE svg PUBLIC \"-//W3C//DTD SVG 1.1//EN\"\n  \"http://www.w3.org/Graphics/SVG/1.1/DTD/svg11.dtd\">\n<svg xmlns:xlink=\"http://www.w3.org/1999/xlink\" width=\"398.786092pt\" height=\"271.7155pt\" viewBox=\"0 0 398.786092 271.7155\" xmlns=\"http://www.w3.org/2000/svg\" version=\"1.1\">\n <metadata>\n  <rdf:RDF xmlns:dc=\"http://purl.org/dc/elements/1.1/\" xmlns:cc=\"http://creativecommons.org/ns#\" xmlns:rdf=\"http://www.w3.org/1999/02/22-rdf-syntax-ns#\">\n   <cc:Work>\n    <dc:type rdf:resource=\"http://purl.org/dc/dcmitype/StillImage\"/>\n    <dc:date>2024-06-27T11:15:39.256881</dc:date>\n    <dc:format>image/svg+xml</dc:format>\n    <dc:creator>\n     <cc:Agent>\n      <dc:title>Matplotlib v3.7.1, https://matplotlib.org/</dc:title>\n     </cc:Agent>\n    </dc:creator>\n   </cc:Work>\n  </rdf:RDF>\n </metadata>\n <defs>\n  <style type=\"text/css\">*{stroke-linejoin: round; stroke-linecap: butt}</style>\n </defs>\n <g id=\"figure_1\">\n  <g id=\"patch_1\">\n   <path d=\"M 0 271.7155 \nL 398.786092 271.7155 \nL 398.786092 0 \nL 0 0 \nz\n\" style=\"fill: #ffffff\"/>\n  </g>\n  <g id=\"axes_1\">\n   <g id=\"patch_2\">\n    <path d=\"M 53.100625 245.90175 \nL 387.900625 245.90175 \nL 387.900625 24.14175 \nL 53.100625 24.14175 \nz\n\" style=\"fill: #ffffff\"/>\n   </g>\n   <g id=\"patch_3\">\n    <path d=\"M 53.100625 238.97175 \nL 58.00612 238.97175 \nL 58.00612 225.11175 \nL 53.100625 225.11175 \nz\n\" clip-path=\"url(#p6ced791eeb)\" style=\"fill: #0071bc\"/>\n   </g>\n   <g id=\"patch_4\">\n    <path d=\"M 53.100625 211.25175 \nL 61.68524 211.25175 \nL 61.68524 197.39175 \nL 53.100625 197.39175 \nz\n\" clip-path=\"url(#p6ced791eeb)\" style=\"fill: #0071bc\"/>\n   </g>\n   <g id=\"patch_5\">\n    <path d=\"M 53.100625 183.53175 \nL 64.546779 183.53175 \nL 64.546779 169.67175 \nL 53.100625 169.67175 \nz\n\" clip-path=\"url(#p6ced791eeb)\" style=\"fill: #0071bc\"/>\n   </g>\n   <g id=\"patch_6\">\n    <path d=\"M 53.100625 155.81175 \nL 71.496229 155.81175 \nL 71.496229 141.95175 \nL 53.100625 141.95175 \nz\n\" clip-path=\"url(#p6ced791eeb)\" style=\"fill: #0071bc\"/>\n   </g>\n   <g id=\"patch_7\">\n    <path d=\"M 53.100625 128.09175 \nL 87.030295 128.09175 \nL 87.030295 114.23175 \nL 53.100625 114.23175 \nz\n\" clip-path=\"url(#p6ced791eeb)\" style=\"fill: #0071bc\"/>\n   </g>\n   <g id=\"patch_8\">\n    <path d=\"M 53.100625 100.37175 \nL 93.979746 100.37175 \nL 93.979746 86.51175 \nL 53.100625 86.51175 \nz\n\" clip-path=\"url(#p6ced791eeb)\" style=\"fill: #0071bc\"/>\n   </g>\n   <g id=\"patch_9\">\n    <path d=\"M 53.100625 72.65175 \nL 149.57535 72.65175 \nL 149.57535 58.79175 \nL 53.100625 58.79175 \nz\n\" clip-path=\"url(#p6ced791eeb)\" style=\"fill: #0071bc\"/>\n   </g>\n   <g id=\"patch_10\">\n    <path d=\"M 53.100625 44.93175 \nL 371.957768 44.93175 \nL 371.957768 31.07175 \nL 53.100625 31.07175 \nz\n\" clip-path=\"url(#p6ced791eeb)\" style=\"fill: #0071bc\"/>\n   </g>\n   <g id=\"matplotlib.axis_1\">\n    <g id=\"xtick_1\">\n     <g id=\"line2d_1\">\n      <defs>\n       <path id=\"m0ec692dc17\" d=\"M 0 0 \nL 0 3.5 \n\" style=\"stroke: #000000; stroke-width: 0.8\"/>\n      </defs>\n      <g>\n       <use xlink:href=\"#m0ec692dc17\" x=\"53.100625\" y=\"245.90175\" style=\"stroke: #000000; stroke-width: 0.8\"/>\n      </g>\n     </g>\n     <g id=\"text_1\">\n      <!-- 0 -->\n      <g transform=\"translate(49.283125 262.019875) scale(0.12 -0.12)\">\n       <defs>\n        <path id=\"DejaVuSans-30\" d=\"M 2034 4250 \nQ 1547 4250 1301 3770 \nQ 1056 3291 1056 2328 \nQ 1056 1369 1301 889 \nQ 1547 409 2034 409 \nQ 2525 409 2770 889 \nQ 3016 1369 3016 2328 \nQ 3016 3291 2770 3770 \nQ 2525 4250 2034 4250 \nz\nM 2034 4750 \nQ 2819 4750 3233 4129 \nQ 3647 3509 3647 2328 \nQ 3647 1150 3233 529 \nQ 2819 -91 2034 -91 \nQ 1250 -91 836 529 \nQ 422 1150 422 2328 \nQ 422 3509 836 4129 \nQ 1250 4750 2034 4750 \nz\n\" transform=\"scale(0.015625)\"/>\n       </defs>\n       <use xlink:href=\"#DejaVuSans-30\"/>\n      </g>\n     </g>\n    </g>\n    <g id=\"xtick_2\">\n     <g id=\"line2d_2\">\n      <g>\n       <use xlink:href=\"#m0ec692dc17\" x=\"93.979746\" y=\"245.90175\" style=\"stroke: #000000; stroke-width: 0.8\"/>\n      </g>\n     </g>\n     <g id=\"text_2\">\n      <!-- 100 -->\n      <g transform=\"translate(82.527246 262.019875) scale(0.12 -0.12)\">\n       <defs>\n        <path id=\"DejaVuSans-31\" d=\"M 794 531 \nL 1825 531 \nL 1825 4091 \nL 703 3866 \nL 703 4441 \nL 1819 4666 \nL 2450 4666 \nL 2450 531 \nL 3481 531 \nL 3481 0 \nL 794 0 \nL 794 531 \nz\n\" transform=\"scale(0.015625)\"/>\n       </defs>\n       <use xlink:href=\"#DejaVuSans-31\"/>\n       <use xlink:href=\"#DejaVuSans-30\" x=\"63.623047\"/>\n       <use xlink:href=\"#DejaVuSans-30\" x=\"127.246094\"/>\n      </g>\n     </g>\n    </g>\n    <g id=\"xtick_3\">\n     <g id=\"line2d_3\">\n      <g>\n       <use xlink:href=\"#m0ec692dc17\" x=\"134.858867\" y=\"245.90175\" style=\"stroke: #000000; stroke-width: 0.8\"/>\n      </g>\n     </g>\n     <g id=\"text_3\">\n      <!-- 200 -->\n      <g transform=\"translate(123.406367 262.019875) scale(0.12 -0.12)\">\n       <defs>\n        <path id=\"DejaVuSans-32\" d=\"M 1228 531 \nL 3431 531 \nL 3431 0 \nL 469 0 \nL 469 531 \nQ 828 903 1448 1529 \nQ 2069 2156 2228 2338 \nQ 2531 2678 2651 2914 \nQ 2772 3150 2772 3378 \nQ 2772 3750 2511 3984 \nQ 2250 4219 1831 4219 \nQ 1534 4219 1204 4116 \nQ 875 4013 500 3803 \nL 500 4441 \nQ 881 4594 1212 4672 \nQ 1544 4750 1819 4750 \nQ 2544 4750 2975 4387 \nQ 3406 4025 3406 3419 \nQ 3406 3131 3298 2873 \nQ 3191 2616 2906 2266 \nQ 2828 2175 2409 1742 \nQ 1991 1309 1228 531 \nz\n\" transform=\"scale(0.015625)\"/>\n       </defs>\n       <use xlink:href=\"#DejaVuSans-32\"/>\n       <use xlink:href=\"#DejaVuSans-30\" x=\"63.623047\"/>\n       <use xlink:href=\"#DejaVuSans-30\" x=\"127.246094\"/>\n      </g>\n     </g>\n    </g>\n    <g id=\"xtick_4\">\n     <g id=\"line2d_4\">\n      <g>\n       <use xlink:href=\"#m0ec692dc17\" x=\"175.737988\" y=\"245.90175\" style=\"stroke: #000000; stroke-width: 0.8\"/>\n      </g>\n     </g>\n     <g id=\"text_4\">\n      <!-- 300 -->\n      <g transform=\"translate(164.285488 262.019875) scale(0.12 -0.12)\">\n       <defs>\n        <path id=\"DejaVuSans-33\" d=\"M 2597 2516 \nQ 3050 2419 3304 2112 \nQ 3559 1806 3559 1356 \nQ 3559 666 3084 287 \nQ 2609 -91 1734 -91 \nQ 1441 -91 1130 -33 \nQ 819 25 488 141 \nL 488 750 \nQ 750 597 1062 519 \nQ 1375 441 1716 441 \nQ 2309 441 2620 675 \nQ 2931 909 2931 1356 \nQ 2931 1769 2642 2001 \nQ 2353 2234 1838 2234 \nL 1294 2234 \nL 1294 2753 \nL 1863 2753 \nQ 2328 2753 2575 2939 \nQ 2822 3125 2822 3475 \nQ 2822 3834 2567 4026 \nQ 2313 4219 1838 4219 \nQ 1578 4219 1281 4162 \nQ 984 4106 628 3988 \nL 628 4550 \nQ 988 4650 1302 4700 \nQ 1616 4750 1894 4750 \nQ 2613 4750 3031 4423 \nQ 3450 4097 3450 3541 \nQ 3450 3153 3228 2886 \nQ 3006 2619 2597 2516 \nz\n\" transform=\"scale(0.015625)\"/>\n       </defs>\n       <use xlink:href=\"#DejaVuSans-33\"/>\n       <use xlink:href=\"#DejaVuSans-30\" x=\"63.623047\"/>\n       <use xlink:href=\"#DejaVuSans-30\" x=\"127.246094\"/>\n      </g>\n     </g>\n    </g>\n    <g id=\"xtick_5\">\n     <g id=\"line2d_5\">\n      <g>\n       <use xlink:href=\"#m0ec692dc17\" x=\"216.617109\" y=\"245.90175\" style=\"stroke: #000000; stroke-width: 0.8\"/>\n      </g>\n     </g>\n     <g id=\"text_5\">\n      <!-- 400 -->\n      <g transform=\"translate(205.164609 262.019875) scale(0.12 -0.12)\">\n       <defs>\n        <path id=\"DejaVuSans-34\" d=\"M 2419 4116 \nL 825 1625 \nL 2419 1625 \nL 2419 4116 \nz\nM 2253 4666 \nL 3047 4666 \nL 3047 1625 \nL 3713 1625 \nL 3713 1100 \nL 3047 1100 \nL 3047 0 \nL 2419 0 \nL 2419 1100 \nL 313 1100 \nL 313 1709 \nL 2253 4666 \nz\n\" transform=\"scale(0.015625)\"/>\n       </defs>\n       <use xlink:href=\"#DejaVuSans-34\"/>\n       <use xlink:href=\"#DejaVuSans-30\" x=\"63.623047\"/>\n       <use xlink:href=\"#DejaVuSans-30\" x=\"127.246094\"/>\n      </g>\n     </g>\n    </g>\n    <g id=\"xtick_6\">\n     <g id=\"line2d_6\">\n      <g>\n       <use xlink:href=\"#m0ec692dc17\" x=\"257.496229\" y=\"245.90175\" style=\"stroke: #000000; stroke-width: 0.8\"/>\n      </g>\n     </g>\n     <g id=\"text_6\">\n      <!-- 500 -->\n      <g transform=\"translate(246.043729 262.019875) scale(0.12 -0.12)\">\n       <defs>\n        <path id=\"DejaVuSans-35\" d=\"M 691 4666 \nL 3169 4666 \nL 3169 4134 \nL 1269 4134 \nL 1269 2991 \nQ 1406 3038 1543 3061 \nQ 1681 3084 1819 3084 \nQ 2600 3084 3056 2656 \nQ 3513 2228 3513 1497 \nQ 3513 744 3044 326 \nQ 2575 -91 1722 -91 \nQ 1428 -91 1123 -41 \nQ 819 9 494 109 \nL 494 744 \nQ 775 591 1075 516 \nQ 1375 441 1709 441 \nQ 2250 441 2565 725 \nQ 2881 1009 2881 1497 \nQ 2881 1984 2565 2268 \nQ 2250 2553 1709 2553 \nQ 1456 2553 1204 2497 \nQ 953 2441 691 2322 \nL 691 4666 \nz\n\" transform=\"scale(0.015625)\"/>\n       </defs>\n       <use xlink:href=\"#DejaVuSans-35\"/>\n       <use xlink:href=\"#DejaVuSans-30\" x=\"63.623047\"/>\n       <use xlink:href=\"#DejaVuSans-30\" x=\"127.246094\"/>\n      </g>\n     </g>\n    </g>\n    <g id=\"xtick_7\">\n     <g id=\"line2d_7\">\n      <g>\n       <use xlink:href=\"#m0ec692dc17\" x=\"298.37535\" y=\"245.90175\" style=\"stroke: #000000; stroke-width: 0.8\"/>\n      </g>\n     </g>\n     <g id=\"text_7\">\n      <!-- 600 -->\n      <g transform=\"translate(286.92285 262.019875) scale(0.12 -0.12)\">\n       <defs>\n        <path id=\"DejaVuSans-36\" d=\"M 2113 2584 \nQ 1688 2584 1439 2293 \nQ 1191 2003 1191 1497 \nQ 1191 994 1439 701 \nQ 1688 409 2113 409 \nQ 2538 409 2786 701 \nQ 3034 994 3034 1497 \nQ 3034 2003 2786 2293 \nQ 2538 2584 2113 2584 \nz\nM 3366 4563 \nL 3366 3988 \nQ 3128 4100 2886 4159 \nQ 2644 4219 2406 4219 \nQ 1781 4219 1451 3797 \nQ 1122 3375 1075 2522 \nQ 1259 2794 1537 2939 \nQ 1816 3084 2150 3084 \nQ 2853 3084 3261 2657 \nQ 3669 2231 3669 1497 \nQ 3669 778 3244 343 \nQ 2819 -91 2113 -91 \nQ 1303 -91 875 529 \nQ 447 1150 447 2328 \nQ 447 3434 972 4092 \nQ 1497 4750 2381 4750 \nQ 2619 4750 2861 4703 \nQ 3103 4656 3366 4563 \nz\n\" transform=\"scale(0.015625)\"/>\n       </defs>\n       <use xlink:href=\"#DejaVuSans-36\"/>\n       <use xlink:href=\"#DejaVuSans-30\" x=\"63.623047\"/>\n       <use xlink:href=\"#DejaVuSans-30\" x=\"127.246094\"/>\n      </g>\n     </g>\n    </g>\n    <g id=\"xtick_8\">\n     <g id=\"line2d_8\">\n      <g>\n       <use xlink:href=\"#m0ec692dc17\" x=\"339.254471\" y=\"245.90175\" style=\"stroke: #000000; stroke-width: 0.8\"/>\n      </g>\n     </g>\n     <g id=\"text_8\">\n      <!-- 700 -->\n      <g transform=\"translate(327.801971 262.019875) scale(0.12 -0.12)\">\n       <defs>\n        <path id=\"DejaVuSans-37\" d=\"M 525 4666 \nL 3525 4666 \nL 3525 4397 \nL 1831 0 \nL 1172 0 \nL 2766 4134 \nL 525 4134 \nL 525 4666 \nz\n\" transform=\"scale(0.015625)\"/>\n       </defs>\n       <use xlink:href=\"#DejaVuSans-37\"/>\n       <use xlink:href=\"#DejaVuSans-30\" x=\"63.623047\"/>\n       <use xlink:href=\"#DejaVuSans-30\" x=\"127.246094\"/>\n      </g>\n     </g>\n    </g>\n    <g id=\"xtick_9\">\n     <g id=\"line2d_9\">\n      <g>\n       <use xlink:href=\"#m0ec692dc17\" x=\"380.133592\" y=\"245.90175\" style=\"stroke: #000000; stroke-width: 0.8\"/>\n      </g>\n     </g>\n     <g id=\"text_9\">\n      <!-- 800 -->\n      <g transform=\"translate(368.681092 262.019875) scale(0.12 -0.12)\">\n       <defs>\n        <path id=\"DejaVuSans-38\" d=\"M 2034 2216 \nQ 1584 2216 1326 1975 \nQ 1069 1734 1069 1313 \nQ 1069 891 1326 650 \nQ 1584 409 2034 409 \nQ 2484 409 2743 651 \nQ 3003 894 3003 1313 \nQ 3003 1734 2745 1975 \nQ 2488 2216 2034 2216 \nz\nM 1403 2484 \nQ 997 2584 770 2862 \nQ 544 3141 544 3541 \nQ 544 4100 942 4425 \nQ 1341 4750 2034 4750 \nQ 2731 4750 3128 4425 \nQ 3525 4100 3525 3541 \nQ 3525 3141 3298 2862 \nQ 3072 2584 2669 2484 \nQ 3125 2378 3379 2068 \nQ 3634 1759 3634 1313 \nQ 3634 634 3220 271 \nQ 2806 -91 2034 -91 \nQ 1263 -91 848 271 \nQ 434 634 434 1313 \nQ 434 1759 690 2068 \nQ 947 2378 1403 2484 \nz\nM 1172 3481 \nQ 1172 3119 1398 2916 \nQ 1625 2713 2034 2713 \nQ 2441 2713 2670 2916 \nQ 2900 3119 2900 3481 \nQ 2900 3844 2670 4047 \nQ 2441 4250 2034 4250 \nQ 1625 4250 1398 4047 \nQ 1172 3844 1172 3481 \nz\n\" transform=\"scale(0.015625)\"/>\n       </defs>\n       <use xlink:href=\"#DejaVuSans-38\"/>\n       <use xlink:href=\"#DejaVuSans-30\" x=\"63.623047\"/>\n       <use xlink:href=\"#DejaVuSans-30\" x=\"127.246094\"/>\n      </g>\n     </g>\n    </g>\n   </g>\n   <g id=\"matplotlib.axis_2\">\n    <g id=\"ytick_1\">\n     <g id=\"line2d_10\">\n      <defs>\n       <path id=\"m4bbb20c898\" d=\"M 0 0 \nL -3.5 0 \n\" style=\"stroke: #000000; stroke-width: 0.8\"/>\n      </defs>\n      <g>\n       <use xlink:href=\"#m4bbb20c898\" x=\"53.100625\" y=\"232.04175\" style=\"stroke: #000000; stroke-width: 0.8\"/>\n      </g>\n     </g>\n     <g id=\"text_10\">\n      <!-- Was -->\n      <g transform=\"translate(21.395625 236.600813) scale(0.12 -0.12)\">\n       <defs>\n        <path id=\"DejaVuSans-57\" d=\"M 213 4666 \nL 850 4666 \nL 1831 722 \nL 2809 4666 \nL 3519 4666 \nL 4500 722 \nL 5478 4666 \nL 6119 4666 \nL 4947 0 \nL 4153 0 \nL 3169 4050 \nL 2175 0 \nL 1381 0 \nL 213 4666 \nz\n\" transform=\"scale(0.015625)\"/>\n        <path id=\"DejaVuSans-61\" d=\"M 2194 1759 \nQ 1497 1759 1228 1600 \nQ 959 1441 959 1056 \nQ 959 750 1161 570 \nQ 1363 391 1709 391 \nQ 2188 391 2477 730 \nQ 2766 1069 2766 1631 \nL 2766 1759 \nL 2194 1759 \nz\nM 3341 1997 \nL 3341 0 \nL 2766 0 \nL 2766 531 \nQ 2569 213 2275 61 \nQ 1981 -91 1556 -91 \nQ 1019 -91 701 211 \nQ 384 513 384 1019 \nQ 384 1609 779 1909 \nQ 1175 2209 1959 2209 \nL 2766 2209 \nL 2766 2266 \nQ 2766 2663 2505 2880 \nQ 2244 3097 1772 3097 \nQ 1472 3097 1187 3025 \nQ 903 2953 641 2809 \nL 641 3341 \nQ 956 3463 1253 3523 \nQ 1550 3584 1831 3584 \nQ 2591 3584 2966 3190 \nQ 3341 2797 3341 1997 \nz\n\" transform=\"scale(0.015625)\"/>\n        <path id=\"DejaVuSans-73\" d=\"M 2834 3397 \nL 2834 2853 \nQ 2591 2978 2328 3040 \nQ 2066 3103 1784 3103 \nQ 1356 3103 1142 2972 \nQ 928 2841 928 2578 \nQ 928 2378 1081 2264 \nQ 1234 2150 1697 2047 \nL 1894 2003 \nQ 2506 1872 2764 1633 \nQ 3022 1394 3022 966 \nQ 3022 478 2636 193 \nQ 2250 -91 1575 -91 \nQ 1294 -91 989 -36 \nQ 684 19 347 128 \nL 347 722 \nQ 666 556 975 473 \nQ 1284 391 1588 391 \nQ 1994 391 2212 530 \nQ 2431 669 2431 922 \nQ 2431 1156 2273 1281 \nQ 2116 1406 1581 1522 \nL 1381 1569 \nQ 847 1681 609 1914 \nQ 372 2147 372 2553 \nQ 372 3047 722 3315 \nQ 1072 3584 1716 3584 \nQ 2034 3584 2315 3537 \nQ 2597 3491 2834 3397 \nz\n\" transform=\"scale(0.015625)\"/>\n       </defs>\n       <use xlink:href=\"#DejaVuSans-57\"/>\n       <use xlink:href=\"#DejaVuSans-61\" x=\"92.501953\"/>\n       <use xlink:href=\"#DejaVuSans-73\" x=\"153.78125\"/>\n      </g>\n     </g>\n    </g>\n    <g id=\"ytick_2\">\n     <g id=\"line2d_11\">\n      <g>\n       <use xlink:href=\"#m4bbb20c898\" x=\"53.100625\" y=\"204.32175\" style=\"stroke: #000000; stroke-width: 0.8\"/>\n      </g>\n     </g>\n     <g id=\"text_11\">\n      <!-- Why -->\n      <g transform=\"translate(19.528125 208.880813) scale(0.12 -0.12)\">\n       <defs>\n        <path id=\"DejaVuSans-68\" d=\"M 3513 2113 \nL 3513 0 \nL 2938 0 \nL 2938 2094 \nQ 2938 2591 2744 2837 \nQ 2550 3084 2163 3084 \nQ 1697 3084 1428 2787 \nQ 1159 2491 1159 1978 \nL 1159 0 \nL 581 0 \nL 581 4863 \nL 1159 4863 \nL 1159 2956 \nQ 1366 3272 1645 3428 \nQ 1925 3584 2291 3584 \nQ 2894 3584 3203 3211 \nQ 3513 2838 3513 2113 \nz\n\" transform=\"scale(0.015625)\"/>\n        <path id=\"DejaVuSans-79\" d=\"M 2059 -325 \nQ 1816 -950 1584 -1140 \nQ 1353 -1331 966 -1331 \nL 506 -1331 \nL 506 -850 \nL 844 -850 \nQ 1081 -850 1212 -737 \nQ 1344 -625 1503 -206 \nL 1606 56 \nL 191 3500 \nL 800 3500 \nL 1894 763 \nL 2988 3500 \nL 3597 3500 \nL 2059 -325 \nz\n\" transform=\"scale(0.015625)\"/>\n       </defs>\n       <use xlink:href=\"#DejaVuSans-57\"/>\n       <use xlink:href=\"#DejaVuSans-68\" x=\"98.876953\"/>\n       <use xlink:href=\"#DejaVuSans-79\" x=\"162.255859\"/>\n      </g>\n     </g>\n    </g>\n    <g id=\"ytick_3\">\n     <g id=\"line2d_12\">\n      <g>\n       <use xlink:href=\"#m4bbb20c898\" x=\"53.100625\" y=\"176.60175\" style=\"stroke: #000000; stroke-width: 0.8\"/>\n      </g>\n     </g>\n     <g id=\"text_12\">\n      <!-- Where -->\n      <g transform=\"translate(7.2 181.160813) scale(0.12 -0.12)\">\n       <defs>\n        <path id=\"DejaVuSans-65\" d=\"M 3597 1894 \nL 3597 1613 \nL 953 1613 \nQ 991 1019 1311 708 \nQ 1631 397 2203 397 \nQ 2534 397 2845 478 \nQ 3156 559 3463 722 \nL 3463 178 \nQ 3153 47 2828 -22 \nQ 2503 -91 2169 -91 \nQ 1331 -91 842 396 \nQ 353 884 353 1716 \nQ 353 2575 817 3079 \nQ 1281 3584 2069 3584 \nQ 2775 3584 3186 3129 \nQ 3597 2675 3597 1894 \nz\nM 3022 2063 \nQ 3016 2534 2758 2815 \nQ 2500 3097 2075 3097 \nQ 1594 3097 1305 2825 \nQ 1016 2553 972 2059 \nL 3022 2063 \nz\n\" transform=\"scale(0.015625)\"/>\n        <path id=\"DejaVuSans-72\" d=\"M 2631 2963 \nQ 2534 3019 2420 3045 \nQ 2306 3072 2169 3072 \nQ 1681 3072 1420 2755 \nQ 1159 2438 1159 1844 \nL 1159 0 \nL 581 0 \nL 581 3500 \nL 1159 3500 \nL 1159 2956 \nQ 1341 3275 1631 3429 \nQ 1922 3584 2338 3584 \nQ 2397 3584 2469 3576 \nQ 2541 3569 2628 3553 \nL 2631 2963 \nz\n\" transform=\"scale(0.015625)\"/>\n       </defs>\n       <use xlink:href=\"#DejaVuSans-57\"/>\n       <use xlink:href=\"#DejaVuSans-68\" x=\"98.876953\"/>\n       <use xlink:href=\"#DejaVuSans-65\" x=\"162.255859\"/>\n       <use xlink:href=\"#DejaVuSans-72\" x=\"223.779297\"/>\n       <use xlink:href=\"#DejaVuSans-65\" x=\"262.642578\"/>\n      </g>\n     </g>\n    </g>\n    <g id=\"ytick_4\">\n     <g id=\"line2d_13\">\n      <g>\n       <use xlink:href=\"#m4bbb20c898\" x=\"53.100625\" y=\"148.88175\" style=\"stroke: #000000; stroke-width: 0.8\"/>\n      </g>\n     </g>\n     <g id=\"text_13\">\n      <!-- Does -->\n      <g transform=\"translate(15.883125 153.440813) scale(0.12 -0.12)\">\n       <defs>\n        <path id=\"DejaVuSans-44\" d=\"M 1259 4147 \nL 1259 519 \nL 2022 519 \nQ 2988 519 3436 956 \nQ 3884 1394 3884 2338 \nQ 3884 3275 3436 3711 \nQ 2988 4147 2022 4147 \nL 1259 4147 \nz\nM 628 4666 \nL 1925 4666 \nQ 3281 4666 3915 4102 \nQ 4550 3538 4550 2338 \nQ 4550 1131 3912 565 \nQ 3275 0 1925 0 \nL 628 0 \nL 628 4666 \nz\n\" transform=\"scale(0.015625)\"/>\n        <path id=\"DejaVuSans-6f\" d=\"M 1959 3097 \nQ 1497 3097 1228 2736 \nQ 959 2375 959 1747 \nQ 959 1119 1226 758 \nQ 1494 397 1959 397 \nQ 2419 397 2687 759 \nQ 2956 1122 2956 1747 \nQ 2956 2369 2687 2733 \nQ 2419 3097 1959 3097 \nz\nM 1959 3584 \nQ 2709 3584 3137 3096 \nQ 3566 2609 3566 1747 \nQ 3566 888 3137 398 \nQ 2709 -91 1959 -91 \nQ 1206 -91 779 398 \nQ 353 888 353 1747 \nQ 353 2609 779 3096 \nQ 1206 3584 1959 3584 \nz\n\" transform=\"scale(0.015625)\"/>\n       </defs>\n       <use xlink:href=\"#DejaVuSans-44\"/>\n       <use xlink:href=\"#DejaVuSans-6f\" x=\"77.001953\"/>\n       <use xlink:href=\"#DejaVuSans-65\" x=\"138.183594\"/>\n       <use xlink:href=\"#DejaVuSans-73\" x=\"199.707031\"/>\n      </g>\n     </g>\n    </g>\n    <g id=\"ytick_5\">\n     <g id=\"line2d_14\">\n      <g>\n       <use xlink:href=\"#m4bbb20c898\" x=\"53.100625\" y=\"121.16175\" style=\"stroke: #000000; stroke-width: 0.8\"/>\n      </g>\n     </g>\n     <g id=\"text_14\">\n      <!-- Do -->\n      <g transform=\"translate(29.518125 125.720813) scale(0.12 -0.12)\">\n       <use xlink:href=\"#DejaVuSans-44\"/>\n       <use xlink:href=\"#DejaVuSans-6f\" x=\"77.001953\"/>\n      </g>\n     </g>\n    </g>\n    <g id=\"ytick_6\">\n     <g id=\"line2d_15\">\n      <g>\n       <use xlink:href=\"#m4bbb20c898\" x=\"53.100625\" y=\"93.44175\" style=\"stroke: #000000; stroke-width: 0.8\"/>\n      </g>\n     </g>\n     <g id=\"text_15\">\n      <!-- Is -->\n      <g transform=\"translate(36.309375 98.000813) scale(0.12 -0.12)\">\n       <defs>\n        <path id=\"DejaVuSans-49\" d=\"M 628 4666 \nL 1259 4666 \nL 1259 0 \nL 628 0 \nL 628 4666 \nz\n\" transform=\"scale(0.015625)\"/>\n       </defs>\n       <use xlink:href=\"#DejaVuSans-49\"/>\n       <use xlink:href=\"#DejaVuSans-73\" x=\"29.492188\"/>\n      </g>\n     </g>\n    </g>\n    <g id=\"ytick_7\">\n     <g id=\"line2d_16\">\n      <g>\n       <use xlink:href=\"#m4bbb20c898\" x=\"53.100625\" y=\"65.72175\" style=\"stroke: #000000; stroke-width: 0.8\"/>\n      </g>\n     </g>\n     <g id=\"text_16\">\n      <!-- What -->\n      <g transform=\"translate(14.5725 70.280813) scale(0.12 -0.12)\">\n       <defs>\n        <path id=\"DejaVuSans-74\" d=\"M 1172 4494 \nL 1172 3500 \nL 2356 3500 \nL 2356 3053 \nL 1172 3053 \nL 1172 1153 \nQ 1172 725 1289 603 \nQ 1406 481 1766 481 \nL 2356 481 \nL 2356 0 \nL 1766 0 \nQ 1100 0 847 248 \nQ 594 497 594 1153 \nL 594 3053 \nL 172 3053 \nL 172 3500 \nL 594 3500 \nL 594 4494 \nL 1172 4494 \nz\n\" transform=\"scale(0.015625)\"/>\n       </defs>\n       <use xlink:href=\"#DejaVuSans-57\"/>\n       <use xlink:href=\"#DejaVuSans-68\" x=\"98.876953\"/>\n       <use xlink:href=\"#DejaVuSans-61\" x=\"162.255859\"/>\n       <use xlink:href=\"#DejaVuSans-74\" x=\"223.535156\"/>\n      </g>\n     </g>\n    </g>\n    <g id=\"ytick_8\">\n     <g id=\"line2d_17\">\n      <g>\n       <use xlink:href=\"#m4bbb20c898\" x=\"53.100625\" y=\"38.00175\" style=\"stroke: #000000; stroke-width: 0.8\"/>\n      </g>\n     </g>\n     <g id=\"text_17\">\n      <!-- How -->\n      <g transform=\"translate(19.92 42.560813) scale(0.12 -0.12)\">\n       <defs>\n        <path id=\"DejaVuSans-48\" d=\"M 628 4666 \nL 1259 4666 \nL 1259 2753 \nL 3553 2753 \nL 3553 4666 \nL 4184 4666 \nL 4184 0 \nL 3553 0 \nL 3553 2222 \nL 1259 2222 \nL 1259 0 \nL 628 0 \nL 628 4666 \nz\n\" transform=\"scale(0.015625)\"/>\n        <path id=\"DejaVuSans-77\" d=\"M 269 3500 \nL 844 3500 \nL 1563 769 \nL 2278 3500 \nL 2956 3500 \nL 3675 769 \nL 4391 3500 \nL 4966 3500 \nL 4050 0 \nL 3372 0 \nL 2619 2869 \nL 1863 0 \nL 1184 0 \nL 269 3500 \nz\n\" transform=\"scale(0.015625)\"/>\n       </defs>\n       <use xlink:href=\"#DejaVuSans-48\"/>\n       <use xlink:href=\"#DejaVuSans-6f\" x=\"75.195312\"/>\n       <use xlink:href=\"#DejaVuSans-77\" x=\"136.376953\"/>\n      </g>\n     </g>\n    </g>\n   </g>\n   <g id=\"patch_11\">\n    <path d=\"M 53.100625 245.90175 \nL 53.100625 24.14175 \n\" style=\"fill: none; stroke: #000000; stroke-width: 0.8; stroke-linejoin: miter; stroke-linecap: square\"/>\n   </g>\n   <g id=\"patch_12\">\n    <path d=\"M 387.900625 245.90175 \nL 387.900625 24.14175 \n\" style=\"fill: none; stroke: #000000; stroke-width: 0.8; stroke-linejoin: miter; stroke-linecap: square\"/>\n   </g>\n   <g id=\"patch_13\">\n    <path d=\"M 53.100625 245.90175 \nL 387.900625 245.90175 \n\" style=\"fill: none; stroke: #000000; stroke-width: 0.8; stroke-linejoin: miter; stroke-linecap: square\"/>\n   </g>\n   <g id=\"patch_14\">\n    <path d=\"M 53.100625 24.14175 \nL 387.900625 24.14175 \n\" style=\"fill: none; stroke: #000000; stroke-width: 0.8; stroke-linejoin: miter; stroke-linecap: square\"/>\n   </g>\n   <g id=\"text_18\">\n    <!-- Frequency of Question Types -->\n    <g transform=\"translate(117.011875 18.14175) scale(0.144 -0.144)\">\n     <defs>\n      <path id=\"DejaVuSans-46\" d=\"M 628 4666 \nL 3309 4666 \nL 3309 4134 \nL 1259 4134 \nL 1259 2759 \nL 3109 2759 \nL 3109 2228 \nL 1259 2228 \nL 1259 0 \nL 628 0 \nL 628 4666 \nz\n\" transform=\"scale(0.015625)\"/>\n      <path id=\"DejaVuSans-71\" d=\"M 947 1747 \nQ 947 1113 1208 752 \nQ 1469 391 1925 391 \nQ 2381 391 2643 752 \nQ 2906 1113 2906 1747 \nQ 2906 2381 2643 2742 \nQ 2381 3103 1925 3103 \nQ 1469 3103 1208 2742 \nQ 947 2381 947 1747 \nz\nM 2906 525 \nQ 2725 213 2448 61 \nQ 2172 -91 1784 -91 \nQ 1150 -91 751 415 \nQ 353 922 353 1747 \nQ 353 2572 751 3078 \nQ 1150 3584 1784 3584 \nQ 2172 3584 2448 3432 \nQ 2725 3281 2906 2969 \nL 2906 3500 \nL 3481 3500 \nL 3481 -1331 \nL 2906 -1331 \nL 2906 525 \nz\n\" transform=\"scale(0.015625)\"/>\n      <path id=\"DejaVuSans-75\" d=\"M 544 1381 \nL 544 3500 \nL 1119 3500 \nL 1119 1403 \nQ 1119 906 1312 657 \nQ 1506 409 1894 409 \nQ 2359 409 2629 706 \nQ 2900 1003 2900 1516 \nL 2900 3500 \nL 3475 3500 \nL 3475 0 \nL 2900 0 \nL 2900 538 \nQ 2691 219 2414 64 \nQ 2138 -91 1772 -91 \nQ 1169 -91 856 284 \nQ 544 659 544 1381 \nz\nM 1991 3584 \nL 1991 3584 \nz\n\" transform=\"scale(0.015625)\"/>\n      <path id=\"DejaVuSans-6e\" d=\"M 3513 2113 \nL 3513 0 \nL 2938 0 \nL 2938 2094 \nQ 2938 2591 2744 2837 \nQ 2550 3084 2163 3084 \nQ 1697 3084 1428 2787 \nQ 1159 2491 1159 1978 \nL 1159 0 \nL 581 0 \nL 581 3500 \nL 1159 3500 \nL 1159 2956 \nQ 1366 3272 1645 3428 \nQ 1925 3584 2291 3584 \nQ 2894 3584 3203 3211 \nQ 3513 2838 3513 2113 \nz\n\" transform=\"scale(0.015625)\"/>\n      <path id=\"DejaVuSans-63\" d=\"M 3122 3366 \nL 3122 2828 \nQ 2878 2963 2633 3030 \nQ 2388 3097 2138 3097 \nQ 1578 3097 1268 2742 \nQ 959 2388 959 1747 \nQ 959 1106 1268 751 \nQ 1578 397 2138 397 \nQ 2388 397 2633 464 \nQ 2878 531 3122 666 \nL 3122 134 \nQ 2881 22 2623 -34 \nQ 2366 -91 2075 -91 \nQ 1284 -91 818 406 \nQ 353 903 353 1747 \nQ 353 2603 823 3093 \nQ 1294 3584 2113 3584 \nQ 2378 3584 2631 3529 \nQ 2884 3475 3122 3366 \nz\n\" transform=\"scale(0.015625)\"/>\n      <path id=\"DejaVuSans-20\" transform=\"scale(0.015625)\"/>\n      <path id=\"DejaVuSans-66\" d=\"M 2375 4863 \nL 2375 4384 \nL 1825 4384 \nQ 1516 4384 1395 4259 \nQ 1275 4134 1275 3809 \nL 1275 3500 \nL 2222 3500 \nL 2222 3053 \nL 1275 3053 \nL 1275 0 \nL 697 0 \nL 697 3053 \nL 147 3053 \nL 147 3500 \nL 697 3500 \nL 697 3744 \nQ 697 4328 969 4595 \nQ 1241 4863 1831 4863 \nL 2375 4863 \nz\n\" transform=\"scale(0.015625)\"/>\n      <path id=\"DejaVuSans-51\" d=\"M 2522 4238 \nQ 1834 4238 1429 3725 \nQ 1025 3213 1025 2328 \nQ 1025 1447 1429 934 \nQ 1834 422 2522 422 \nQ 3209 422 3611 934 \nQ 4013 1447 4013 2328 \nQ 4013 3213 3611 3725 \nQ 3209 4238 2522 4238 \nz\nM 3406 84 \nL 4238 -825 \nL 3475 -825 \nL 2784 -78 \nQ 2681 -84 2626 -87 \nQ 2572 -91 2522 -91 \nQ 1538 -91 948 567 \nQ 359 1225 359 2328 \nQ 359 3434 948 4092 \nQ 1538 4750 2522 4750 \nQ 3503 4750 4090 4092 \nQ 4678 3434 4678 2328 \nQ 4678 1516 4351 937 \nQ 4025 359 3406 84 \nz\n\" transform=\"scale(0.015625)\"/>\n      <path id=\"DejaVuSans-69\" d=\"M 603 3500 \nL 1178 3500 \nL 1178 0 \nL 603 0 \nL 603 3500 \nz\nM 603 4863 \nL 1178 4863 \nL 1178 4134 \nL 603 4134 \nL 603 4863 \nz\n\" transform=\"scale(0.015625)\"/>\n      <path id=\"DejaVuSans-54\" d=\"M -19 4666 \nL 3928 4666 \nL 3928 4134 \nL 2272 4134 \nL 2272 0 \nL 1638 0 \nL 1638 4134 \nL -19 4134 \nL -19 4666 \nz\n\" transform=\"scale(0.015625)\"/>\n      <path id=\"DejaVuSans-70\" d=\"M 1159 525 \nL 1159 -1331 \nL 581 -1331 \nL 581 3500 \nL 1159 3500 \nL 1159 2969 \nQ 1341 3281 1617 3432 \nQ 1894 3584 2278 3584 \nQ 2916 3584 3314 3078 \nQ 3713 2572 3713 1747 \nQ 3713 922 3314 415 \nQ 2916 -91 2278 -91 \nQ 1894 -91 1617 61 \nQ 1341 213 1159 525 \nz\nM 3116 1747 \nQ 3116 2381 2855 2742 \nQ 2594 3103 2138 3103 \nQ 1681 3103 1420 2742 \nQ 1159 2381 1159 1747 \nQ 1159 1113 1420 752 \nQ 1681 391 2138 391 \nQ 2594 391 2855 752 \nQ 3116 1113 3116 1747 \nz\n\" transform=\"scale(0.015625)\"/>\n     </defs>\n     <use xlink:href=\"#DejaVuSans-46\"/>\n     <use xlink:href=\"#DejaVuSans-72\" x=\"50.269531\"/>\n     <use xlink:href=\"#DejaVuSans-65\" x=\"89.132812\"/>\n     <use xlink:href=\"#DejaVuSans-71\" x=\"150.65625\"/>\n     <use xlink:href=\"#DejaVuSans-75\" x=\"214.132812\"/>\n     <use xlink:href=\"#DejaVuSans-65\" x=\"277.511719\"/>\n     <use xlink:href=\"#DejaVuSans-6e\" x=\"339.035156\"/>\n     <use xlink:href=\"#DejaVuSans-63\" x=\"402.414062\"/>\n     <use xlink:href=\"#DejaVuSans-79\" x=\"457.394531\"/>\n     <use xlink:href=\"#DejaVuSans-20\" x=\"516.574219\"/>\n     <use xlink:href=\"#DejaVuSans-6f\" x=\"548.361328\"/>\n     <use xlink:href=\"#DejaVuSans-66\" x=\"609.542969\"/>\n     <use xlink:href=\"#DejaVuSans-20\" x=\"644.748047\"/>\n     <use xlink:href=\"#DejaVuSans-51\" x=\"676.535156\"/>\n     <use xlink:href=\"#DejaVuSans-75\" x=\"755.246094\"/>\n     <use xlink:href=\"#DejaVuSans-65\" x=\"818.625\"/>\n     <use xlink:href=\"#DejaVuSans-73\" x=\"880.148438\"/>\n     <use xlink:href=\"#DejaVuSans-74\" x=\"932.248047\"/>\n     <use xlink:href=\"#DejaVuSans-69\" x=\"971.457031\"/>\n     <use xlink:href=\"#DejaVuSans-6f\" x=\"999.240234\"/>\n     <use xlink:href=\"#DejaVuSans-6e\" x=\"1060.421875\"/>\n     <use xlink:href=\"#DejaVuSans-20\" x=\"1123.800781\"/>\n     <use xlink:href=\"#DejaVuSans-54\" x=\"1155.587891\"/>\n     <use xlink:href=\"#DejaVuSans-79\" x=\"1201.046875\"/>\n     <use xlink:href=\"#DejaVuSans-70\" x=\"1260.226562\"/>\n     <use xlink:href=\"#DejaVuSans-65\" x=\"1323.703125\"/>\n     <use xlink:href=\"#DejaVuSans-73\" x=\"1385.226562\"/>\n    </g>\n   </g>\n  </g>\n </g>\n <defs>\n  <clipPath id=\"p6ced791eeb\">\n   <rect x=\"53.100625\" y=\"24.14175\" width=\"334.8\" height=\"221.76\"/>\n  </clipPath>\n </defs>\n</svg>\n",
            "application/pdf": "[encoded data removed]"
          },
          "metadata": {}
        }
      ],
      "source": [
        "counts = {}\n",
        "question_types = [\"What\", \"How\", \"Is\", \"Does\", \"Do\", \"Was\", \"Where\", \"Why\"]\n",
        "\n",
        "for q in question_types:\n",
        "    counts[q] = dfs[\"train\"][\"question\"].str.startswith(q).value_counts()[True]\n",
        "\n",
        "pd.Series(counts).sort_values().plot.barh()\n",
        "plt.title(\"Frequency of Question Types\")\n",
        "plt.show()"
      ]
    },
    {
      "cell_type": "code",
      "execution_count": 12,
      "metadata": {
        "colab": {
          "base_uri": "https://localhost:8080/"
        },
        "id": "uy0g5ZSc6t1h",
        "outputId": "6d578b0e-b9d3-4905-ffce-0573e98a4a85"
      },
      "outputs": [
        {
          "output_type": "stream",
          "name": "stdout",
          "text": [
            "How is the camera?\n",
            "How do you like the control?\n",
            "How fast is the charger?\n",
            "What is direction?\n",
            "What is the quality of the construction of the bag?\n",
            "What is your impression of the product?\n",
            "Is this how zoom works?\n",
            "Is sound clear?\n",
            "Is it a wireless keyboard?\n"
          ]
        }
      ],
      "source": [
        "for question_type in [\"How\", \"What\", \"Is\"]:\n",
        "    for question in (\n",
        "        dfs[\"train\"][dfs[\"train\"].question.str.startswith(question_type)]\n",
        "        .sample(n=3, random_state=42)['question']):\n",
        "        print(question)"
      ]
    },
    {
      "cell_type": "markdown",
      "metadata": {
        "id": "TzIA52ea6t1i"
      },
      "source": [
        "### Sidebar: The Stanford Question Answering Dataset"
      ]
    },
    {
      "cell_type": "markdown",
      "metadata": {
        "id": "ksoORLzLZf9L"
      },
      "source": [
        "<img alt=\"SQuAD SotA\" width=\"600\" caption=\"Progress on the SQuAD 2.0 benchmark (image from Papers with Code)\" src=\"https://github.com/nlp-with-transformers/notebooks/blob/main/images/chapter07_squad-sota.png?raw=1\" id=\"squad-sota\"/>"
      ]
    },
    {
      "cell_type": "markdown",
      "metadata": {
        "id": "wj72_19C6t1i"
      },
      "source": [
        "### End sidebar"
      ]
    },
    {
      "cell_type": "markdown",
      "metadata": {
        "id": "ByNoWFhA6t1i"
      },
      "source": [
        "### Extracting Answers from Text"
      ]
    },
    {
      "cell_type": "markdown",
      "metadata": {
        "id": "kdRfEat-6t1i"
      },
      "source": [
        "#### Span classification"
      ]
    },
    {
      "cell_type": "markdown",
      "metadata": {
        "id": "ukPap2DpZf9L"
      },
      "source": [
        "<img alt=\"QA Head\" caption=\"The span classification head for QA tasks\" src=\"https://github.com/nlp-with-transformers/notebooks/blob/main/images/chapter07_qa-head.png?raw=1\" id=\"qa-head\"/>"
      ]
    },
    {
      "cell_type": "markdown",
      "metadata": {
        "id": "W6hPLBCBZf9L"
      },
      "source": [
        "<img alt=\"SQuAD models\" width=\"600\" caption=\"A selection of extractive QA models on the Hugging Face Hub\" src=\"https://github.com/nlp-with-transformers/notebooks/blob/main/images/chapter07_squad-models.png?raw=1\" id=\"squad-models\"/>"
      ]
    },
    {
      "cell_type": "markdown",
      "metadata": {
        "id": "qOa8m1ol6t1i"
      },
      "source": [
        "#### Tokenizing text for QA"
      ]
    },
    {
      "cell_type": "code",
      "execution_count": 13,
      "metadata": {
        "colab": {
          "base_uri": "https://localhost:8080/",
          "height": 200,
          "referenced_widgets": [
            "e38d52ad3fc24f5fa5d8ca9200e22c21",
            "94a24fe6e24a4a9398ac843b9b7f4d77",
            "758643df9f244a7b9f14851fcd10dd7d",
            "41ea7e175c1a4c50a067c2f76c319afc",
            "a1e4c13c3ffc48bc992d8ff91565d626",
            "22a9f64065b549ab943a1fa6cc1e88f1",
            "331cdef044604459b0cfc726a5351db2",
            "143dd68d6ab047779ae3f622bf4e2fec",
            "146fb5dfd5b44acba9fa0e626019a822",
            "ccaa4c8c131b4ea2b9ed0410042e4b8b",
            "ac922dd7a8474028bee706ef23b23c65",
            "f776a6551b264aab89956b3aea23c598",
            "79b138204dd34493ba02b3992ad08ec3",
            "2f57665daa024b07b12647588044007d",
            "33089ff5ab8341758c2c5cf172a8928b",
            "29e13f5efca94601ae36ff387075a44b",
            "980c389f4ffa474ea0ef3dd963e052d3",
            "e2e724fc3e7846108a7f04b9d6ff1cf1",
            "889d6a3ce0ff48059bbdc1ab434aa2b0",
            "b32a7c600e56438994122716c9f8011c",
            "6355864cd4574dc587de3bf17595c03e",
            "45b667b6c9944cf0a15e03a876c38169",
            "3bea4699cc2e4f468352be44f29c47c2",
            "3975046ff3844cc4bdd1ff71deb53fc9",
            "48744f3dc5a74d16b69123b9699ac1e2",
            "f8fbdcd8f97d44db912bb4c910f0b488",
            "1d078fe28d414b3bb6e6a5df2d486b99",
            "81cc131781ad4d089eb913074e6735ee",
            "4a0c06aedadc419fb9a1ad1ce1dcd53b",
            "c8f82261a30344fbbe70742b01f4e542",
            "3c5ef3b6b32c4685a64d1e5559c0fd62",
            "fc7699d6ef424c0c95f670e4aa0c4f74",
            "a3c34f18153c45e381e68ed2a5cb0f0b",
            "44e427f57ab34e80baf10713c56d8036",
            "0ebb2906e7c54f7485d90330733ee597",
            "29153a41f10343a5a703058b6e74fc95",
            "c74127b1cb7f49579832ebb39ddf3960",
            "87b8e16796b94f8e92072834bf940fba",
            "eb8139f187c5478db57f8801e3ab3e50",
            "272bc12e184a434b8d76fb6fdc32b82d",
            "117e392abfaf4fdbaab314ba0e53c82a",
            "f90ff28a663a4077bd7bd18c31f94d7c",
            "4ebe4d358b5f448daa12d5adae38e587",
            "9223d0d4512a4c9aa76ef8d19a327b29"
          ]
        },
        "id": "ZcG1HUjA6t1i",
        "outputId": "226d9e30-1655-4306-f1d1-bc1e53098daa"
      },
      "outputs": [
        {
          "output_type": "display_data",
          "data": {
            "text/plain": [
              "tokenizer_config.json:   0%|          | 0.00/107 [00:00<?, ?B/s]"
            ],
            "application/vnd.jupyter.widget-view+json": {
              "version_major": 2,
              "version_minor": 0,
              "model_id": "e38d52ad3fc24f5fa5d8ca9200e22c21"
            }
          },
          "metadata": {}
        },
        {
          "output_type": "stream",
          "name": "stderr",
          "text": [
            "/usr/local/lib/python3.10/dist-packages/huggingface_hub/file_download.py:1132: FutureWarning: `resume_download` is deprecated and will be removed in version 1.0.0. Downloads always resume when possible. If you want to force a new download, use `force_download=True`.\n",
            "  warnings.warn(\n"
          ]
        },
        {
          "output_type": "display_data",
          "data": {
            "text/plain": [
              "config.json:   0%|          | 0.00/477 [00:00<?, ?B/s]"
            ],
            "application/vnd.jupyter.widget-view+json": {
              "version_major": 2,
              "version_minor": 0,
              "model_id": "f776a6551b264aab89956b3aea23c598"
            }
          },
          "metadata": {}
        },
        {
          "output_type": "display_data",
          "data": {
            "text/plain": [
              "vocab.txt:   0%|          | 0.00/232k [00:00<?, ?B/s]"
            ],
            "application/vnd.jupyter.widget-view+json": {
              "version_major": 2,
              "version_minor": 0,
              "model_id": "3bea4699cc2e4f468352be44f29c47c2"
            }
          },
          "metadata": {}
        },
        {
          "output_type": "display_data",
          "data": {
            "text/plain": [
              "special_tokens_map.json:   0%|          | 0.00/112 [00:00<?, ?B/s]"
            ],
            "application/vnd.jupyter.widget-view+json": {
              "version_major": 2,
              "version_minor": 0,
              "model_id": "44e427f57ab34e80baf10713c56d8036"
            }
          },
          "metadata": {}
        }
      ],
      "source": [
        "from transformers import AutoTokenizer\n",
        "\n",
        "model_ckpt = \"deepset/minilm-uncased-squad2\"\n",
        "tokenizer = AutoTokenizer.from_pretrained(model_ckpt)"
      ]
    },
    {
      "cell_type": "code",
      "execution_count": 14,
      "metadata": {
        "id": "ioMxlN4p6t1i"
      },
      "outputs": [],
      "source": [
        "question = \"How much music can this hold?\"\n",
        "context = \"\"\"An MP3 is about 1 MB/minute, so about 6000 hours depending on \\\n",
        "file size.\"\"\"\n",
        "inputs = tokenizer(question, context, return_tensors=\"pt\")"
      ]
    },
    {
      "cell_type": "code",
      "execution_count": 15,
      "metadata": {
        "colab": {
          "base_uri": "https://localhost:8080/",
          "height": 173
        },
        "id": "THbiRH1X6t1j",
        "outputId": "f460c609-f82e-4afa-d080-57d5c761011b"
      },
      "outputs": [
        {
          "output_type": "execute_result",
          "data": {
            "text/plain": [
              "                 0     1     2     3     4     5     6     7    8     9   ...  \\\n",
              "input_ids       101  2129  2172  2189  2064  2023  2907  1029  102  2019  ...   \n",
              "token_type_ids    0     0     0     0     0     0     0     0    0     1  ...   \n",
              "attention_mask    1     1     1     1     1     1     1     1    1     1  ...   \n",
              "\n",
              "                  18    19     20    21    22    23    24    25    26   27  \n",
              "input_ids       2061  2055  25961  2847  5834  2006  5371  2946  1012  102  \n",
              "token_type_ids     1     1      1     1     1     1     1     1     1    1  \n",
              "attention_mask     1     1      1     1     1     1     1     1     1    1  \n",
              "\n",
              "[3 rows x 28 columns]"
            ],
            "text/html": [
              "\n",
              "  <div id=\"df-7bd266e0-a70d-4ef9-bf72-75e798caee1d\" class=\"colab-df-container\">\n",
              "    <div>\n",
              "<style scoped>\n",
              "    .dataframe tbody tr th:only-of-type {\n",
              "        vertical-align: middle;\n",
              "    }\n",
              "\n",
              "    .dataframe tbody tr th {\n",
              "        vertical-align: top;\n",
              "    }\n",
              "\n",
              "    .dataframe thead th {\n",
              "        text-align: right;\n",
              "    }\n",
              "</style>\n",
              "<table border=\"1\" class=\"dataframe\">\n",
              "  <thead>\n",
              "    <tr style=\"text-align: right;\">\n",
              "      <th></th>\n",
              "      <th>0</th>\n",
              "      <th>1</th>\n",
              "      <th>2</th>\n",
              "      <th>3</th>\n",
              "      <th>4</th>\n",
              "      <th>5</th>\n",
              "      <th>6</th>\n",
              "      <th>7</th>\n",
              "      <th>8</th>\n",
              "      <th>9</th>\n",
              "      <th>...</th>\n",
              "      <th>18</th>\n",
              "      <th>19</th>\n",
              "      <th>20</th>\n",
              "      <th>21</th>\n",
              "      <th>22</th>\n",
              "      <th>23</th>\n",
              "      <th>24</th>\n",
              "      <th>25</th>\n",
              "      <th>26</th>\n",
              "      <th>27</th>\n",
              "    </tr>\n",
              "  </thead>\n",
              "  <tbody>\n",
              "    <tr>\n",
              "      <th>input_ids</th>\n",
              "      <td>101</td>\n",
              "      <td>2129</td>\n",
              "      <td>2172</td>\n",
              "      <td>2189</td>\n",
              "      <td>2064</td>\n",
              "      <td>2023</td>\n",
              "      <td>2907</td>\n",
              "      <td>1029</td>\n",
              "      <td>102</td>\n",
              "      <td>2019</td>\n",
              "      <td>...</td>\n",
              "      <td>2061</td>\n",
              "      <td>2055</td>\n",
              "      <td>25961</td>\n",
              "      <td>2847</td>\n",
              "      <td>5834</td>\n",
              "      <td>2006</td>\n",
              "      <td>5371</td>\n",
              "      <td>2946</td>\n",
              "      <td>1012</td>\n",
              "      <td>102</td>\n",
              "    </tr>\n",
              "    <tr>\n",
              "      <th>token_type_ids</th>\n",
              "      <td>0</td>\n",
              "      <td>0</td>\n",
              "      <td>0</td>\n",
              "      <td>0</td>\n",
              "      <td>0</td>\n",
              "      <td>0</td>\n",
              "      <td>0</td>\n",
              "      <td>0</td>\n",
              "      <td>0</td>\n",
              "      <td>1</td>\n",
              "      <td>...</td>\n",
              "      <td>1</td>\n",
              "      <td>1</td>\n",
              "      <td>1</td>\n",
              "      <td>1</td>\n",
              "      <td>1</td>\n",
              "      <td>1</td>\n",
              "      <td>1</td>\n",
              "      <td>1</td>\n",
              "      <td>1</td>\n",
              "      <td>1</td>\n",
              "    </tr>\n",
              "    <tr>\n",
              "      <th>attention_mask</th>\n",
              "      <td>1</td>\n",
              "      <td>1</td>\n",
              "      <td>1</td>\n",
              "      <td>1</td>\n",
              "      <td>1</td>\n",
              "      <td>1</td>\n",
              "      <td>1</td>\n",
              "      <td>1</td>\n",
              "      <td>1</td>\n",
              "      <td>1</td>\n",
              "      <td>...</td>\n",
              "      <td>1</td>\n",
              "      <td>1</td>\n",
              "      <td>1</td>\n",
              "      <td>1</td>\n",
              "      <td>1</td>\n",
              "      <td>1</td>\n",
              "      <td>1</td>\n",
              "      <td>1</td>\n",
              "      <td>1</td>\n",
              "      <td>1</td>\n",
              "    </tr>\n",
              "  </tbody>\n",
              "</table>\n",
              "<p>3 rows × 28 columns</p>\n",
              "</div>\n",
              "    <div class=\"colab-df-buttons\">\n",
              "\n",
              "  <div class=\"colab-df-container\">\n",
              "    <button class=\"colab-df-convert\" onclick=\"convertToInteractive('df-7bd266e0-a70d-4ef9-bf72-75e798caee1d')\"\n",
              "            title=\"Convert this dataframe to an interactive table.\"\n",
              "            style=\"display:none;\">\n",
              "\n",
              "  <svg xmlns=\"http://www.w3.org/2000/svg\" height=\"24px\" viewBox=\"0 -960 960 960\">\n",
              "    <path d=\"M120-120v-720h720v720H120Zm60-500h600v-160H180v160Zm220 220h160v-160H400v160Zm0 220h160v-160H400v160ZM180-400h160v-160H180v160Zm440 0h160v-160H620v160ZM180-180h160v-160H180v160Zm440 0h160v-160H620v160Z\"/>\n",
              "  </svg>\n",
              "    </button>\n",
              "\n",
              "  <style>\n",
              "    .colab-df-container {\n",
              "      display:flex;\n",
              "      gap: 12px;\n",
              "    }\n",
              "\n",
              "    .colab-df-convert {\n",
              "      background-color: #E8F0FE;\n",
              "      border: none;\n",
              "      border-radius: 50%;\n",
              "      cursor: pointer;\n",
              "      display: none;\n",
              "      fill: #1967D2;\n",
              "      height: 32px;\n",
              "      padding: 0 0 0 0;\n",
              "      width: 32px;\n",
              "    }\n",
              "\n",
              "    .colab-df-convert:hover {\n",
              "      background-color: #E2EBFA;\n",
              "      box-shadow: 0px 1px 2px rgba(60, 64, 67, 0.3), 0px 1px 3px 1px rgba(60, 64, 67, 0.15);\n",
              "      fill: #174EA6;\n",
              "    }\n",
              "\n",
              "    .colab-df-buttons div {\n",
              "      margin-bottom: 4px;\n",
              "    }\n",
              "\n",
              "    [theme=dark] .colab-df-convert {\n",
              "      background-color: #3B4455;\n",
              "      fill: #D2E3FC;\n",
              "    }\n",
              "\n",
              "    [theme=dark] .colab-df-convert:hover {\n",
              "      background-color: #434B5C;\n",
              "      box-shadow: 0px 1px 3px 1px rgba(0, 0, 0, 0.15);\n",
              "      filter: drop-shadow(0px 1px 2px rgba(0, 0, 0, 0.3));\n",
              "      fill: #FFFFFF;\n",
              "    }\n",
              "  </style>\n",
              "\n",
              "    <script>\n",
              "      const buttonEl =\n",
              "        document.querySelector('#df-7bd266e0-a70d-4ef9-bf72-75e798caee1d button.colab-df-convert');\n",
              "      buttonEl.style.display =\n",
              "        google.colab.kernel.accessAllowed ? 'block' : 'none';\n",
              "\n",
              "      async function convertToInteractive(key) {\n",
              "        const element = document.querySelector('#df-7bd266e0-a70d-4ef9-bf72-75e798caee1d');\n",
              "        const dataTable =\n",
              "          await google.colab.kernel.invokeFunction('convertToInteractive',\n",
              "                                                    [key], {});\n",
              "        if (!dataTable) return;\n",
              "\n",
              "        const docLinkHtml = 'Like what you see? Visit the ' +\n",
              "          '<a target=\"_blank\" href=https://colab.research.google.com/notebooks/data_table.ipynb>data table notebook</a>'\n",
              "          + ' to learn more about interactive tables.';\n",
              "        element.innerHTML = '';\n",
              "        dataTable['output_type'] = 'display_data';\n",
              "        await google.colab.output.renderOutput(dataTable, element);\n",
              "        const docLink = document.createElement('div');\n",
              "        docLink.innerHTML = docLinkHtml;\n",
              "        element.appendChild(docLink);\n",
              "      }\n",
              "    </script>\n",
              "  </div>\n",
              "\n",
              "\n",
              "<div id=\"df-93a07900-e09c-4928-b92d-71489ab034fd\">\n",
              "  <button class=\"colab-df-quickchart\" onclick=\"quickchart('df-93a07900-e09c-4928-b92d-71489ab034fd')\"\n",
              "            title=\"Suggest charts\"\n",
              "            style=\"display:none;\">\n",
              "\n",
              "<svg xmlns=\"http://www.w3.org/2000/svg\" height=\"24px\"viewBox=\"0 0 24 24\"\n",
              "     width=\"24px\">\n",
              "    <g>\n",
              "        <path d=\"M19 3H5c-1.1 0-2 .9-2 2v14c0 1.1.9 2 2 2h14c1.1 0 2-.9 2-2V5c0-1.1-.9-2-2-2zM9 17H7v-7h2v7zm4 0h-2V7h2v10zm4 0h-2v-4h2v4z\"/>\n",
              "    </g>\n",
              "</svg>\n",
              "  </button>\n",
              "\n",
              "<style>\n",
              "  .colab-df-quickchart {\n",
              "      --bg-color: #E8F0FE;\n",
              "      --fill-color: #1967D2;\n",
              "      --hover-bg-color: #E2EBFA;\n",
              "      --hover-fill-color: #174EA6;\n",
              "      --disabled-fill-color: #AAA;\n",
              "      --disabled-bg-color: #DDD;\n",
              "  }\n",
              "\n",
              "  [theme=dark] .colab-df-quickchart {\n",
              "      --bg-color: #3B4455;\n",
              "      --fill-color: #D2E3FC;\n",
              "      --hover-bg-color: #434B5C;\n",
              "      --hover-fill-color: #FFFFFF;\n",
              "      --disabled-bg-color: #3B4455;\n",
              "      --disabled-fill-color: #666;\n",
              "  }\n",
              "\n",
              "  .colab-df-quickchart {\n",
              "    background-color: var(--bg-color);\n",
              "    border: none;\n",
              "    border-radius: 50%;\n",
              "    cursor: pointer;\n",
              "    display: none;\n",
              "    fill: var(--fill-color);\n",
              "    height: 32px;\n",
              "    padding: 0;\n",
              "    width: 32px;\n",
              "  }\n",
              "\n",
              "  .colab-df-quickchart:hover {\n",
              "    background-color: var(--hover-bg-color);\n",
              "    box-shadow: 0 1px 2px rgba(60, 64, 67, 0.3), 0 1px 3px 1px rgba(60, 64, 67, 0.15);\n",
              "    fill: var(--button-hover-fill-color);\n",
              "  }\n",
              "\n",
              "  .colab-df-quickchart-complete:disabled,\n",
              "  .colab-df-quickchart-complete:disabled:hover {\n",
              "    background-color: var(--disabled-bg-color);\n",
              "    fill: var(--disabled-fill-color);\n",
              "    box-shadow: none;\n",
              "  }\n",
              "\n",
              "  .colab-df-spinner {\n",
              "    border: 2px solid var(--fill-color);\n",
              "    border-color: transparent;\n",
              "    border-bottom-color: var(--fill-color);\n",
              "    animation:\n",
              "      spin 1s steps(1) infinite;\n",
              "  }\n",
              "\n",
              "  @keyframes spin {\n",
              "    0% {\n",
              "      border-color: transparent;\n",
              "      border-bottom-color: var(--fill-color);\n",
              "      border-left-color: var(--fill-color);\n",
              "    }\n",
              "    20% {\n",
              "      border-color: transparent;\n",
              "      border-left-color: var(--fill-color);\n",
              "      border-top-color: var(--fill-color);\n",
              "    }\n",
              "    30% {\n",
              "      border-color: transparent;\n",
              "      border-left-color: var(--fill-color);\n",
              "      border-top-color: var(--fill-color);\n",
              "      border-right-color: var(--fill-color);\n",
              "    }\n",
              "    40% {\n",
              "      border-color: transparent;\n",
              "      border-right-color: var(--fill-color);\n",
              "      border-top-color: var(--fill-color);\n",
              "    }\n",
              "    60% {\n",
              "      border-color: transparent;\n",
              "      border-right-color: var(--fill-color);\n",
              "    }\n",
              "    80% {\n",
              "      border-color: transparent;\n",
              "      border-right-color: var(--fill-color);\n",
              "      border-bottom-color: var(--fill-color);\n",
              "    }\n",
              "    90% {\n",
              "      border-color: transparent;\n",
              "      border-bottom-color: var(--fill-color);\n",
              "    }\n",
              "  }\n",
              "</style>\n",
              "\n",
              "  <script>\n",
              "    async function quickchart(key) {\n",
              "      const quickchartButtonEl =\n",
              "        document.querySelector('#' + key + ' button');\n",
              "      quickchartButtonEl.disabled = true;  // To prevent multiple clicks.\n",
              "      quickchartButtonEl.classList.add('colab-df-spinner');\n",
              "      try {\n",
              "        const charts = await google.colab.kernel.invokeFunction(\n",
              "            'suggestCharts', [key], {});\n",
              "      } catch (error) {\n",
              "        console.error('Error during call to suggestCharts:', error);\n",
              "      }\n",
              "      quickchartButtonEl.classList.remove('colab-df-spinner');\n",
              "      quickchartButtonEl.classList.add('colab-df-quickchart-complete');\n",
              "    }\n",
              "    (() => {\n",
              "      let quickchartButtonEl =\n",
              "        document.querySelector('#df-93a07900-e09c-4928-b92d-71489ab034fd button');\n",
              "      quickchartButtonEl.style.display =\n",
              "        google.colab.kernel.accessAllowed ? 'block' : 'none';\n",
              "    })();\n",
              "  </script>\n",
              "</div>\n",
              "\n",
              "  <div id=\"id_9e065249-d4dc-4311-9783-d09a8aab9f35\">\n",
              "    <style>\n",
              "      .colab-df-generate {\n",
              "        background-color: #E8F0FE;\n",
              "        border: none;\n",
              "        border-radius: 50%;\n",
              "        cursor: pointer;\n",
              "        display: none;\n",
              "        fill: #1967D2;\n",
              "        height: 32px;\n",
              "        padding: 0 0 0 0;\n",
              "        width: 32px;\n",
              "      }\n",
              "\n",
              "      .colab-df-generate:hover {\n",
              "        background-color: #E2EBFA;\n",
              "        box-shadow: 0px 1px 2px rgba(60, 64, 67, 0.3), 0px 1px 3px 1px rgba(60, 64, 67, 0.15);\n",
              "        fill: #174EA6;\n",
              "      }\n",
              "\n",
              "      [theme=dark] .colab-df-generate {\n",
              "        background-color: #3B4455;\n",
              "        fill: #D2E3FC;\n",
              "      }\n",
              "\n",
              "      [theme=dark] .colab-df-generate:hover {\n",
              "        background-color: #434B5C;\n",
              "        box-shadow: 0px 1px 3px 1px rgba(0, 0, 0, 0.15);\n",
              "        filter: drop-shadow(0px 1px 2px rgba(0, 0, 0, 0.3));\n",
              "        fill: #FFFFFF;\n",
              "      }\n",
              "    </style>\n",
              "    <button class=\"colab-df-generate\" onclick=\"generateWithVariable('input_df')\"\n",
              "            title=\"Generate code using this dataframe.\"\n",
              "            style=\"display:none;\">\n",
              "\n",
              "  <svg xmlns=\"http://www.w3.org/2000/svg\" height=\"24px\"viewBox=\"0 0 24 24\"\n",
              "       width=\"24px\">\n",
              "    <path d=\"M7,19H8.4L18.45,9,17,7.55,7,17.6ZM5,21V16.75L18.45,3.32a2,2,0,0,1,2.83,0l1.4,1.43a1.91,1.91,0,0,1,.58,1.4,1.91,1.91,0,0,1-.58,1.4L9.25,21ZM18.45,9,17,7.55Zm-12,3A5.31,5.31,0,0,0,4.9,8.1,5.31,5.31,0,0,0,1,6.5,5.31,5.31,0,0,0,4.9,4.9,5.31,5.31,0,0,0,6.5,1,5.31,5.31,0,0,0,8.1,4.9,5.31,5.31,0,0,0,12,6.5,5.46,5.46,0,0,0,6.5,12Z\"/>\n",
              "  </svg>\n",
              "    </button>\n",
              "    <script>\n",
              "      (() => {\n",
              "      const buttonEl =\n",
              "        document.querySelector('#id_9e065249-d4dc-4311-9783-d09a8aab9f35 button.colab-df-generate');\n",
              "      buttonEl.style.display =\n",
              "        google.colab.kernel.accessAllowed ? 'block' : 'none';\n",
              "\n",
              "      buttonEl.onclick = () => {\n",
              "        google.colab.notebook.generateWithVariable('input_df');\n",
              "      }\n",
              "      })();\n",
              "    </script>\n",
              "  </div>\n",
              "\n",
              "    </div>\n",
              "  </div>\n"
            ],
            "application/vnd.google.colaboratory.intrinsic+json": {
              "type": "dataframe",
              "variable_name": "input_df"
            }
          },
          "metadata": {},
          "execution_count": 15
        }
      ],
      "source": [
        "#hide_input\n",
        "input_df = pd.DataFrame.from_dict(tokenizer(question, context), orient=\"index\")\n",
        "input_df"
      ]
    },
    {
      "cell_type": "code",
      "execution_count": 16,
      "metadata": {
        "colab": {
          "base_uri": "https://localhost:8080/"
        },
        "id": "3iSI7XUl6t1j",
        "outputId": "09c75f1e-6bee-4a34-ccdf-0a9167c5b158"
      },
      "outputs": [
        {
          "output_type": "stream",
          "name": "stdout",
          "text": [
            "[CLS] how much music can this hold? [SEP] an mp3 is about 1 mb / minute, so\n",
            "about 6000 hours depending on file size. [SEP]\n"
          ]
        }
      ],
      "source": [
        "print(tokenizer.decode(inputs[\"input_ids\"][0]))"
      ]
    },
    {
      "cell_type": "code",
      "execution_count": 17,
      "metadata": {
        "colab": {
          "base_uri": "https://localhost:8080/",
          "height": 223,
          "referenced_widgets": [
            "a09e42dbb80248559f52aabc70c93907",
            "132e1480d11b442994f4dedebde4dcda",
            "a1de4ebae0a54b869237f48699f021ef",
            "22263263bc404af8990a3ac3da19203a",
            "7ce88dd5d89c447180bb86ccbdb82b72",
            "4bc4407e008549d596f334e966bcd518",
            "24ef6f1a60844ccda88baa7dafbe7907",
            "cd6105dee7a647c1b8f7204e656bf8ff",
            "bef3f9bfaa7d4e40913e5c56ff2c311b",
            "45d45471e13542a29fe33ce6bde5c62d",
            "0a8766a023624ee1b84f9fbefe4489c5"
          ]
        },
        "id": "C8kiBkkQ6t1j",
        "outputId": "b121fe58-6c07-42fe-8bdf-c5573b586eaa"
      },
      "outputs": [
        {
          "output_type": "display_data",
          "data": {
            "text/plain": [
              "model.safetensors:   0%|          | 0.00/133M [00:00<?, ?B/s]"
            ],
            "application/vnd.jupyter.widget-view+json": {
              "version_major": 2,
              "version_minor": 0,
              "model_id": "a09e42dbb80248559f52aabc70c93907"
            }
          },
          "metadata": {}
        },
        {
          "output_type": "stream",
          "name": "stdout",
          "text": [
            "QuestionAnsweringModelOutput(loss=None, start_logits=tensor([[-0.9862, -4.7750,\n",
            "-5.4025, -5.2378, -5.2863, -5.5117, -4.9819, -6.1880,\n",
            "         -0.9862,  0.2596, -0.2144, -1.7136,  3.7806,  4.8561, -1.0546, -3.9097,\n",
            "         -1.7374, -4.5944, -1.4278,  3.9949,  5.0391, -0.2018, -3.0193, -4.8549,\n",
            "         -2.3107, -3.5110, -3.5713, -0.9862]]), end_logits=tensor([[-0.9623,\n",
            "-5.4733, -5.0326, -5.1639, -5.4278, -5.5151, -5.1749, -4.6233,\n",
            "         -0.9623, -3.7855, -0.8715, -3.7745, -3.0161, -1.1780,  0.1758, -2.7365,\n",
            "          4.8934,  0.3046, -3.1761, -3.2762,  0.8937,  5.6606, -0.3623, -4.9554,\n",
            "         -3.2531, -0.0914,  1.6211, -0.9623]]), hidden_states=None,\n",
            "attentions=None)\n"
          ]
        }
      ],
      "source": [
        "import torch\n",
        "from transformers import AutoModelForQuestionAnswering\n",
        "\n",
        "model = AutoModelForQuestionAnswering.from_pretrained(model_ckpt)\n",
        "\n",
        "with torch.no_grad():\n",
        "    outputs = model(**inputs)\n",
        "print(outputs)"
      ]
    },
    {
      "cell_type": "code",
      "execution_count": 18,
      "metadata": {
        "id": "iGZCdTvD6t1j"
      },
      "outputs": [],
      "source": [
        "start_logits = outputs.start_logits\n",
        "end_logits = outputs.end_logits"
      ]
    },
    {
      "cell_type": "code",
      "execution_count": 19,
      "metadata": {
        "colab": {
          "base_uri": "https://localhost:8080/"
        },
        "id": "DoAz4jah6t1j",
        "outputId": "507bf7fa-a65f-44cd-8e67-3f59b811d83f"
      },
      "outputs": [
        {
          "output_type": "stream",
          "name": "stdout",
          "text": [
            "Input IDs shape: torch.Size([1, 28])\n",
            "Start logits shape: torch.Size([1, 28])\n",
            "End logits shape: torch.Size([1, 28])\n"
          ]
        }
      ],
      "source": [
        "print(f\"Input IDs shape: {inputs.input_ids.size()}\")\n",
        "print(f\"Start logits shape: {start_logits.size()}\")\n",
        "print(f\"End logits shape: {end_logits.size()}\")"
      ]
    },
    {
      "cell_type": "code",
      "execution_count": 20,
      "metadata": {
        "colab": {
          "base_uri": "https://localhost:8080/",
          "height": 431
        },
        "id": "Z_4LmucE6t1j",
        "outputId": "af96fe43-8ebb-4540-95e2-423419b4b9ce"
      },
      "outputs": [
        {
          "output_type": "display_data",
          "data": {
            "text/plain": [
              "<Figure size 600x400 with 2 Axes>"
            ],
            "image/svg+xml": "<?xml version=\"1.0\" encoding=\"utf-8\" standalone=\"no\"?>\n<!DOCTYPE svg PUBLIC \"-//W3C//DTD SVG 1.1//EN\"\n  \"http://www.w3.org/Graphics/SVG/1.1/DTD/svg11.dtd\">\n<svg xmlns:xlink=\"http://www.w3.org/1999/xlink\" width=\"389.504375pt\" height=\"306.94375pt\" viewBox=\"0 0 389.504375 306.94375\" xmlns=\"http://www.w3.org/2000/svg\" version=\"1.1\">\n <metadata>\n  <rdf:RDF xmlns:dc=\"http://purl.org/dc/elements/1.1/\" xmlns:cc=\"http://creativecommons.org/ns#\" xmlns:rdf=\"http://www.w3.org/1999/02/22-rdf-syntax-ns#\">\n   <cc:Work>\n    <dc:type rdf:resource=\"http://purl.org/dc/dcmitype/StillImage\"/>\n    <dc:date>2024-06-27T11:15:46.267310</dc:date>\n    <dc:format>image/svg+xml</dc:format>\n    <dc:creator>\n     <cc:Agent>\n      <dc:title>Matplotlib v3.7.1, https://matplotlib.org/</dc:title>\n     </cc:Agent>\n    </dc:creator>\n   </cc:Work>\n  </rdf:RDF>\n </metadata>\n <defs>\n  <style type=\"text/css\">*{stroke-linejoin: round; stroke-linecap: butt}</style>\n </defs>\n <g id=\"figure_1\">\n  <g id=\"patch_1\">\n   <path d=\"M 0 306.94375 \nL 389.504375 306.94375 \nL 389.504375 0 \nL 0 0 \nz\n\" style=\"fill: #ffffff\"/>\n  </g>\n  <g id=\"axes_1\">\n   <g id=\"patch_2\">\n    <path d=\"M 47.504375 108 \nL 382.304375 108 \nL 382.304375 7.2 \nL 47.504375 7.2 \nz\n\" style=\"fill: #ffffff\"/>\n   </g>\n   <g id=\"patch_3\">\n    <path d=\"M 62.722557 52.911009 \nL 71.481223 52.911009 \nL 71.481223 60.960541 \nL 62.722557 60.960541 \nz\n\" clip-path=\"url(#p64920a89a5)\" style=\"fill: #0071bc\"/>\n   </g>\n   <g id=\"patch_4\">\n    <path d=\"M 73.670889 52.911009 \nL 82.429555 52.911009 \nL 82.429555 91.884973 \nL 73.670889 91.884973 \nz\n\" clip-path=\"url(#p64920a89a5)\" style=\"fill: #0071bc\"/>\n   </g>\n   <g id=\"patch_5\">\n    <path d=\"M 84.619221 52.911009 \nL 93.377887 52.911009 \nL 93.377887 97.006975 \nL 84.619221 97.006975 \nz\n\" clip-path=\"url(#p64920a89a5)\" style=\"fill: #0071bc\"/>\n   </g>\n   <g id=\"patch_6\">\n    <path d=\"M 95.567554 52.911009 \nL 104.326219 52.911009 \nL 104.326219 95.662114 \nL 95.567554 95.662114 \nz\n\" clip-path=\"url(#p64920a89a5)\" style=\"fill: #0071bc\"/>\n   </g>\n   <g id=\"patch_7\">\n    <path d=\"M 106.515886 52.911009 \nL 115.274552 52.911009 \nL 115.274552 96.058097 \nL 106.515886 96.058097 \nz\n\" clip-path=\"url(#p64920a89a5)\" style=\"fill: #0071bc\"/>\n   </g>\n   <g id=\"patch_8\">\n    <path d=\"M 117.464218 52.911009 \nL 126.222884 52.911009 \nL 126.222884 97.898255 \nL 117.464218 97.898255 \nz\n\" clip-path=\"url(#p64920a89a5)\" style=\"fill: #0071bc\"/>\n   </g>\n   <g id=\"patch_9\">\n    <path d=\"M 128.41255 52.911009 \nL 137.171216 52.911009 \nL 137.171216 93.574099 \nL 128.41255 93.574099 \nz\n\" clip-path=\"url(#p64920a89a5)\" style=\"fill: #0071bc\"/>\n   </g>\n   <g id=\"patch_10\">\n    <path d=\"M 139.360883 52.911009 \nL 148.119548 52.911009 \nL 148.119548 103.418182 \nL 139.360883 103.418182 \nz\n\" clip-path=\"url(#p64920a89a5)\" style=\"fill: #0071bc\"/>\n   </g>\n   <g id=\"patch_11\">\n    <path d=\"M 150.309215 52.911009 \nL 159.067881 52.911009 \nL 159.067881 60.960596 \nL 150.309215 60.960596 \nz\n\" clip-path=\"url(#p64920a89a5)\" style=\"fill: #0071bc\"/>\n   </g>\n   <g id=\"patch_12\">\n    <path d=\"M 161.257547 52.911009 \nL 170.016213 52.911009 \nL 170.016213 50.792214 \nL 161.257547 50.792214 \nz\n\" clip-path=\"url(#p64920a89a5)\" style=\"fill: #0071bc\"/>\n   </g>\n   <g id=\"patch_13\">\n    <path d=\"M 172.205879 52.911009 \nL 180.964545 52.911009 \nL 180.964545 54.660677 \nL 172.205879 54.660677 \nz\n\" clip-path=\"url(#p64920a89a5)\" style=\"fill: #0071bc\"/>\n   </g>\n   <g id=\"patch_14\">\n    <path d=\"M 183.154211 52.911009 \nL 191.912877 52.911009 \nL 191.912877 66.897335 \nL 183.154211 66.897335 \nz\n\" clip-path=\"url(#p64920a89a5)\" style=\"fill: #0071bc\"/>\n   </g>\n   <g id=\"patch_15\">\n    <path d=\"M 194.102544 52.911009 \nL 202.86121 52.911009 \nL 202.86121 22.053051 \nL 194.102544 22.053051 \nz\n\" clip-path=\"url(#p64920a89a5)\" style=\"fill: #0071bc\"/>\n   </g>\n   <g id=\"patch_16\">\n    <path d=\"M 205.050876 52.911009 \nL 213.809542 52.911009 \nL 213.809542 13.275064 \nL 205.050876 13.275064 \nz\n\" clip-path=\"url(#p64920a89a5)\" style=\"fill: #0071bc\"/>\n   </g>\n   <g id=\"patch_17\">\n    <path d=\"M 215.999208 52.911009 \nL 224.757874 52.911009 \nL 224.757874 61.519098 \nL 215.999208 61.519098 \nz\n\" clip-path=\"url(#p64920a89a5)\" style=\"fill: #0071bc\"/>\n   </g>\n   <g id=\"patch_18\">\n    <path d=\"M 226.94754 52.911009 \nL 235.706206 52.911009 \nL 235.706206 84.822288 \nL 226.94754 84.822288 \nz\n\" clip-path=\"url(#p64920a89a5)\" style=\"fill: #0071bc\"/>\n   </g>\n   <g id=\"patch_19\">\n    <path d=\"M 237.895873 52.911009 \nL 246.654539 52.911009 \nL 246.654539 67.091847 \nL 237.895873 67.091847 \nz\n\" clip-path=\"url(#p64920a89a5)\" style=\"fill: #0071bc\"/>\n   </g>\n   <g id=\"patch_20\">\n    <path d=\"M 248.844205 52.911009 \nL 257.602871 52.911009 \nL 257.602871 90.410579 \nL 248.844205 90.410579 \nz\n\" clip-path=\"url(#p64920a89a5)\" style=\"fill: #0071bc\"/>\n   </g>\n   <g id=\"patch_21\">\n    <path d=\"M 259.792537 52.911009 \nL 268.551203 52.911009 \nL 268.551203 64.565097 \nL 259.792537 64.565097 \nz\n\" clip-path=\"url(#p64920a89a5)\" style=\"fill: #0071bc\"/>\n   </g>\n   <g id=\"patch_22\">\n    <path d=\"M 270.740869 52.911009 \nL 279.499535 52.911009 \nL 279.499535 20.304198 \nL 270.740869 20.304198 \nz\n\" clip-path=\"url(#p64920a89a5)\" style=\"fill: #0071bc\"/>\n   </g>\n   <g id=\"patch_23\">\n    <path d=\"M 281.689202 52.911009 \nL 290.447867 52.911009 \nL 290.447867 11.781818 \nL 281.689202 11.781818 \nz\n\" clip-path=\"url(#p64920a89a5)\" style=\"fill: #f7931e\"/>\n   </g>\n   <g id=\"patch_24\">\n    <path d=\"M 292.637534 52.911009 \nL 301.3962 52.911009 \nL 301.3962 54.558134 \nL 292.637534 54.558134 \nz\n\" clip-path=\"url(#p64920a89a5)\" style=\"fill: #0071bc\"/>\n   </g>\n   <g id=\"patch_25\">\n    <path d=\"M 303.585866 52.911009 \nL 312.344532 52.911009 \nL 312.344532 77.554719 \nL 303.585866 77.554719 \nz\n\" clip-path=\"url(#p64920a89a5)\" style=\"fill: #0071bc\"/>\n   </g>\n   <g id=\"patch_26\">\n    <path d=\"M 314.534198 52.911009 \nL 323.292864 52.911009 \nL 323.292864 92.537238 \nL 314.534198 92.537238 \nz\n\" clip-path=\"url(#p64920a89a5)\" style=\"fill: #0071bc\"/>\n   </g>\n   <g id=\"patch_27\">\n    <path d=\"M 325.482531 52.911009 \nL 334.241196 52.911009 \nL 334.241196 71.771546 \nL 325.482531 71.771546 \nz\n\" clip-path=\"url(#p64920a89a5)\" style=\"fill: #0071bc\"/>\n   </g>\n   <g id=\"patch_28\">\n    <path d=\"M 336.430863 52.911009 \nL 345.189529 52.911009 \nL 345.189529 81.568089 \nL 336.430863 81.568089 \nz\n\" clip-path=\"url(#p64920a89a5)\" style=\"fill: #0071bc\"/>\n   </g>\n   <g id=\"patch_29\">\n    <path d=\"M 347.379195 52.911009 \nL 356.137861 52.911009 \nL 356.137861 82.060158 \nL 347.379195 82.060158 \nz\n\" clip-path=\"url(#p64920a89a5)\" style=\"fill: #0071bc\"/>\n   </g>\n   <g id=\"patch_30\">\n    <path d=\"M 358.327527 52.911009 \nL 367.086193 52.911009 \nL 367.086193 60.960525 \nL 358.327527 60.960525 \nz\n\" clip-path=\"url(#p64920a89a5)\" style=\"fill: #0071bc\"/>\n   </g>\n   <g id=\"matplotlib.axis_1\">\n    <g id=\"xtick_1\">\n     <g id=\"line2d_1\">\n      <defs>\n       <path id=\"m011b8c796f\" d=\"M 0 0 \nL 0 3.5 \n\" style=\"stroke: #000000; stroke-width: 0.8\"/>\n      </defs>\n      <g>\n       <use xlink:href=\"#m011b8c796f\" x=\"67.10189\" y=\"108\" style=\"stroke: #000000; stroke-width: 0.8\"/>\n      </g>\n     </g>\n    </g>\n    <g id=\"xtick_2\">\n     <g id=\"line2d_2\">\n      <g>\n       <use xlink:href=\"#m011b8c796f\" x=\"78.050222\" y=\"108\" style=\"stroke: #000000; stroke-width: 0.8\"/>\n      </g>\n     </g>\n    </g>\n    <g id=\"xtick_3\">\n     <g id=\"line2d_3\">\n      <g>\n       <use xlink:href=\"#m011b8c796f\" x=\"88.998554\" y=\"108\" style=\"stroke: #000000; stroke-width: 0.8\"/>\n      </g>\n     </g>\n    </g>\n    <g id=\"xtick_4\">\n     <g id=\"line2d_4\">\n      <g>\n       <use xlink:href=\"#m011b8c796f\" x=\"99.946886\" y=\"108\" style=\"stroke: #000000; stroke-width: 0.8\"/>\n      </g>\n     </g>\n    </g>\n    <g id=\"xtick_5\">\n     <g id=\"line2d_5\">\n      <g>\n       <use xlink:href=\"#m011b8c796f\" x=\"110.895219\" y=\"108\" style=\"stroke: #000000; stroke-width: 0.8\"/>\n      </g>\n     </g>\n    </g>\n    <g id=\"xtick_6\">\n     <g id=\"line2d_6\">\n      <g>\n       <use xlink:href=\"#m011b8c796f\" x=\"121.843551\" y=\"108\" style=\"stroke: #000000; stroke-width: 0.8\"/>\n      </g>\n     </g>\n    </g>\n    <g id=\"xtick_7\">\n     <g id=\"line2d_7\">\n      <g>\n       <use xlink:href=\"#m011b8c796f\" x=\"132.791883\" y=\"108\" style=\"stroke: #000000; stroke-width: 0.8\"/>\n      </g>\n     </g>\n    </g>\n    <g id=\"xtick_8\">\n     <g id=\"line2d_8\">\n      <g>\n       <use xlink:href=\"#m011b8c796f\" x=\"143.740215\" y=\"108\" style=\"stroke: #000000; stroke-width: 0.8\"/>\n      </g>\n     </g>\n    </g>\n    <g id=\"xtick_9\">\n     <g id=\"line2d_9\">\n      <g>\n       <use xlink:href=\"#m011b8c796f\" x=\"154.688548\" y=\"108\" style=\"stroke: #000000; stroke-width: 0.8\"/>\n      </g>\n     </g>\n    </g>\n    <g id=\"xtick_10\">\n     <g id=\"line2d_10\">\n      <g>\n       <use xlink:href=\"#m011b8c796f\" x=\"165.63688\" y=\"108\" style=\"stroke: #000000; stroke-width: 0.8\"/>\n      </g>\n     </g>\n    </g>\n    <g id=\"xtick_11\">\n     <g id=\"line2d_11\">\n      <g>\n       <use xlink:href=\"#m011b8c796f\" x=\"176.585212\" y=\"108\" style=\"stroke: #000000; stroke-width: 0.8\"/>\n      </g>\n     </g>\n    </g>\n    <g id=\"xtick_12\">\n     <g id=\"line2d_12\">\n      <g>\n       <use xlink:href=\"#m011b8c796f\" x=\"187.533544\" y=\"108\" style=\"stroke: #000000; stroke-width: 0.8\"/>\n      </g>\n     </g>\n    </g>\n    <g id=\"xtick_13\">\n     <g id=\"line2d_13\">\n      <g>\n       <use xlink:href=\"#m011b8c796f\" x=\"198.481877\" y=\"108\" style=\"stroke: #000000; stroke-width: 0.8\"/>\n      </g>\n     </g>\n    </g>\n    <g id=\"xtick_14\">\n     <g id=\"line2d_14\">\n      <g>\n       <use xlink:href=\"#m011b8c796f\" x=\"209.430209\" y=\"108\" style=\"stroke: #000000; stroke-width: 0.8\"/>\n      </g>\n     </g>\n    </g>\n    <g id=\"xtick_15\">\n     <g id=\"line2d_15\">\n      <g>\n       <use xlink:href=\"#m011b8c796f\" x=\"220.378541\" y=\"108\" style=\"stroke: #000000; stroke-width: 0.8\"/>\n      </g>\n     </g>\n    </g>\n    <g id=\"xtick_16\">\n     <g id=\"line2d_16\">\n      <g>\n       <use xlink:href=\"#m011b8c796f\" x=\"231.326873\" y=\"108\" style=\"stroke: #000000; stroke-width: 0.8\"/>\n      </g>\n     </g>\n    </g>\n    <g id=\"xtick_17\">\n     <g id=\"line2d_17\">\n      <g>\n       <use xlink:href=\"#m011b8c796f\" x=\"242.275206\" y=\"108\" style=\"stroke: #000000; stroke-width: 0.8\"/>\n      </g>\n     </g>\n    </g>\n    <g id=\"xtick_18\">\n     <g id=\"line2d_18\">\n      <g>\n       <use xlink:href=\"#m011b8c796f\" x=\"253.223538\" y=\"108\" style=\"stroke: #000000; stroke-width: 0.8\"/>\n      </g>\n     </g>\n    </g>\n    <g id=\"xtick_19\">\n     <g id=\"line2d_19\">\n      <g>\n       <use xlink:href=\"#m011b8c796f\" x=\"264.17187\" y=\"108\" style=\"stroke: #000000; stroke-width: 0.8\"/>\n      </g>\n     </g>\n    </g>\n    <g id=\"xtick_20\">\n     <g id=\"line2d_20\">\n      <g>\n       <use xlink:href=\"#m011b8c796f\" x=\"275.120202\" y=\"108\" style=\"stroke: #000000; stroke-width: 0.8\"/>\n      </g>\n     </g>\n    </g>\n    <g id=\"xtick_21\">\n     <g id=\"line2d_21\">\n      <g>\n       <use xlink:href=\"#m011b8c796f\" x=\"286.068535\" y=\"108\" style=\"stroke: #000000; stroke-width: 0.8\"/>\n      </g>\n     </g>\n    </g>\n    <g id=\"xtick_22\">\n     <g id=\"line2d_22\">\n      <g>\n       <use xlink:href=\"#m011b8c796f\" x=\"297.016867\" y=\"108\" style=\"stroke: #000000; stroke-width: 0.8\"/>\n      </g>\n     </g>\n    </g>\n    <g id=\"xtick_23\">\n     <g id=\"line2d_23\">\n      <g>\n       <use xlink:href=\"#m011b8c796f\" x=\"307.965199\" y=\"108\" style=\"stroke: #000000; stroke-width: 0.8\"/>\n      </g>\n     </g>\n    </g>\n    <g id=\"xtick_24\">\n     <g id=\"line2d_24\">\n      <g>\n       <use xlink:href=\"#m011b8c796f\" x=\"318.913531\" y=\"108\" style=\"stroke: #000000; stroke-width: 0.8\"/>\n      </g>\n     </g>\n    </g>\n    <g id=\"xtick_25\">\n     <g id=\"line2d_25\">\n      <g>\n       <use xlink:href=\"#m011b8c796f\" x=\"329.861864\" y=\"108\" style=\"stroke: #000000; stroke-width: 0.8\"/>\n      </g>\n     </g>\n    </g>\n    <g id=\"xtick_26\">\n     <g id=\"line2d_26\">\n      <g>\n       <use xlink:href=\"#m011b8c796f\" x=\"340.810196\" y=\"108\" style=\"stroke: #000000; stroke-width: 0.8\"/>\n      </g>\n     </g>\n    </g>\n    <g id=\"xtick_27\">\n     <g id=\"line2d_27\">\n      <g>\n       <use xlink:href=\"#m011b8c796f\" x=\"351.758528\" y=\"108\" style=\"stroke: #000000; stroke-width: 0.8\"/>\n      </g>\n     </g>\n    </g>\n    <g id=\"xtick_28\">\n     <g id=\"line2d_28\">\n      <g>\n       <use xlink:href=\"#m011b8c796f\" x=\"362.70686\" y=\"108\" style=\"stroke: #000000; stroke-width: 0.8\"/>\n      </g>\n     </g>\n    </g>\n   </g>\n   <g id=\"matplotlib.axis_2\">\n    <g id=\"ytick_1\">\n     <g id=\"line2d_29\">\n      <defs>\n       <path id=\"m40663344ff\" d=\"M 0 0 \nL -3.5 0 \n\" style=\"stroke: #000000; stroke-width: 0.8\"/>\n      </defs>\n      <g>\n       <use xlink:href=\"#m40663344ff\" x=\"47.504375\" y=\"93.721445\" style=\"stroke: #000000; stroke-width: 0.8\"/>\n      </g>\n     </g>\n     <g id=\"text_1\">\n      <!-- −5 -->\n      <g transform=\"translate(22.81375 98.280508) scale(0.12 -0.12)\">\n       <defs>\n        <path id=\"DejaVuSans-2212\" d=\"M 678 2272 \nL 4684 2272 \nL 4684 1741 \nL 678 1741 \nL 678 2272 \nz\n\" transform=\"scale(0.015625)\"/>\n        <path id=\"DejaVuSans-35\" d=\"M 691 4666 \nL 3169 4666 \nL 3169 4134 \nL 1269 4134 \nL 1269 2991 \nQ 1406 3038 1543 3061 \nQ 1681 3084 1819 3084 \nQ 2600 3084 3056 2656 \nQ 3513 2228 3513 1497 \nQ 3513 744 3044 326 \nQ 2575 -91 1722 -91 \nQ 1428 -91 1123 -41 \nQ 819 9 494 109 \nL 494 744 \nQ 775 591 1075 516 \nQ 1375 441 1709 441 \nQ 2250 441 2565 725 \nQ 2881 1009 2881 1497 \nQ 2881 1984 2565 2268 \nQ 2250 2553 1709 2553 \nQ 1456 2553 1204 2497 \nQ 953 2441 691 2322 \nL 691 4666 \nz\n\" transform=\"scale(0.015625)\"/>\n       </defs>\n       <use xlink:href=\"#DejaVuSans-2212\"/>\n       <use xlink:href=\"#DejaVuSans-35\" x=\"83.789062\"/>\n      </g>\n     </g>\n    </g>\n    <g id=\"ytick_2\">\n     <g id=\"line2d_30\">\n      <g>\n       <use xlink:href=\"#m40663344ff\" x=\"47.504375\" y=\"52.911009\" style=\"stroke: #000000; stroke-width: 0.8\"/>\n      </g>\n     </g>\n     <g id=\"text_2\">\n      <!-- 0 -->\n      <g transform=\"translate(32.869375 57.470071) scale(0.12 -0.12)\">\n       <defs>\n        <path id=\"DejaVuSans-30\" d=\"M 2034 4250 \nQ 1547 4250 1301 3770 \nQ 1056 3291 1056 2328 \nQ 1056 1369 1301 889 \nQ 1547 409 2034 409 \nQ 2525 409 2770 889 \nQ 3016 1369 3016 2328 \nQ 3016 3291 2770 3770 \nQ 2525 4250 2034 4250 \nz\nM 2034 4750 \nQ 2819 4750 3233 4129 \nQ 3647 3509 3647 2328 \nQ 3647 1150 3233 529 \nQ 2819 -91 2034 -91 \nQ 1250 -91 836 529 \nQ 422 1150 422 2328 \nQ 422 3509 836 4129 \nQ 1250 4750 2034 4750 \nz\n\" transform=\"scale(0.015625)\"/>\n       </defs>\n       <use xlink:href=\"#DejaVuSans-30\"/>\n      </g>\n     </g>\n    </g>\n    <g id=\"ytick_3\">\n     <g id=\"line2d_31\">\n      <g>\n       <use xlink:href=\"#m40663344ff\" x=\"47.504375\" y=\"12.100572\" style=\"stroke: #000000; stroke-width: 0.8\"/>\n      </g>\n     </g>\n     <g id=\"text_3\">\n      <!-- 5 -->\n      <g transform=\"translate(32.869375 16.659634) scale(0.12 -0.12)\">\n       <use xlink:href=\"#DejaVuSans-35\"/>\n      </g>\n     </g>\n    </g>\n    <g id=\"text_4\">\n     <!-- Start Scores -->\n     <g transform=\"translate(16.318125 94.092187) rotate(-90) scale(0.12 -0.12)\">\n      <defs>\n       <path id=\"DejaVuSans-53\" d=\"M 3425 4513 \nL 3425 3897 \nQ 3066 4069 2747 4153 \nQ 2428 4238 2131 4238 \nQ 1616 4238 1336 4038 \nQ 1056 3838 1056 3469 \nQ 1056 3159 1242 3001 \nQ 1428 2844 1947 2747 \nL 2328 2669 \nQ 3034 2534 3370 2195 \nQ 3706 1856 3706 1288 \nQ 3706 609 3251 259 \nQ 2797 -91 1919 -91 \nQ 1588 -91 1214 -16 \nQ 841 59 441 206 \nL 441 856 \nQ 825 641 1194 531 \nQ 1563 422 1919 422 \nQ 2459 422 2753 634 \nQ 3047 847 3047 1241 \nQ 3047 1584 2836 1778 \nQ 2625 1972 2144 2069 \nL 1759 2144 \nQ 1053 2284 737 2584 \nQ 422 2884 422 3419 \nQ 422 4038 858 4394 \nQ 1294 4750 2059 4750 \nQ 2388 4750 2728 4690 \nQ 3069 4631 3425 4513 \nz\n\" transform=\"scale(0.015625)\"/>\n       <path id=\"DejaVuSans-74\" d=\"M 1172 4494 \nL 1172 3500 \nL 2356 3500 \nL 2356 3053 \nL 1172 3053 \nL 1172 1153 \nQ 1172 725 1289 603 \nQ 1406 481 1766 481 \nL 2356 481 \nL 2356 0 \nL 1766 0 \nQ 1100 0 847 248 \nQ 594 497 594 1153 \nL 594 3053 \nL 172 3053 \nL 172 3500 \nL 594 3500 \nL 594 4494 \nL 1172 4494 \nz\n\" transform=\"scale(0.015625)\"/>\n       <path id=\"DejaVuSans-61\" d=\"M 2194 1759 \nQ 1497 1759 1228 1600 \nQ 959 1441 959 1056 \nQ 959 750 1161 570 \nQ 1363 391 1709 391 \nQ 2188 391 2477 730 \nQ 2766 1069 2766 1631 \nL 2766 1759 \nL 2194 1759 \nz\nM 3341 1997 \nL 3341 0 \nL 2766 0 \nL 2766 531 \nQ 2569 213 2275 61 \nQ 1981 -91 1556 -91 \nQ 1019 -91 701 211 \nQ 384 513 384 1019 \nQ 384 1609 779 1909 \nQ 1175 2209 1959 2209 \nL 2766 2209 \nL 2766 2266 \nQ 2766 2663 2505 2880 \nQ 2244 3097 1772 3097 \nQ 1472 3097 1187 3025 \nQ 903 2953 641 2809 \nL 641 3341 \nQ 956 3463 1253 3523 \nQ 1550 3584 1831 3584 \nQ 2591 3584 2966 3190 \nQ 3341 2797 3341 1997 \nz\n\" transform=\"scale(0.015625)\"/>\n       <path id=\"DejaVuSans-72\" d=\"M 2631 2963 \nQ 2534 3019 2420 3045 \nQ 2306 3072 2169 3072 \nQ 1681 3072 1420 2755 \nQ 1159 2438 1159 1844 \nL 1159 0 \nL 581 0 \nL 581 3500 \nL 1159 3500 \nL 1159 2956 \nQ 1341 3275 1631 3429 \nQ 1922 3584 2338 3584 \nQ 2397 3584 2469 3576 \nQ 2541 3569 2628 3553 \nL 2631 2963 \nz\n\" transform=\"scale(0.015625)\"/>\n       <path id=\"DejaVuSans-20\" transform=\"scale(0.015625)\"/>\n       <path id=\"DejaVuSans-63\" d=\"M 3122 3366 \nL 3122 2828 \nQ 2878 2963 2633 3030 \nQ 2388 3097 2138 3097 \nQ 1578 3097 1268 2742 \nQ 959 2388 959 1747 \nQ 959 1106 1268 751 \nQ 1578 397 2138 397 \nQ 2388 397 2633 464 \nQ 2878 531 3122 666 \nL 3122 134 \nQ 2881 22 2623 -34 \nQ 2366 -91 2075 -91 \nQ 1284 -91 818 406 \nQ 353 903 353 1747 \nQ 353 2603 823 3093 \nQ 1294 3584 2113 3584 \nQ 2378 3584 2631 3529 \nQ 2884 3475 3122 3366 \nz\n\" transform=\"scale(0.015625)\"/>\n       <path id=\"DejaVuSans-6f\" d=\"M 1959 3097 \nQ 1497 3097 1228 2736 \nQ 959 2375 959 1747 \nQ 959 1119 1226 758 \nQ 1494 397 1959 397 \nQ 2419 397 2687 759 \nQ 2956 1122 2956 1747 \nQ 2956 2369 2687 2733 \nQ 2419 3097 1959 3097 \nz\nM 1959 3584 \nQ 2709 3584 3137 3096 \nQ 3566 2609 3566 1747 \nQ 3566 888 3137 398 \nQ 2709 -91 1959 -91 \nQ 1206 -91 779 398 \nQ 353 888 353 1747 \nQ 353 2609 779 3096 \nQ 1206 3584 1959 3584 \nz\n\" transform=\"scale(0.015625)\"/>\n       <path id=\"DejaVuSans-65\" d=\"M 3597 1894 \nL 3597 1613 \nL 953 1613 \nQ 991 1019 1311 708 \nQ 1631 397 2203 397 \nQ 2534 397 2845 478 \nQ 3156 559 3463 722 \nL 3463 178 \nQ 3153 47 2828 -22 \nQ 2503 -91 2169 -91 \nQ 1331 -91 842 396 \nQ 353 884 353 1716 \nQ 353 2575 817 3079 \nQ 1281 3584 2069 3584 \nQ 2775 3584 3186 3129 \nQ 3597 2675 3597 1894 \nz\nM 3022 2063 \nQ 3016 2534 2758 2815 \nQ 2500 3097 2075 3097 \nQ 1594 3097 1305 2825 \nQ 1016 2553 972 2059 \nL 3022 2063 \nz\n\" transform=\"scale(0.015625)\"/>\n       <path id=\"DejaVuSans-73\" d=\"M 2834 3397 \nL 2834 2853 \nQ 2591 2978 2328 3040 \nQ 2066 3103 1784 3103 \nQ 1356 3103 1142 2972 \nQ 928 2841 928 2578 \nQ 928 2378 1081 2264 \nQ 1234 2150 1697 2047 \nL 1894 2003 \nQ 2506 1872 2764 1633 \nQ 3022 1394 3022 966 \nQ 3022 478 2636 193 \nQ 2250 -91 1575 -91 \nQ 1294 -91 989 -36 \nQ 684 19 347 128 \nL 347 722 \nQ 666 556 975 473 \nQ 1284 391 1588 391 \nQ 1994 391 2212 530 \nQ 2431 669 2431 922 \nQ 2431 1156 2273 1281 \nQ 2116 1406 1581 1522 \nL 1381 1569 \nQ 847 1681 609 1914 \nQ 372 2147 372 2553 \nQ 372 3047 722 3315 \nQ 1072 3584 1716 3584 \nQ 2034 3584 2315 3537 \nQ 2597 3491 2834 3397 \nz\n\" transform=\"scale(0.015625)\"/>\n      </defs>\n      <use xlink:href=\"#DejaVuSans-53\"/>\n      <use xlink:href=\"#DejaVuSans-74\" x=\"63.476562\"/>\n      <use xlink:href=\"#DejaVuSans-61\" x=\"102.685547\"/>\n      <use xlink:href=\"#DejaVuSans-72\" x=\"163.964844\"/>\n      <use xlink:href=\"#DejaVuSans-74\" x=\"205.078125\"/>\n      <use xlink:href=\"#DejaVuSans-20\" x=\"244.287109\"/>\n      <use xlink:href=\"#DejaVuSans-53\" x=\"276.074219\"/>\n      <use xlink:href=\"#DejaVuSans-63\" x=\"339.550781\"/>\n      <use xlink:href=\"#DejaVuSans-6f\" x=\"394.53125\"/>\n      <use xlink:href=\"#DejaVuSans-72\" x=\"455.712891\"/>\n      <use xlink:href=\"#DejaVuSans-65\" x=\"494.576172\"/>\n      <use xlink:href=\"#DejaVuSans-73\" x=\"556.099609\"/>\n     </g>\n    </g>\n   </g>\n   <g id=\"patch_31\">\n    <path d=\"M 47.504375 108 \nL 47.504375 7.2 \n\" style=\"fill: none; stroke: #000000; stroke-width: 0.8; stroke-linejoin: miter; stroke-linecap: square\"/>\n   </g>\n   <g id=\"patch_32\">\n    <path d=\"M 382.304375 108 \nL 382.304375 7.2 \n\" style=\"fill: none; stroke: #000000; stroke-width: 0.8; stroke-linejoin: miter; stroke-linecap: square\"/>\n   </g>\n   <g id=\"patch_33\">\n    <path d=\"M 47.504375 108 \nL 382.304375 108 \n\" style=\"fill: none; stroke: #000000; stroke-width: 0.8; stroke-linejoin: miter; stroke-linecap: square\"/>\n   </g>\n   <g id=\"patch_34\">\n    <path d=\"M 47.504375 7.2 \nL 382.304375 7.2 \n\" style=\"fill: none; stroke: #000000; stroke-width: 0.8; stroke-linejoin: miter; stroke-linecap: square\"/>\n   </g>\n  </g>\n  <g id=\"axes_2\">\n   <g id=\"patch_35\">\n    <path d=\"M 47.504375 228.96 \nL 382.304375 228.96 \nL 382.304375 128.16 \nL 47.504375 128.16 \nz\n\" style=\"fill: #ffffff\"/>\n   </g>\n   <g id=\"patch_36\">\n    <path d=\"M 62.722557 179.156211 \nL 71.481223 179.156211 \nL 71.481223 187.046302 \nL 62.722557 187.046302 \nz\n\" clip-path=\"url(#p7994a8d256)\" style=\"fill: #0071bc\"/>\n   </g>\n   <g id=\"patch_37\">\n    <path d=\"M 73.670889 179.156211 \nL 82.429555 179.156211 \nL 82.429555 224.035278 \nL 73.670889 224.035278 \nz\n\" clip-path=\"url(#p7994a8d256)\" style=\"fill: #0071bc\"/>\n   </g>\n   <g id=\"patch_38\">\n    <path d=\"M 84.619221 179.156211 \nL 93.377887 179.156211 \nL 93.377887 220.421297 \nL 84.619221 220.421297 \nz\n\" clip-path=\"url(#p7994a8d256)\" style=\"fill: #0071bc\"/>\n   </g>\n   <g id=\"patch_39\">\n    <path d=\"M 95.567554 179.156211 \nL 104.326219 179.156211 \nL 104.326219 221.497983 \nL 95.567554 221.497983 \nz\n\" clip-path=\"url(#p7994a8d256)\" style=\"fill: #0071bc\"/>\n   </g>\n   <g id=\"patch_40\">\n    <path d=\"M 106.515886 179.156211 \nL 115.274552 179.156211 \nL 115.274552 223.662381 \nL 106.515886 223.662381 \nz\n\" clip-path=\"url(#p7994a8d256)\" style=\"fill: #0071bc\"/>\n   </g>\n   <g id=\"patch_41\">\n    <path d=\"M 117.464218 179.156211 \nL 126.222884 179.156211 \nL 126.222884 224.378182 \nL 117.464218 224.378182 \nz\n\" clip-path=\"url(#p7994a8d256)\" style=\"fill: #0071bc\"/>\n   </g>\n   <g id=\"patch_42\">\n    <path d=\"M 128.41255 179.156211 \nL 137.171216 179.156211 \nL 137.171216 221.588508 \nL 128.41255 221.588508 \nz\n\" clip-path=\"url(#p7994a8d256)\" style=\"fill: #0071bc\"/>\n   </g>\n   <g id=\"patch_43\">\n    <path d=\"M 139.360883 179.156211 \nL 148.119548 179.156211 \nL 148.119548 217.065372 \nL 139.360883 217.065372 \nz\n\" clip-path=\"url(#p7994a8d256)\" style=\"fill: #0071bc\"/>\n   </g>\n   <g id=\"patch_44\">\n    <path d=\"M 150.309215 179.156211 \nL 159.067881 179.156211 \nL 159.067881 187.046519 \nL 150.309215 187.046519 \nz\n\" clip-path=\"url(#p7994a8d256)\" style=\"fill: #0071bc\"/>\n   </g>\n   <g id=\"patch_45\">\n    <path d=\"M 161.257547 179.156211 \nL 170.016213 179.156211 \nL 170.016213 210.195932 \nL 161.257547 210.195932 \nz\n\" clip-path=\"url(#p7994a8d256)\" style=\"fill: #0071bc\"/>\n   </g>\n   <g id=\"patch_46\">\n    <path d=\"M 172.205879 179.156211 \nL 180.964545 179.156211 \nL 180.964545 186.301925 \nL 172.205879 186.301925 \nz\n\" clip-path=\"url(#p7994a8d256)\" style=\"fill: #0071bc\"/>\n   </g>\n   <g id=\"patch_47\">\n    <path d=\"M 183.154211 179.156211 \nL 191.912877 179.156211 \nL 191.912877 210.105579 \nL 183.154211 210.105579 \nz\n\" clip-path=\"url(#p7994a8d256)\" style=\"fill: #0071bc\"/>\n   </g>\n   <g id=\"patch_48\">\n    <path d=\"M 194.102544 179.156211 \nL 202.86121 179.156211 \nL 202.86121 203.887438 \nL 194.102544 203.887438 \nz\n\" clip-path=\"url(#p7994a8d256)\" style=\"fill: #0071bc\"/>\n   </g>\n   <g id=\"patch_49\">\n    <path d=\"M 205.050876 179.156211 \nL 213.809542 179.156211 \nL 213.809542 188.815043 \nL 205.050876 188.815043 \nz\n\" clip-path=\"url(#p7994a8d256)\" style=\"fill: #0071bc\"/>\n   </g>\n   <g id=\"patch_50\">\n    <path d=\"M 215.999208 179.156211 \nL 224.757874 179.156211 \nL 224.757874 177.714812 \nL 215.999208 177.714812 \nz\n\" clip-path=\"url(#p7994a8d256)\" style=\"fill: #0071bc\"/>\n   </g>\n   <g id=\"patch_51\">\n    <path d=\"M 226.94754 179.156211 \nL 235.706206 179.156211 \nL 235.706206 201.594398 \nL 226.94754 201.594398 \nz\n\" clip-path=\"url(#p7994a8d256)\" style=\"fill: #0071bc\"/>\n   </g>\n   <g id=\"patch_52\">\n    <path d=\"M 237.895873 179.156211 \nL 246.654539 179.156211 \nL 246.654539 139.032434 \nL 237.895873 139.032434 \nz\n\" clip-path=\"url(#p7994a8d256)\" style=\"fill: #0071bc\"/>\n   </g>\n   <g id=\"patch_53\">\n    <path d=\"M 248.844205 179.156211 \nL 257.602871 179.156211 \nL 257.602871 176.658239 \nL 248.844205 176.658239 \nz\n\" clip-path=\"url(#p7994a8d256)\" style=\"fill: #0071bc\"/>\n   </g>\n   <g id=\"patch_54\">\n    <path d=\"M 259.792537 179.156211 \nL 268.551203 179.156211 \nL 268.551203 205.199077 \nL 259.792537 205.199077 \nz\n\" clip-path=\"url(#p7994a8d256)\" style=\"fill: #0071bc\"/>\n   </g>\n   <g id=\"patch_55\">\n    <path d=\"M 270.740869 179.156211 \nL 279.499535 179.156211 \nL 279.499535 206.019693 \nL 270.740869 206.019693 \nz\n\" clip-path=\"url(#p7994a8d256)\" style=\"fill: #0071bc\"/>\n   </g>\n   <g id=\"patch_56\">\n    <path d=\"M 281.689202 179.156211 \nL 290.447867 179.156211 \nL 290.447867 171.828475 \nL 281.689202 171.828475 \nz\n\" clip-path=\"url(#p7994a8d256)\" style=\"fill: #0071bc\"/>\n   </g>\n   <g id=\"patch_57\">\n    <path d=\"M 292.637534 179.156211 \nL 301.3962 179.156211 \nL 301.3962 132.741818 \nL 292.637534 132.741818 \nz\n\" clip-path=\"url(#p7994a8d256)\" style=\"fill: #f7931e\"/>\n   </g>\n   <g id=\"patch_58\">\n    <path d=\"M 303.585866 179.156211 \nL 312.344532 179.156211 \nL 312.344532 182.126674 \nL 303.585866 182.126674 \nz\n\" clip-path=\"url(#p7994a8d256)\" style=\"fill: #0071bc\"/>\n   </g>\n   <g id=\"patch_59\">\n    <path d=\"M 314.534198 179.156211 \nL 323.292864 179.156211 \nL 323.292864 219.788589 \nL 314.534198 219.788589 \nz\n\" clip-path=\"url(#p7994a8d256)\" style=\"fill: #0071bc\"/>\n   </g>\n   <g id=\"patch_60\">\n    <path d=\"M 325.482531 179.156211 \nL 334.241196 179.156211 \nL 334.241196 205.830713 \nL 325.482531 205.830713 \nz\n\" clip-path=\"url(#p7994a8d256)\" style=\"fill: #0071bc\"/>\n   </g>\n   <g id=\"patch_61\">\n    <path d=\"M 336.430863 179.156211 \nL 345.189529 179.156211 \nL 345.189529 179.905568 \nL 336.430863 179.905568 \nz\n\" clip-path=\"url(#p7994a8d256)\" style=\"fill: #0071bc\"/>\n   </g>\n   <g id=\"patch_62\">\n    <path d=\"M 347.379195 179.156211 \nL 356.137861 179.156211 \nL 356.137861 165.86356 \nL 347.379195 165.86356 \nz\n\" clip-path=\"url(#p7994a8d256)\" style=\"fill: #0071bc\"/>\n   </g>\n   <g id=\"patch_63\">\n    <path d=\"M 358.327527 179.156211 \nL 367.086193 179.156211 \nL 367.086193 187.046412 \nL 358.327527 187.046412 \nz\n\" clip-path=\"url(#p7994a8d256)\" style=\"fill: #0071bc\"/>\n   </g>\n   <g id=\"matplotlib.axis_3\">\n    <g id=\"xtick_29\">\n     <g id=\"line2d_32\">\n      <g>\n       <use xlink:href=\"#m011b8c796f\" x=\"67.10189\" y=\"228.96\" style=\"stroke: #000000; stroke-width: 0.8\"/>\n      </g>\n     </g>\n     <g id=\"text_5\">\n      <!-- [CLS] -->\n      <g transform=\"translate(70.41314 268.0075) rotate(-90) scale(0.12 -0.12)\">\n       <defs>\n        <path id=\"DejaVuSans-5b\" d=\"M 550 4863 \nL 1875 4863 \nL 1875 4416 \nL 1125 4416 \nL 1125 -397 \nL 1875 -397 \nL 1875 -844 \nL 550 -844 \nL 550 4863 \nz\n\" transform=\"scale(0.015625)\"/>\n        <path id=\"DejaVuSans-43\" d=\"M 4122 4306 \nL 4122 3641 \nQ 3803 3938 3442 4084 \nQ 3081 4231 2675 4231 \nQ 1875 4231 1450 3742 \nQ 1025 3253 1025 2328 \nQ 1025 1406 1450 917 \nQ 1875 428 2675 428 \nQ 3081 428 3442 575 \nQ 3803 722 4122 1019 \nL 4122 359 \nQ 3791 134 3420 21 \nQ 3050 -91 2638 -91 \nQ 1578 -91 968 557 \nQ 359 1206 359 2328 \nQ 359 3453 968 4101 \nQ 1578 4750 2638 4750 \nQ 3056 4750 3426 4639 \nQ 3797 4528 4122 4306 \nz\n\" transform=\"scale(0.015625)\"/>\n        <path id=\"DejaVuSans-4c\" d=\"M 628 4666 \nL 1259 4666 \nL 1259 531 \nL 3531 531 \nL 3531 0 \nL 628 0 \nL 628 4666 \nz\n\" transform=\"scale(0.015625)\"/>\n        <path id=\"DejaVuSans-5d\" d=\"M 1947 4863 \nL 1947 -844 \nL 622 -844 \nL 622 -397 \nL 1369 -397 \nL 1369 4416 \nL 622 4416 \nL 622 4863 \nL 1947 4863 \nz\n\" transform=\"scale(0.015625)\"/>\n       </defs>\n       <use xlink:href=\"#DejaVuSans-5b\"/>\n       <use xlink:href=\"#DejaVuSans-43\" x=\"39.013672\"/>\n       <use xlink:href=\"#DejaVuSans-4c\" x=\"108.837891\"/>\n       <use xlink:href=\"#DejaVuSans-53\" x=\"164.550781\"/>\n       <use xlink:href=\"#DejaVuSans-5d\" x=\"228.027344\"/>\n      </g>\n     </g>\n    </g>\n    <g id=\"xtick_30\">\n     <g id=\"line2d_33\">\n      <g>\n       <use xlink:href=\"#m011b8c796f\" x=\"78.050222\" y=\"228.96\" style=\"stroke: #000000; stroke-width: 0.8\"/>\n      </g>\n     </g>\n     <g id=\"text_6\">\n      <!-- how -->\n      <g transform=\"translate(81.361472 260.72125) rotate(-90) scale(0.12 -0.12)\">\n       <defs>\n        <path id=\"DejaVuSans-68\" d=\"M 3513 2113 \nL 3513 0 \nL 2938 0 \nL 2938 2094 \nQ 2938 2591 2744 2837 \nQ 2550 3084 2163 3084 \nQ 1697 3084 1428 2787 \nQ 1159 2491 1159 1978 \nL 1159 0 \nL 581 0 \nL 581 4863 \nL 1159 4863 \nL 1159 2956 \nQ 1366 3272 1645 3428 \nQ 1925 3584 2291 3584 \nQ 2894 3584 3203 3211 \nQ 3513 2838 3513 2113 \nz\n\" transform=\"scale(0.015625)\"/>\n        <path id=\"DejaVuSans-77\" d=\"M 269 3500 \nL 844 3500 \nL 1563 769 \nL 2278 3500 \nL 2956 3500 \nL 3675 769 \nL 4391 3500 \nL 4966 3500 \nL 4050 0 \nL 3372 0 \nL 2619 2869 \nL 1863 0 \nL 1184 0 \nL 269 3500 \nz\n\" transform=\"scale(0.015625)\"/>\n       </defs>\n       <use xlink:href=\"#DejaVuSans-68\"/>\n       <use xlink:href=\"#DejaVuSans-6f\" x=\"63.378906\"/>\n       <use xlink:href=\"#DejaVuSans-77\" x=\"124.560547\"/>\n      </g>\n     </g>\n    </g>\n    <g id=\"xtick_31\">\n     <g id=\"line2d_34\">\n      <g>\n       <use xlink:href=\"#m011b8c796f\" x=\"88.998554\" y=\"228.96\" style=\"stroke: #000000; stroke-width: 0.8\"/>\n      </g>\n     </g>\n     <g id=\"text_7\">\n      <!-- much -->\n      <g transform=\"translate(92.309804 269.456875) rotate(-90) scale(0.12 -0.12)\">\n       <defs>\n        <path id=\"DejaVuSans-6d\" d=\"M 3328 2828 \nQ 3544 3216 3844 3400 \nQ 4144 3584 4550 3584 \nQ 5097 3584 5394 3201 \nQ 5691 2819 5691 2113 \nL 5691 0 \nL 5113 0 \nL 5113 2094 \nQ 5113 2597 4934 2840 \nQ 4756 3084 4391 3084 \nQ 3944 3084 3684 2787 \nQ 3425 2491 3425 1978 \nL 3425 0 \nL 2847 0 \nL 2847 2094 \nQ 2847 2600 2669 2842 \nQ 2491 3084 2119 3084 \nQ 1678 3084 1418 2786 \nQ 1159 2488 1159 1978 \nL 1159 0 \nL 581 0 \nL 581 3500 \nL 1159 3500 \nL 1159 2956 \nQ 1356 3278 1631 3431 \nQ 1906 3584 2284 3584 \nQ 2666 3584 2933 3390 \nQ 3200 3197 3328 2828 \nz\n\" transform=\"scale(0.015625)\"/>\n        <path id=\"DejaVuSans-75\" d=\"M 544 1381 \nL 544 3500 \nL 1119 3500 \nL 1119 1403 \nQ 1119 906 1312 657 \nQ 1506 409 1894 409 \nQ 2359 409 2629 706 \nQ 2900 1003 2900 1516 \nL 2900 3500 \nL 3475 3500 \nL 3475 0 \nL 2900 0 \nL 2900 538 \nQ 2691 219 2414 64 \nQ 2138 -91 1772 -91 \nQ 1169 -91 856 284 \nQ 544 659 544 1381 \nz\nM 1991 3584 \nL 1991 3584 \nz\n\" transform=\"scale(0.015625)\"/>\n       </defs>\n       <use xlink:href=\"#DejaVuSans-6d\"/>\n       <use xlink:href=\"#DejaVuSans-75\" x=\"97.412109\"/>\n       <use xlink:href=\"#DejaVuSans-63\" x=\"160.791016\"/>\n       <use xlink:href=\"#DejaVuSans-68\" x=\"215.771484\"/>\n      </g>\n     </g>\n    </g>\n    <g id=\"xtick_32\">\n     <g id=\"line2d_35\">\n      <g>\n       <use xlink:href=\"#m011b8c796f\" x=\"99.946886\" y=\"228.96\" style=\"stroke: #000000; stroke-width: 0.8\"/>\n      </g>\n     </g>\n     <g id=\"text_8\">\n      <!-- music -->\n      <g transform=\"translate(103.258136 271.436875) rotate(-90) scale(0.12 -0.12)\">\n       <defs>\n        <path id=\"DejaVuSans-69\" d=\"M 603 3500 \nL 1178 3500 \nL 1178 0 \nL 603 0 \nL 603 3500 \nz\nM 603 4863 \nL 1178 4863 \nL 1178 4134 \nL 603 4134 \nL 603 4863 \nz\n\" transform=\"scale(0.015625)\"/>\n       </defs>\n       <use xlink:href=\"#DejaVuSans-6d\"/>\n       <use xlink:href=\"#DejaVuSans-75\" x=\"97.412109\"/>\n       <use xlink:href=\"#DejaVuSans-73\" x=\"160.791016\"/>\n       <use xlink:href=\"#DejaVuSans-69\" x=\"212.890625\"/>\n       <use xlink:href=\"#DejaVuSans-63\" x=\"240.673828\"/>\n      </g>\n     </g>\n    </g>\n    <g id=\"xtick_33\">\n     <g id=\"line2d_36\">\n      <g>\n       <use xlink:href=\"#m011b8c796f\" x=\"110.895219\" y=\"228.96\" style=\"stroke: #000000; stroke-width: 0.8\"/>\n      </g>\n     </g>\n     <g id=\"text_9\">\n      <!-- can -->\n      <g transform=\"translate(114.206469 257.516875) rotate(-90) scale(0.12 -0.12)\">\n       <defs>\n        <path id=\"DejaVuSans-6e\" d=\"M 3513 2113 \nL 3513 0 \nL 2938 0 \nL 2938 2094 \nQ 2938 2591 2744 2837 \nQ 2550 3084 2163 3084 \nQ 1697 3084 1428 2787 \nQ 1159 2491 1159 1978 \nL 1159 0 \nL 581 0 \nL 581 3500 \nL 1159 3500 \nL 1159 2956 \nQ 1366 3272 1645 3428 \nQ 1925 3584 2291 3584 \nQ 2894 3584 3203 3211 \nQ 3513 2838 3513 2113 \nz\n\" transform=\"scale(0.015625)\"/>\n       </defs>\n       <use xlink:href=\"#DejaVuSans-63\"/>\n       <use xlink:href=\"#DejaVuSans-61\" x=\"54.980469\"/>\n       <use xlink:href=\"#DejaVuSans-6e\" x=\"116.259766\"/>\n      </g>\n     </g>\n    </g>\n    <g id=\"xtick_34\">\n     <g id=\"line2d_37\">\n      <g>\n       <use xlink:href=\"#m011b8c796f\" x=\"121.843551\" y=\"228.96\" style=\"stroke: #000000; stroke-width: 0.8\"/>\n      </g>\n     </g>\n     <g id=\"text_10\">\n      <!-- this -->\n      <g transform=\"translate(125.154801 257.854375) rotate(-90) scale(0.12 -0.12)\">\n       <use xlink:href=\"#DejaVuSans-74\"/>\n       <use xlink:href=\"#DejaVuSans-68\" x=\"39.208984\"/>\n       <use xlink:href=\"#DejaVuSans-69\" x=\"102.587891\"/>\n       <use xlink:href=\"#DejaVuSans-73\" x=\"130.371094\"/>\n      </g>\n     </g>\n    </g>\n    <g id=\"xtick_35\">\n     <g id=\"line2d_38\">\n      <g>\n       <use xlink:href=\"#m011b8c796f\" x=\"132.791883\" y=\"228.96\" style=\"stroke: #000000; stroke-width: 0.8\"/>\n      </g>\n     </g>\n     <g id=\"text_11\">\n      <!-- hold -->\n      <g transform=\"translate(136.103133 261.859375) rotate(-90) scale(0.12 -0.12)\">\n       <defs>\n        <path id=\"DejaVuSans-6c\" d=\"M 603 4863 \nL 1178 4863 \nL 1178 0 \nL 603 0 \nL 603 4863 \nz\n\" transform=\"scale(0.015625)\"/>\n        <path id=\"DejaVuSans-64\" d=\"M 2906 2969 \nL 2906 4863 \nL 3481 4863 \nL 3481 0 \nL 2906 0 \nL 2906 525 \nQ 2725 213 2448 61 \nQ 2172 -91 1784 -91 \nQ 1150 -91 751 415 \nQ 353 922 353 1747 \nQ 353 2572 751 3078 \nQ 1150 3584 1784 3584 \nQ 2172 3584 2448 3432 \nQ 2725 3281 2906 2969 \nz\nM 947 1747 \nQ 947 1113 1208 752 \nQ 1469 391 1925 391 \nQ 2381 391 2643 752 \nQ 2906 1113 2906 1747 \nQ 2906 2381 2643 2742 \nQ 2381 3103 1925 3103 \nQ 1469 3103 1208 2742 \nQ 947 2381 947 1747 \nz\n\" transform=\"scale(0.015625)\"/>\n       </defs>\n       <use xlink:href=\"#DejaVuSans-68\"/>\n       <use xlink:href=\"#DejaVuSans-6f\" x=\"63.378906\"/>\n       <use xlink:href=\"#DejaVuSans-6c\" x=\"124.560547\"/>\n       <use xlink:href=\"#DejaVuSans-64\" x=\"152.34375\"/>\n      </g>\n     </g>\n    </g>\n    <g id=\"xtick_36\">\n     <g id=\"line2d_39\">\n      <g>\n       <use xlink:href=\"#m011b8c796f\" x=\"143.740215\" y=\"228.96\" style=\"stroke: #000000; stroke-width: 0.8\"/>\n      </g>\n     </g>\n     <g id=\"text_12\">\n      <!-- ? -->\n      <g transform=\"translate(147.051465 242.329375) rotate(-90) scale(0.12 -0.12)\">\n       <defs>\n        <path id=\"DejaVuSans-3f\" d=\"M 1222 794 \nL 1856 794 \nL 1856 0 \nL 1222 0 \nL 1222 794 \nz\nM 1838 1253 \nL 1241 1253 \nL 1241 1734 \nQ 1241 2050 1328 2253 \nQ 1416 2456 1697 2725 \nL 1978 3003 \nQ 2156 3169 2236 3316 \nQ 2316 3463 2316 3616 \nQ 2316 3894 2111 4066 \nQ 1906 4238 1569 4238 \nQ 1322 4238 1042 4128 \nQ 763 4019 459 3809 \nL 459 4397 \nQ 753 4575 1054 4662 \nQ 1356 4750 1678 4750 \nQ 2253 4750 2601 4447 \nQ 2950 4144 2950 3647 \nQ 2950 3409 2837 3195 \nQ 2725 2981 2444 2713 \nL 2169 2444 \nQ 2022 2297 1961 2214 \nQ 1900 2131 1875 2053 \nQ 1856 1988 1847 1894 \nQ 1838 1800 1838 1638 \nL 1838 1253 \nz\n\" transform=\"scale(0.015625)\"/>\n       </defs>\n       <use xlink:href=\"#DejaVuSans-3f\"/>\n      </g>\n     </g>\n    </g>\n    <g id=\"xtick_37\">\n     <g id=\"line2d_40\">\n      <g>\n       <use xlink:href=\"#m011b8c796f\" x=\"154.688548\" y=\"228.96\" style=\"stroke: #000000; stroke-width: 0.8\"/>\n      </g>\n     </g>\n     <g id=\"text_13\">\n      <!-- [SEP] -->\n      <g transform=\"translate(157.999798 267.76) rotate(-90) scale(0.12 -0.12)\">\n       <defs>\n        <path id=\"DejaVuSans-45\" d=\"M 628 4666 \nL 3578 4666 \nL 3578 4134 \nL 1259 4134 \nL 1259 2753 \nL 3481 2753 \nL 3481 2222 \nL 1259 2222 \nL 1259 531 \nL 3634 531 \nL 3634 0 \nL 628 0 \nL 628 4666 \nz\n\" transform=\"scale(0.015625)\"/>\n        <path id=\"DejaVuSans-50\" d=\"M 1259 4147 \nL 1259 2394 \nL 2053 2394 \nQ 2494 2394 2734 2622 \nQ 2975 2850 2975 3272 \nQ 2975 3691 2734 3919 \nQ 2494 4147 2053 4147 \nL 1259 4147 \nz\nM 628 4666 \nL 2053 4666 \nQ 2838 4666 3239 4311 \nQ 3641 3956 3641 3272 \nQ 3641 2581 3239 2228 \nQ 2838 1875 2053 1875 \nL 1259 1875 \nL 1259 0 \nL 628 0 \nL 628 4666 \nz\n\" transform=\"scale(0.015625)\"/>\n       </defs>\n       <use xlink:href=\"#DejaVuSans-5b\"/>\n       <use xlink:href=\"#DejaVuSans-53\" x=\"39.013672\"/>\n       <use xlink:href=\"#DejaVuSans-45\" x=\"102.490234\"/>\n       <use xlink:href=\"#DejaVuSans-50\" x=\"165.673828\"/>\n       <use xlink:href=\"#DejaVuSans-5d\" x=\"225.976562\"/>\n      </g>\n     </g>\n    </g>\n    <g id=\"xtick_38\">\n     <g id=\"line2d_41\">\n      <g>\n       <use xlink:href=\"#m011b8c796f\" x=\"165.63688\" y=\"228.96\" style=\"stroke: #000000; stroke-width: 0.8\"/>\n      </g>\n     </g>\n     <g id=\"text_14\">\n      <!-- an -->\n      <g transform=\"translate(168.94813 250.91875) rotate(-90) scale(0.12 -0.12)\">\n       <use xlink:href=\"#DejaVuSans-61\"/>\n       <use xlink:href=\"#DejaVuSans-6e\" x=\"61.279297\"/>\n      </g>\n     </g>\n    </g>\n    <g id=\"xtick_39\">\n     <g id=\"line2d_42\">\n      <g>\n       <use xlink:href=\"#m011b8c796f\" x=\"176.585212\" y=\"228.96\" style=\"stroke: #000000; stroke-width: 0.8\"/>\n      </g>\n     </g>\n     <g id=\"text_15\">\n      <!-- mp3 -->\n      <g transform=\"translate(179.896462 262.901875) rotate(-90) scale(0.12 -0.12)\">\n       <defs>\n        <path id=\"DejaVuSans-70\" d=\"M 1159 525 \nL 1159 -1331 \nL 581 -1331 \nL 581 3500 \nL 1159 3500 \nL 1159 2969 \nQ 1341 3281 1617 3432 \nQ 1894 3584 2278 3584 \nQ 2916 3584 3314 3078 \nQ 3713 2572 3713 1747 \nQ 3713 922 3314 415 \nQ 2916 -91 2278 -91 \nQ 1894 -91 1617 61 \nQ 1341 213 1159 525 \nz\nM 3116 1747 \nQ 3116 2381 2855 2742 \nQ 2594 3103 2138 3103 \nQ 1681 3103 1420 2742 \nQ 1159 2381 1159 1747 \nQ 1159 1113 1420 752 \nQ 1681 391 2138 391 \nQ 2594 391 2855 752 \nQ 3116 1113 3116 1747 \nz\n\" transform=\"scale(0.015625)\"/>\n        <path id=\"DejaVuSans-33\" d=\"M 2597 2516 \nQ 3050 2419 3304 2112 \nQ 3559 1806 3559 1356 \nQ 3559 666 3084 287 \nQ 2609 -91 1734 -91 \nQ 1441 -91 1130 -33 \nQ 819 25 488 141 \nL 488 750 \nQ 750 597 1062 519 \nQ 1375 441 1716 441 \nQ 2309 441 2620 675 \nQ 2931 909 2931 1356 \nQ 2931 1769 2642 2001 \nQ 2353 2234 1838 2234 \nL 1294 2234 \nL 1294 2753 \nL 1863 2753 \nQ 2328 2753 2575 2939 \nQ 2822 3125 2822 3475 \nQ 2822 3834 2567 4026 \nQ 2313 4219 1838 4219 \nQ 1578 4219 1281 4162 \nQ 984 4106 628 3988 \nL 628 4550 \nQ 988 4650 1302 4700 \nQ 1616 4750 1894 4750 \nQ 2613 4750 3031 4423 \nQ 3450 4097 3450 3541 \nQ 3450 3153 3228 2886 \nQ 3006 2619 2597 2516 \nz\n\" transform=\"scale(0.015625)\"/>\n       </defs>\n       <use xlink:href=\"#DejaVuSans-6d\"/>\n       <use xlink:href=\"#DejaVuSans-70\" x=\"97.412109\"/>\n       <use xlink:href=\"#DejaVuSans-33\" x=\"160.888672\"/>\n      </g>\n     </g>\n    </g>\n    <g id=\"xtick_40\">\n     <g id=\"line2d_43\">\n      <g>\n       <use xlink:href=\"#m011b8c796f\" x=\"187.533544\" y=\"228.96\" style=\"stroke: #000000; stroke-width: 0.8\"/>\n      </g>\n     </g>\n     <g id=\"text_16\">\n      <!-- is -->\n      <g transform=\"translate(190.844794 245.545) rotate(-90) scale(0.12 -0.12)\">\n       <use xlink:href=\"#DejaVuSans-69\"/>\n       <use xlink:href=\"#DejaVuSans-73\" x=\"27.783203\"/>\n      </g>\n     </g>\n    </g>\n    <g id=\"xtick_41\">\n     <g id=\"line2d_44\">\n      <g>\n       <use xlink:href=\"#m011b8c796f\" x=\"198.481877\" y=\"228.96\" style=\"stroke: #000000; stroke-width: 0.8\"/>\n      </g>\n     </g>\n     <g id=\"text_17\">\n      <!-- about -->\n      <g transform=\"translate(201.793127 270.58375) rotate(-90) scale(0.12 -0.12)\">\n       <defs>\n        <path id=\"DejaVuSans-62\" d=\"M 3116 1747 \nQ 3116 2381 2855 2742 \nQ 2594 3103 2138 3103 \nQ 1681 3103 1420 2742 \nQ 1159 2381 1159 1747 \nQ 1159 1113 1420 752 \nQ 1681 391 2138 391 \nQ 2594 391 2855 752 \nQ 3116 1113 3116 1747 \nz\nM 1159 2969 \nQ 1341 3281 1617 3432 \nQ 1894 3584 2278 3584 \nQ 2916 3584 3314 3078 \nQ 3713 2572 3713 1747 \nQ 3713 922 3314 415 \nQ 2916 -91 2278 -91 \nQ 1894 -91 1617 61 \nQ 1341 213 1159 525 \nL 1159 0 \nL 581 0 \nL 581 4863 \nL 1159 4863 \nL 1159 2969 \nz\n\" transform=\"scale(0.015625)\"/>\n       </defs>\n       <use xlink:href=\"#DejaVuSans-61\"/>\n       <use xlink:href=\"#DejaVuSans-62\" x=\"61.279297\"/>\n       <use xlink:href=\"#DejaVuSans-6f\" x=\"124.755859\"/>\n       <use xlink:href=\"#DejaVuSans-75\" x=\"185.9375\"/>\n       <use xlink:href=\"#DejaVuSans-74\" x=\"249.316406\"/>\n      </g>\n     </g>\n    </g>\n    <g id=\"xtick_42\">\n     <g id=\"line2d_45\">\n      <g>\n       <use xlink:href=\"#m011b8c796f\" x=\"209.430209\" y=\"228.96\" style=\"stroke: #000000; stroke-width: 0.8\"/>\n      </g>\n     </g>\n     <g id=\"text_18\">\n      <!-- 1 -->\n      <g transform=\"translate(212.741459 243.595) rotate(-90) scale(0.12 -0.12)\">\n       <defs>\n        <path id=\"DejaVuSans-31\" d=\"M 794 531 \nL 1825 531 \nL 1825 4091 \nL 703 3866 \nL 703 4441 \nL 1819 4666 \nL 2450 4666 \nL 2450 531 \nL 3481 531 \nL 3481 0 \nL 794 0 \nL 794 531 \nz\n\" transform=\"scale(0.015625)\"/>\n       </defs>\n       <use xlink:href=\"#DejaVuSans-31\"/>\n      </g>\n     </g>\n    </g>\n    <g id=\"xtick_43\">\n     <g id=\"line2d_46\">\n      <g>\n       <use xlink:href=\"#m011b8c796f\" x=\"220.378541\" y=\"228.96\" style=\"stroke: #000000; stroke-width: 0.8\"/>\n      </g>\n     </g>\n     <g id=\"text_19\">\n      <!-- mb -->\n      <g transform=\"translate(223.689791 255.266875) rotate(-90) scale(0.12 -0.12)\">\n       <use xlink:href=\"#DejaVuSans-6d\"/>\n       <use xlink:href=\"#DejaVuSans-62\" x=\"97.412109\"/>\n      </g>\n     </g>\n    </g>\n    <g id=\"xtick_44\">\n     <g id=\"line2d_47\">\n      <g>\n       <use xlink:href=\"#m011b8c796f\" x=\"231.326873\" y=\"228.96\" style=\"stroke: #000000; stroke-width: 0.8\"/>\n      </g>\n     </g>\n     <g id=\"text_20\">\n      <!-- / -->\n      <g transform=\"translate(234.638123 240.0025) rotate(-90) scale(0.12 -0.12)\">\n       <defs>\n        <path id=\"DejaVuSans-2f\" d=\"M 1625 4666 \nL 2156 4666 \nL 531 -594 \nL 0 -594 \nL 1625 4666 \nz\n\" transform=\"scale(0.015625)\"/>\n       </defs>\n       <use xlink:href=\"#DejaVuSans-2f\"/>\n      </g>\n     </g>\n    </g>\n    <g id=\"xtick_45\">\n     <g id=\"line2d_48\">\n      <g>\n       <use xlink:href=\"#m011b8c796f\" x=\"242.275206\" y=\"228.96\" style=\"stroke: #000000; stroke-width: 0.8\"/>\n      </g>\n     </g>\n     <g id=\"text_21\">\n      <!-- minute -->\n      <g transform=\"translate(245.586456 278.280625) rotate(-90) scale(0.12 -0.12)\">\n       <use xlink:href=\"#DejaVuSans-6d\"/>\n       <use xlink:href=\"#DejaVuSans-69\" x=\"97.412109\"/>\n       <use xlink:href=\"#DejaVuSans-6e\" x=\"125.195312\"/>\n       <use xlink:href=\"#DejaVuSans-75\" x=\"188.574219\"/>\n       <use xlink:href=\"#DejaVuSans-74\" x=\"251.953125\"/>\n       <use xlink:href=\"#DejaVuSans-65\" x=\"291.162109\"/>\n      </g>\n     </g>\n    </g>\n    <g id=\"xtick_46\">\n     <g id=\"line2d_49\">\n      <g>\n       <use xlink:href=\"#m011b8c796f\" x=\"253.223538\" y=\"228.96\" style=\"stroke: #000000; stroke-width: 0.8\"/>\n      </g>\n     </g>\n     <g id=\"text_22\">\n      <!-- , -->\n      <g transform=\"translate(256.534788 239.77375) rotate(-90) scale(0.12 -0.12)\">\n       <defs>\n        <path id=\"DejaVuSans-2c\" d=\"M 750 794 \nL 1409 794 \nL 1409 256 \nL 897 -744 \nL 494 -744 \nL 750 256 \nL 750 794 \nz\n\" transform=\"scale(0.015625)\"/>\n       </defs>\n       <use xlink:href=\"#DejaVuSans-2c\"/>\n      </g>\n     </g>\n    </g>\n    <g id=\"xtick_47\">\n     <g id=\"line2d_50\">\n      <g>\n       <use xlink:href=\"#m011b8c796f\" x=\"264.17187\" y=\"228.96\" style=\"stroke: #000000; stroke-width: 0.8\"/>\n      </g>\n     </g>\n     <g id=\"text_23\">\n      <!-- so -->\n      <g transform=\"translate(267.48312 249.55375) rotate(-90) scale(0.12 -0.12)\">\n       <use xlink:href=\"#DejaVuSans-73\"/>\n       <use xlink:href=\"#DejaVuSans-6f\" x=\"52.099609\"/>\n      </g>\n     </g>\n    </g>\n    <g id=\"xtick_48\">\n     <g id=\"line2d_51\">\n      <g>\n       <use xlink:href=\"#m011b8c796f\" x=\"275.120202\" y=\"228.96\" style=\"stroke: #000000; stroke-width: 0.8\"/>\n      </g>\n     </g>\n     <g id=\"text_24\">\n      <!-- about -->\n      <g transform=\"translate(278.431452 270.58375) rotate(-90) scale(0.12 -0.12)\">\n       <use xlink:href=\"#DejaVuSans-61\"/>\n       <use xlink:href=\"#DejaVuSans-62\" x=\"61.279297\"/>\n       <use xlink:href=\"#DejaVuSans-6f\" x=\"124.755859\"/>\n       <use xlink:href=\"#DejaVuSans-75\" x=\"185.9375\"/>\n       <use xlink:href=\"#DejaVuSans-74\" x=\"249.316406\"/>\n      </g>\n     </g>\n    </g>\n    <g id=\"xtick_49\">\n     <g id=\"line2d_52\">\n      <g>\n       <use xlink:href=\"#m011b8c796f\" x=\"286.068535\" y=\"228.96\" style=\"stroke: #000000; stroke-width: 0.8\"/>\n      </g>\n     </g>\n     <g id=\"text_25\">\n      <!-- 6000 -->\n      <g transform=\"translate(289.379785 266.5) rotate(-90) scale(0.12 -0.12)\">\n       <defs>\n        <path id=\"DejaVuSans-36\" d=\"M 2113 2584 \nQ 1688 2584 1439 2293 \nQ 1191 2003 1191 1497 \nQ 1191 994 1439 701 \nQ 1688 409 2113 409 \nQ 2538 409 2786 701 \nQ 3034 994 3034 1497 \nQ 3034 2003 2786 2293 \nQ 2538 2584 2113 2584 \nz\nM 3366 4563 \nL 3366 3988 \nQ 3128 4100 2886 4159 \nQ 2644 4219 2406 4219 \nQ 1781 4219 1451 3797 \nQ 1122 3375 1075 2522 \nQ 1259 2794 1537 2939 \nQ 1816 3084 2150 3084 \nQ 2853 3084 3261 2657 \nQ 3669 2231 3669 1497 \nQ 3669 778 3244 343 \nQ 2819 -91 2113 -91 \nQ 1303 -91 875 529 \nQ 447 1150 447 2328 \nQ 447 3434 972 4092 \nQ 1497 4750 2381 4750 \nQ 2619 4750 2861 4703 \nQ 3103 4656 3366 4563 \nz\n\" transform=\"scale(0.015625)\"/>\n       </defs>\n       <use xlink:href=\"#DejaVuSans-36\"/>\n       <use xlink:href=\"#DejaVuSans-30\" x=\"63.623047\"/>\n       <use xlink:href=\"#DejaVuSans-30\" x=\"127.246094\"/>\n       <use xlink:href=\"#DejaVuSans-30\" x=\"190.869141\"/>\n      </g>\n     </g>\n    </g>\n    <g id=\"xtick_50\">\n     <g id=\"line2d_53\">\n      <g>\n       <use xlink:href=\"#m011b8c796f\" x=\"297.016867\" y=\"228.96\" style=\"stroke: #000000; stroke-width: 0.8\"/>\n      </g>\n     </g>\n     <g id=\"text_26\">\n      <!-- hours -->\n      <g transform=\"translate(300.328117 269.696875) rotate(-90) scale(0.12 -0.12)\">\n       <use xlink:href=\"#DejaVuSans-68\"/>\n       <use xlink:href=\"#DejaVuSans-6f\" x=\"63.378906\"/>\n       <use xlink:href=\"#DejaVuSans-75\" x=\"124.560547\"/>\n       <use xlink:href=\"#DejaVuSans-72\" x=\"187.939453\"/>\n       <use xlink:href=\"#DejaVuSans-73\" x=\"229.052734\"/>\n      </g>\n     </g>\n    </g>\n    <g id=\"xtick_51\">\n     <g id=\"line2d_54\">\n      <g>\n       <use xlink:href=\"#m011b8c796f\" x=\"307.965199\" y=\"228.96\" style=\"stroke: #000000; stroke-width: 0.8\"/>\n      </g>\n     </g>\n     <g id=\"text_27\">\n      <!-- depending -->\n      <g transform=\"translate(311.276449 299.74375) rotate(-90) scale(0.12 -0.12)\">\n       <defs>\n        <path id=\"DejaVuSans-67\" d=\"M 2906 1791 \nQ 2906 2416 2648 2759 \nQ 2391 3103 1925 3103 \nQ 1463 3103 1205 2759 \nQ 947 2416 947 1791 \nQ 947 1169 1205 825 \nQ 1463 481 1925 481 \nQ 2391 481 2648 825 \nQ 2906 1169 2906 1791 \nz\nM 3481 434 \nQ 3481 -459 3084 -895 \nQ 2688 -1331 1869 -1331 \nQ 1566 -1331 1297 -1286 \nQ 1028 -1241 775 -1147 \nL 775 -588 \nQ 1028 -725 1275 -790 \nQ 1522 -856 1778 -856 \nQ 2344 -856 2625 -561 \nQ 2906 -266 2906 331 \nL 2906 616 \nQ 2728 306 2450 153 \nQ 2172 0 1784 0 \nQ 1141 0 747 490 \nQ 353 981 353 1791 \nQ 353 2603 747 3093 \nQ 1141 3584 1784 3584 \nQ 2172 3584 2450 3431 \nQ 2728 3278 2906 2969 \nL 2906 3500 \nL 3481 3500 \nL 3481 434 \nz\n\" transform=\"scale(0.015625)\"/>\n       </defs>\n       <use xlink:href=\"#DejaVuSans-64\"/>\n       <use xlink:href=\"#DejaVuSans-65\" x=\"63.476562\"/>\n       <use xlink:href=\"#DejaVuSans-70\" x=\"125\"/>\n       <use xlink:href=\"#DejaVuSans-65\" x=\"188.476562\"/>\n       <use xlink:href=\"#DejaVuSans-6e\" x=\"250\"/>\n       <use xlink:href=\"#DejaVuSans-64\" x=\"313.378906\"/>\n       <use xlink:href=\"#DejaVuSans-69\" x=\"376.855469\"/>\n       <use xlink:href=\"#DejaVuSans-6e\" x=\"404.638672\"/>\n       <use xlink:href=\"#DejaVuSans-67\" x=\"468.017578\"/>\n      </g>\n     </g>\n    </g>\n    <g id=\"xtick_52\">\n     <g id=\"line2d_55\">\n      <g>\n       <use xlink:href=\"#m011b8c796f\" x=\"318.913531\" y=\"228.96\" style=\"stroke: #000000; stroke-width: 0.8\"/>\n      </g>\n     </g>\n     <g id=\"text_28\">\n      <!-- on -->\n      <g transform=\"translate(322.224781 250.9075) rotate(-90) scale(0.12 -0.12)\">\n       <use xlink:href=\"#DejaVuSans-6f\"/>\n       <use xlink:href=\"#DejaVuSans-6e\" x=\"61.181641\"/>\n      </g>\n     </g>\n    </g>\n    <g id=\"xtick_53\">\n     <g id=\"line2d_56\">\n      <g>\n       <use xlink:href=\"#m011b8c796f\" x=\"329.861864\" y=\"228.96\" style=\"stroke: #000000; stroke-width: 0.8\"/>\n      </g>\n     </g>\n     <g id=\"text_29\">\n      <!-- file -->\n      <g transform=\"translate(333.173114 254.235625) rotate(-90) scale(0.12 -0.12)\">\n       <defs>\n        <path id=\"DejaVuSans-66\" d=\"M 2375 4863 \nL 2375 4384 \nL 1825 4384 \nQ 1516 4384 1395 4259 \nQ 1275 4134 1275 3809 \nL 1275 3500 \nL 2222 3500 \nL 2222 3053 \nL 1275 3053 \nL 1275 0 \nL 697 0 \nL 697 3053 \nL 147 3053 \nL 147 3500 \nL 697 3500 \nL 697 3744 \nQ 697 4328 969 4595 \nQ 1241 4863 1831 4863 \nL 2375 4863 \nz\n\" transform=\"scale(0.015625)\"/>\n       </defs>\n       <use xlink:href=\"#DejaVuSans-66\"/>\n       <use xlink:href=\"#DejaVuSans-69\" x=\"35.205078\"/>\n       <use xlink:href=\"#DejaVuSans-6c\" x=\"62.988281\"/>\n       <use xlink:href=\"#DejaVuSans-65\" x=\"90.771484\"/>\n      </g>\n     </g>\n    </g>\n    <g id=\"xtick_54\">\n     <g id=\"line2d_57\">\n      <g>\n       <use xlink:href=\"#m011b8c796f\" x=\"340.810196\" y=\"228.96\" style=\"stroke: #000000; stroke-width: 0.8\"/>\n      </g>\n     </g>\n     <g id=\"text_30\">\n      <!-- size -->\n      <g transform=\"translate(344.121446 259.226875) rotate(-90) scale(0.12 -0.12)\">\n       <defs>\n        <path id=\"DejaVuSans-7a\" d=\"M 353 3500 \nL 3084 3500 \nL 3084 2975 \nL 922 459 \nL 3084 459 \nL 3084 0 \nL 275 0 \nL 275 525 \nL 2438 3041 \nL 353 3041 \nL 353 3500 \nz\n\" transform=\"scale(0.015625)\"/>\n       </defs>\n       <use xlink:href=\"#DejaVuSans-73\"/>\n       <use xlink:href=\"#DejaVuSans-69\" x=\"52.099609\"/>\n       <use xlink:href=\"#DejaVuSans-7a\" x=\"79.882812\"/>\n       <use xlink:href=\"#DejaVuSans-65\" x=\"132.373047\"/>\n      </g>\n     </g>\n    </g>\n    <g id=\"xtick_55\">\n     <g id=\"line2d_58\">\n      <g>\n       <use xlink:href=\"#m011b8c796f\" x=\"351.758528\" y=\"228.96\" style=\"stroke: #000000; stroke-width: 0.8\"/>\n      </g>\n     </g>\n     <g id=\"text_31\">\n      <!-- . -->\n      <g transform=\"translate(355.069778 239.77375) rotate(-90) scale(0.12 -0.12)\">\n       <defs>\n        <path id=\"DejaVuSans-2e\" d=\"M 684 794 \nL 1344 794 \nL 1344 0 \nL 684 0 \nL 684 794 \nz\n\" transform=\"scale(0.015625)\"/>\n       </defs>\n       <use xlink:href=\"#DejaVuSans-2e\"/>\n      </g>\n     </g>\n    </g>\n    <g id=\"xtick_56\">\n     <g id=\"line2d_59\">\n      <g>\n       <use xlink:href=\"#m011b8c796f\" x=\"362.70686\" y=\"228.96\" style=\"stroke: #000000; stroke-width: 0.8\"/>\n      </g>\n     </g>\n     <g id=\"text_32\">\n      <!-- [SEP] -->\n      <g transform=\"translate(366.01811 267.76) rotate(-90) scale(0.12 -0.12)\">\n       <use xlink:href=\"#DejaVuSans-5b\"/>\n       <use xlink:href=\"#DejaVuSans-53\" x=\"39.013672\"/>\n       <use xlink:href=\"#DejaVuSans-45\" x=\"102.490234\"/>\n       <use xlink:href=\"#DejaVuSans-50\" x=\"165.673828\"/>\n       <use xlink:href=\"#DejaVuSans-5d\" x=\"225.976562\"/>\n      </g>\n     </g>\n    </g>\n   </g>\n   <g id=\"matplotlib.axis_4\">\n    <g id=\"ytick_4\">\n     <g id=\"line2d_60\">\n      <g>\n       <use xlink:href=\"#m40663344ff\" x=\"47.504375\" y=\"220.154237\" style=\"stroke: #000000; stroke-width: 0.8\"/>\n      </g>\n     </g>\n     <g id=\"text_33\">\n      <!-- −5 -->\n      <g transform=\"translate(22.81375 224.713299) scale(0.12 -0.12)\">\n       <use xlink:href=\"#DejaVuSans-2212\"/>\n       <use xlink:href=\"#DejaVuSans-35\" x=\"83.789062\"/>\n      </g>\n     </g>\n    </g>\n    <g id=\"ytick_5\">\n     <g id=\"line2d_61\">\n      <g>\n       <use xlink:href=\"#m40663344ff\" x=\"47.504375\" y=\"179.156211\" style=\"stroke: #000000; stroke-width: 0.8\"/>\n      </g>\n     </g>\n     <g id=\"text_34\">\n      <!-- 0 -->\n      <g transform=\"translate(32.869375 183.715274) scale(0.12 -0.12)\">\n       <use xlink:href=\"#DejaVuSans-30\"/>\n      </g>\n     </g>\n    </g>\n    <g id=\"ytick_6\">\n     <g id=\"line2d_62\">\n      <g>\n       <use xlink:href=\"#m40663344ff\" x=\"47.504375\" y=\"138.158186\" style=\"stroke: #000000; stroke-width: 0.8\"/>\n      </g>\n     </g>\n     <g id=\"text_35\">\n      <!-- 5 -->\n      <g transform=\"translate(32.869375 142.717248) scale(0.12 -0.12)\">\n       <use xlink:href=\"#DejaVuSans-35\"/>\n      </g>\n     </g>\n    </g>\n    <g id=\"text_36\">\n     <!-- End Scores -->\n     <g transform=\"translate(16.318125 211.798125) rotate(-90) scale(0.12 -0.12)\">\n      <use xlink:href=\"#DejaVuSans-45\"/>\n      <use xlink:href=\"#DejaVuSans-6e\" x=\"63.183594\"/>\n      <use xlink:href=\"#DejaVuSans-64\" x=\"126.5625\"/>\n      <use xlink:href=\"#DejaVuSans-20\" x=\"190.039062\"/>\n      <use xlink:href=\"#DejaVuSans-53\" x=\"221.826172\"/>\n      <use xlink:href=\"#DejaVuSans-63\" x=\"285.302734\"/>\n      <use xlink:href=\"#DejaVuSans-6f\" x=\"340.283203\"/>\n      <use xlink:href=\"#DejaVuSans-72\" x=\"401.464844\"/>\n      <use xlink:href=\"#DejaVuSans-65\" x=\"440.328125\"/>\n      <use xlink:href=\"#DejaVuSans-73\" x=\"501.851562\"/>\n     </g>\n    </g>\n   </g>\n   <g id=\"patch_64\">\n    <path d=\"M 47.504375 228.96 \nL 47.504375 128.16 \n\" style=\"fill: none; stroke: #000000; stroke-width: 0.8; stroke-linejoin: miter; stroke-linecap: square\"/>\n   </g>\n   <g id=\"patch_65\">\n    <path d=\"M 382.304375 228.96 \nL 382.304375 128.16 \n\" style=\"fill: none; stroke: #000000; stroke-width: 0.8; stroke-linejoin: miter; stroke-linecap: square\"/>\n   </g>\n   <g id=\"patch_66\">\n    <path d=\"M 47.504375 228.96 \nL 382.304375 228.96 \n\" style=\"fill: none; stroke: #000000; stroke-width: 0.8; stroke-linejoin: miter; stroke-linecap: square\"/>\n   </g>\n   <g id=\"patch_67\">\n    <path d=\"M 47.504375 128.16 \nL 382.304375 128.16 \n\" style=\"fill: none; stroke: #000000; stroke-width: 0.8; stroke-linejoin: miter; stroke-linecap: square\"/>\n   </g>\n  </g>\n </g>\n <defs>\n  <clipPath id=\"p64920a89a5\">\n   <rect x=\"47.504375\" y=\"7.2\" width=\"334.8\" height=\"100.8\"/>\n  </clipPath>\n  <clipPath id=\"p7994a8d256\">\n   <rect x=\"47.504375\" y=\"128.16\" width=\"334.8\" height=\"100.8\"/>\n  </clipPath>\n </defs>\n</svg>\n",
            "application/pdf": "[encoded data removed]"
          },
          "metadata": {}
        }
      ],
      "source": [
        "#hide_input\n",
        "#id qa-scores\n",
        "#caption Predicted logits for the start and end tokens—the token with the highest score is colored in orange\n",
        "\n",
        "# The idea for this visualisation comes from https://mccormickml.com/2020/03/10/question-answering-with-a-fine-tuned-BERT\n",
        "import numpy as np\n",
        "import matplotlib.pyplot as plt\n",
        "\n",
        "s_scores = start_logits.detach().numpy().flatten()\n",
        "e_scores = end_logits.detach().numpy().flatten()\n",
        "tokens = tokenizer.convert_ids_to_tokens(inputs[\"input_ids\"][0])\n",
        "token_ids = range(len(tokens))\n",
        "\n",
        "fig, (ax1, ax2) = plt.subplots(nrows=2, sharex=True)\n",
        "colors = [\"C0\" if s != np.max(s_scores) else \"C1\" for s in s_scores]\n",
        "ax1.bar(x=token_ids, height=s_scores, color=colors)\n",
        "ax1.set_ylabel(\"Start Scores\")\n",
        "colors = [\"C0\" if s != np.max(e_scores) else \"C1\" for s in e_scores]\n",
        "ax2.bar(x=token_ids, height=e_scores, color=colors)\n",
        "ax2.set_ylabel(\"End Scores\")\n",
        "plt.xticks(token_ids, tokens, rotation=\"vertical\")\n",
        "plt.show()"
      ]
    },
    {
      "cell_type": "code",
      "execution_count": 21,
      "metadata": {
        "colab": {
          "base_uri": "https://localhost:8080/"
        },
        "id": "fTlz6xhU6t1j",
        "outputId": "d3ec1b74-1014-4ec3-eb25-88f01f01b4ad"
      },
      "outputs": [
        {
          "output_type": "stream",
          "name": "stdout",
          "text": [
            "Question: How much music can this hold?\n",
            "Answer: 6000 hours\n"
          ]
        }
      ],
      "source": [
        "import torch\n",
        "\n",
        "start_idx = torch.argmax(start_logits)\n",
        "end_idx = torch.argmax(end_logits) + 1\n",
        "answer_span = inputs[\"input_ids\"][0][start_idx:end_idx]\n",
        "answer = tokenizer.decode(answer_span)\n",
        "print(f\"Question: {question}\")\n",
        "print(f\"Answer: {answer}\")"
      ]
    },
    {
      "cell_type": "code",
      "execution_count": 22,
      "metadata": {
        "colab": {
          "base_uri": "https://localhost:8080/"
        },
        "id": "lvCw5vKM6t1k",
        "outputId": "9cd0d4a5-279f-44ae-c9c8-a744f036af82"
      },
      "outputs": [
        {
          "output_type": "stream",
          "name": "stderr",
          "text": [
            "/usr/local/lib/python3.10/dist-packages/transformers/pipelines/question_answering.py:326: UserWarning: topk parameter is deprecated, use top_k instead\n",
            "  warnings.warn(\"topk parameter is deprecated, use top_k instead\", UserWarning)\n"
          ]
        },
        {
          "output_type": "execute_result",
          "data": {
            "text/plain": [
              "[{'score': 0.2651616930961609, 'start': 38, 'end': 48, 'answer': '6000 hours'},\n",
              " {'score': 0.22082944214344025,\n",
              "  'start': 16,\n",
              "  'end': 48,\n",
              "  'answer': '1 MB/minute, so about 6000 hours'},\n",
              " {'score': 0.10253512114286423,\n",
              "  'start': 16,\n",
              "  'end': 27,\n",
              "  'answer': '1 MB/minute'}]"
            ]
          },
          "metadata": {},
          "execution_count": 22
        }
      ],
      "source": [
        "from transformers import pipeline\n",
        "\n",
        "pipe = pipeline(\"question-answering\", model=model, tokenizer=tokenizer)\n",
        "pipe(question=question, context=context, topk=3)"
      ]
    },
    {
      "cell_type": "code",
      "execution_count": 23,
      "metadata": {
        "colab": {
          "base_uri": "https://localhost:8080/"
        },
        "id": "yf8Q1jVe6t1k",
        "outputId": "ffbada5c-d677-49c5-8742-6f9137dea3f5"
      },
      "outputs": [
        {
          "output_type": "execute_result",
          "data": {
            "text/plain": [
              "{'score': 0.9068413972854614, 'start': 0, 'end': 0, 'answer': ''}"
            ]
          },
          "metadata": {},
          "execution_count": 23
        }
      ],
      "source": [
        "pipe(question=\"Why is there no data?\", context=context,\n",
        "     handle_impossible_answer=True)"
      ]
    },
    {
      "cell_type": "markdown",
      "metadata": {
        "id": "z-vI21LE6t1k"
      },
      "source": [
        "#### Dealing with long passages"
      ]
    },
    {
      "cell_type": "code",
      "execution_count": 24,
      "metadata": {
        "colab": {
          "base_uri": "https://localhost:8080/",
          "height": 382
        },
        "id": "RbIJn8cp6t1k",
        "outputId": "df7d4811-b96a-4ac0-e520-25694a4d97ac"
      },
      "outputs": [
        {
          "output_type": "display_data",
          "data": {
            "text/plain": [
              "<Figure size 600x400 with 1 Axes>"
            ],
            "image/svg+xml": "<?xml version=\"1.0\" encoding=\"utf-8\" standalone=\"no\"?>\n<!DOCTYPE svg PUBLIC \"-//W3C//DTD SVG 1.1//EN\"\n  \"http://www.w3.org/Graphics/SVG/1.1/DTD/svg11.dtd\">\n<svg xmlns:xlink=\"http://www.w3.org/1999/xlink\" width=\"394.71875pt\" height=\"270.3875pt\" viewBox=\"0 0 394.71875 270.3875\" xmlns=\"http://www.w3.org/2000/svg\" version=\"1.1\">\n <metadata>\n  <rdf:RDF xmlns:dc=\"http://purl.org/dc/elements/1.1/\" xmlns:cc=\"http://creativecommons.org/ns#\" xmlns:rdf=\"http://www.w3.org/1999/02/22-rdf-syntax-ns#\">\n   <cc:Work>\n    <dc:type rdf:resource=\"http://purl.org/dc/dcmitype/StillImage\"/>\n    <dc:date>2024-06-27T11:15:53.705999</dc:date>\n    <dc:format>image/svg+xml</dc:format>\n    <dc:creator>\n     <cc:Agent>\n      <dc:title>Matplotlib v3.7.1, https://matplotlib.org/</dc:title>\n     </cc:Agent>\n    </dc:creator>\n   </cc:Work>\n  </rdf:RDF>\n </metadata>\n <defs>\n  <style type=\"text/css\">*{stroke-linejoin: round; stroke-linecap: butt}</style>\n </defs>\n <g id=\"figure_1\">\n  <g id=\"patch_1\">\n   <path d=\"M 0 270.3875 \nL 394.71875 270.3875 \nL 394.71875 0 \nL 0 0 \nz\n\" style=\"fill: #ffffff\"/>\n  </g>\n  <g id=\"axes_1\">\n   <g id=\"patch_2\">\n    <path d=\"M 52.71875 228.96 \nL 387.51875 228.96 \nL 387.51875 7.2 \nL 52.71875 7.2 \nz\n\" style=\"fill: #ffffff\"/>\n   </g>\n   <g id=\"patch_3\">\n    <path d=\"M 67.936932 228.96 \nL 70.980568 228.96 \nL 70.980568 17.76 \nL 67.936932 17.76 \nz\n\" clip-path=\"url(#p0e91306ede)\" style=\"fill: #0071bc; stroke: #0071bc; stroke-linejoin: miter\"/>\n   </g>\n   <g id=\"patch_4\">\n    <path d=\"M 70.980568 228.96 \nL 74.024205 228.96 \nL 74.024205 39.445714 \nL 70.980568 39.445714 \nz\n\" clip-path=\"url(#p0e91306ede)\" style=\"fill: #0071bc; stroke: #0071bc; stroke-linejoin: miter\"/>\n   </g>\n   <g id=\"patch_5\">\n    <path d=\"M 74.024205 228.96 \nL 77.067841 228.96 \nL 77.067841 65.845714 \nL 74.024205 65.845714 \nz\n\" clip-path=\"url(#p0e91306ede)\" style=\"fill: #0071bc; stroke: #0071bc; stroke-linejoin: miter\"/>\n   </g>\n   <g id=\"patch_6\">\n    <path d=\"M 77.067841 228.96 \nL 80.111477 228.96 \nL 80.111477 115.817143 \nL 77.067841 115.817143 \nz\n\" clip-path=\"url(#p0e91306ede)\" style=\"fill: #0071bc; stroke: #0071bc; stroke-linejoin: miter\"/>\n   </g>\n   <g id=\"patch_7\">\n    <path d=\"M 80.111477 228.96 \nL 83.155114 228.96 \nL 83.155114 136.56 \nL 80.111477 136.56 \nz\n\" clip-path=\"url(#p0e91306ede)\" style=\"fill: #0071bc; stroke: #0071bc; stroke-linejoin: miter\"/>\n   </g>\n   <g id=\"patch_8\">\n    <path d=\"M 83.155114 228.96 \nL 86.19875 228.96 \nL 86.19875 167.674286 \nL 83.155114 167.674286 \nz\n\" clip-path=\"url(#p0e91306ede)\" style=\"fill: #0071bc; stroke: #0071bc; stroke-linejoin: miter\"/>\n   </g>\n   <g id=\"patch_9\">\n    <path d=\"M 86.19875 228.96 \nL 89.242386 228.96 \nL 89.242386 172.388571 \nL 86.19875 172.388571 \nz\n\" clip-path=\"url(#p0e91306ede)\" style=\"fill: #0071bc; stroke: #0071bc; stroke-linejoin: miter\"/>\n   </g>\n   <g id=\"patch_10\">\n    <path d=\"M 89.242386 228.96 \nL 92.286023 228.96 \nL 92.286023 192.188571 \nL 89.242386 192.188571 \nz\n\" clip-path=\"url(#p0e91306ede)\" style=\"fill: #0071bc; stroke: #0071bc; stroke-linejoin: miter\"/>\n   </g>\n   <g id=\"patch_11\">\n    <path d=\"M 92.286023 228.96 \nL 95.329659 228.96 \nL 95.329659 190.302857 \nL 92.286023 190.302857 \nz\n\" clip-path=\"url(#p0e91306ede)\" style=\"fill: #0071bc; stroke: #0071bc; stroke-linejoin: miter\"/>\n   </g>\n   <g id=\"patch_12\">\n    <path d=\"M 95.329659 228.96 \nL 98.373295 228.96 \nL 98.373295 195.017143 \nL 95.329659 195.017143 \nz\n\" clip-path=\"url(#p0e91306ede)\" style=\"fill: #0071bc; stroke: #0071bc; stroke-linejoin: miter\"/>\n   </g>\n   <g id=\"patch_13\">\n    <path d=\"M 98.373295 228.96 \nL 101.416932 228.96 \nL 101.416932 208.217143 \nL 98.373295 208.217143 \nz\n\" clip-path=\"url(#p0e91306ede)\" style=\"fill: #0071bc; stroke: #0071bc; stroke-linejoin: miter\"/>\n   </g>\n   <g id=\"patch_14\">\n    <path d=\"M 101.416932 228.96 \nL 104.460568 228.96 \nL 104.460568 204.445714 \nL 101.416932 204.445714 \nz\n\" clip-path=\"url(#p0e91306ede)\" style=\"fill: #0071bc; stroke: #0071bc; stroke-linejoin: miter\"/>\n   </g>\n   <g id=\"patch_15\">\n    <path d=\"M 104.460568 228.96 \nL 107.504205 228.96 \nL 107.504205 211.988571 \nL 104.460568 211.988571 \nz\n\" clip-path=\"url(#p0e91306ede)\" style=\"fill: #0071bc; stroke: #0071bc; stroke-linejoin: miter\"/>\n   </g>\n   <g id=\"patch_16\">\n    <path d=\"M 107.504205 228.96 \nL 110.547841 228.96 \nL 110.547841 208.217143 \nL 107.504205 208.217143 \nz\n\" clip-path=\"url(#p0e91306ede)\" style=\"fill: #0071bc; stroke: #0071bc; stroke-linejoin: miter\"/>\n   </g>\n   <g id=\"patch_17\">\n    <path d=\"M 110.547841 228.96 \nL 113.591477 228.96 \nL 113.591477 218.588571 \nL 110.547841 218.588571 \nz\n\" clip-path=\"url(#p0e91306ede)\" style=\"fill: #0071bc; stroke: #0071bc; stroke-linejoin: miter\"/>\n   </g>\n   <g id=\"patch_18\">\n    <path d=\"M 113.591477 228.96 \nL 116.635114 228.96 \nL 116.635114 209.16 \nL 113.591477 209.16 \nz\n\" clip-path=\"url(#p0e91306ede)\" style=\"fill: #0071bc; stroke: #0071bc; stroke-linejoin: miter\"/>\n   </g>\n   <g id=\"patch_19\">\n    <path d=\"M 116.635114 228.96 \nL 119.67875 228.96 \nL 119.67875 213.874286 \nL 116.635114 213.874286 \nz\n\" clip-path=\"url(#p0e91306ede)\" style=\"fill: #0071bc; stroke: #0071bc; stroke-linejoin: miter\"/>\n   </g>\n   <g id=\"patch_20\">\n    <path d=\"M 119.67875 228.96 \nL 122.722386 228.96 \nL 122.722386 216.702857 \nL 119.67875 216.702857 \nz\n\" clip-path=\"url(#p0e91306ede)\" style=\"fill: #0071bc; stroke: #0071bc; stroke-linejoin: miter\"/>\n   </g>\n   <g id=\"patch_21\">\n    <path d=\"M 122.722386 228.96 \nL 125.766023 228.96 \nL 125.766023 222.36 \nL 122.722386 222.36 \nz\n\" clip-path=\"url(#p0e91306ede)\" style=\"fill: #0071bc; stroke: #0071bc; stroke-linejoin: miter\"/>\n   </g>\n   <g id=\"patch_22\">\n    <path d=\"M 125.766023 228.96 \nL 128.809659 228.96 \nL 128.809659 222.36 \nL 125.766023 222.36 \nz\n\" clip-path=\"url(#p0e91306ede)\" style=\"fill: #0071bc; stroke: #0071bc; stroke-linejoin: miter\"/>\n   </g>\n   <g id=\"patch_23\">\n    <path d=\"M 128.809659 228.96 \nL 131.853295 228.96 \nL 131.853295 225.188571 \nL 128.809659 225.188571 \nz\n\" clip-path=\"url(#p0e91306ede)\" style=\"fill: #0071bc; stroke: #0071bc; stroke-linejoin: miter\"/>\n   </g>\n   <g id=\"patch_24\">\n    <path d=\"M 131.853295 228.96 \nL 134.896932 228.96 \nL 134.896932 224.245714 \nL 131.853295 224.245714 \nz\n\" clip-path=\"url(#p0e91306ede)\" style=\"fill: #0071bc; stroke: #0071bc; stroke-linejoin: miter\"/>\n   </g>\n   <g id=\"patch_25\">\n    <path d=\"M 134.896932 228.96 \nL 137.940568 228.96 \nL 137.940568 224.245714 \nL 134.896932 224.245714 \nz\n\" clip-path=\"url(#p0e91306ede)\" style=\"fill: #0071bc; stroke: #0071bc; stroke-linejoin: miter\"/>\n   </g>\n   <g id=\"patch_26\">\n    <path d=\"M 137.940568 228.96 \nL 140.984205 228.96 \nL 140.984205 225.188571 \nL 137.940568 225.188571 \nz\n\" clip-path=\"url(#p0e91306ede)\" style=\"fill: #0071bc; stroke: #0071bc; stroke-linejoin: miter\"/>\n   </g>\n   <g id=\"patch_27\">\n    <path d=\"M 140.984205 228.96 \nL 144.027841 228.96 \nL 144.027841 221.417143 \nL 140.984205 221.417143 \nz\n\" clip-path=\"url(#p0e91306ede)\" style=\"fill: #0071bc; stroke: #0071bc; stroke-linejoin: miter\"/>\n   </g>\n   <g id=\"patch_28\">\n    <path d=\"M 144.027841 228.96 \nL 147.071477 228.96 \nL 147.071477 224.245714 \nL 144.027841 224.245714 \nz\n\" clip-path=\"url(#p0e91306ede)\" style=\"fill: #0071bc; stroke: #0071bc; stroke-linejoin: miter\"/>\n   </g>\n   <g id=\"patch_29\">\n    <path d=\"M 147.071477 228.96 \nL 150.115114 228.96 \nL 150.115114 226.131429 \nL 147.071477 226.131429 \nz\n\" clip-path=\"url(#p0e91306ede)\" style=\"fill: #0071bc; stroke: #0071bc; stroke-linejoin: miter\"/>\n   </g>\n   <g id=\"patch_30\">\n    <path d=\"M 150.115114 228.96 \nL 153.15875 228.96 \nL 153.15875 228.96 \nL 150.115114 228.96 \nz\n\" clip-path=\"url(#p0e91306ede)\" style=\"fill: #0071bc; stroke: #0071bc; stroke-linejoin: miter\"/>\n   </g>\n   <g id=\"patch_31\">\n    <path d=\"M 153.15875 228.96 \nL 156.202386 228.96 \nL 156.202386 225.188571 \nL 153.15875 225.188571 \nz\n\" clip-path=\"url(#p0e91306ede)\" style=\"fill: #0071bc; stroke: #0071bc; stroke-linejoin: miter\"/>\n   </g>\n   <g id=\"patch_32\">\n    <path d=\"M 156.202386 228.96 \nL 159.246023 228.96 \nL 159.246023 224.245714 \nL 156.202386 224.245714 \nz\n\" clip-path=\"url(#p0e91306ede)\" style=\"fill: #0071bc; stroke: #0071bc; stroke-linejoin: miter\"/>\n   </g>\n   <g id=\"patch_33\">\n    <path d=\"M 159.246023 228.96 \nL 162.289659 228.96 \nL 162.289659 226.131429 \nL 159.246023 226.131429 \nz\n\" clip-path=\"url(#p0e91306ede)\" style=\"fill: #0071bc; stroke: #0071bc; stroke-linejoin: miter\"/>\n   </g>\n   <g id=\"patch_34\">\n    <path d=\"M 162.289659 228.96 \nL 165.333295 228.96 \nL 165.333295 227.074286 \nL 162.289659 227.074286 \nz\n\" clip-path=\"url(#p0e91306ede)\" style=\"fill: #0071bc; stroke: #0071bc; stroke-linejoin: miter\"/>\n   </g>\n   <g id=\"patch_35\">\n    <path d=\"M 165.333295 228.96 \nL 168.376932 228.96 \nL 168.376932 228.017143 \nL 165.333295 228.017143 \nz\n\" clip-path=\"url(#p0e91306ede)\" style=\"fill: #0071bc; stroke: #0071bc; stroke-linejoin: miter\"/>\n   </g>\n   <g id=\"patch_36\">\n    <path d=\"M 168.376932 228.96 \nL 171.420568 228.96 \nL 171.420568 228.96 \nL 168.376932 228.96 \nz\n\" clip-path=\"url(#p0e91306ede)\" style=\"fill: #0071bc; stroke: #0071bc; stroke-linejoin: miter\"/>\n   </g>\n   <g id=\"patch_37\">\n    <path d=\"M 171.420568 228.96 \nL 174.464205 228.96 \nL 174.464205 228.96 \nL 171.420568 228.96 \nz\n\" clip-path=\"url(#p0e91306ede)\" style=\"fill: #0071bc; stroke: #0071bc; stroke-linejoin: miter\"/>\n   </g>\n   <g id=\"patch_38\">\n    <path d=\"M 174.464205 228.96 \nL 177.507841 228.96 \nL 177.507841 228.017143 \nL 174.464205 228.017143 \nz\n\" clip-path=\"url(#p0e91306ede)\" style=\"fill: #0071bc; stroke: #0071bc; stroke-linejoin: miter\"/>\n   </g>\n   <g id=\"patch_39\">\n    <path d=\"M 177.507841 228.96 \nL 180.551477 228.96 \nL 180.551477 228.017143 \nL 177.507841 228.017143 \nz\n\" clip-path=\"url(#p0e91306ede)\" style=\"fill: #0071bc; stroke: #0071bc; stroke-linejoin: miter\"/>\n   </g>\n   <g id=\"patch_40\">\n    <path d=\"M 180.551477 228.96 \nL 183.595114 228.96 \nL 183.595114 228.96 \nL 180.551477 228.96 \nz\n\" clip-path=\"url(#p0e91306ede)\" style=\"fill: #0071bc; stroke: #0071bc; stroke-linejoin: miter\"/>\n   </g>\n   <g id=\"patch_41\">\n    <path d=\"M 183.595114 228.96 \nL 186.63875 228.96 \nL 186.63875 228.017143 \nL 183.595114 228.017143 \nz\n\" clip-path=\"url(#p0e91306ede)\" style=\"fill: #0071bc; stroke: #0071bc; stroke-linejoin: miter\"/>\n   </g>\n   <g id=\"patch_42\">\n    <path d=\"M 186.63875 228.96 \nL 189.682386 228.96 \nL 189.682386 228.96 \nL 186.63875 228.96 \nz\n\" clip-path=\"url(#p0e91306ede)\" style=\"fill: #0071bc; stroke: #0071bc; stroke-linejoin: miter\"/>\n   </g>\n   <g id=\"patch_43\">\n    <path d=\"M 189.682386 228.96 \nL 192.726023 228.96 \nL 192.726023 227.074286 \nL 189.682386 227.074286 \nz\n\" clip-path=\"url(#p0e91306ede)\" style=\"fill: #0071bc; stroke: #0071bc; stroke-linejoin: miter\"/>\n   </g>\n   <g id=\"patch_44\">\n    <path d=\"M 192.726023 228.96 \nL 195.769659 228.96 \nL 195.769659 227.074286 \nL 192.726023 227.074286 \nz\n\" clip-path=\"url(#p0e91306ede)\" style=\"fill: #0071bc; stroke: #0071bc; stroke-linejoin: miter\"/>\n   </g>\n   <g id=\"patch_45\">\n    <path d=\"M 195.769659 228.96 \nL 198.813295 228.96 \nL 198.813295 228.017143 \nL 195.769659 228.017143 \nz\n\" clip-path=\"url(#p0e91306ede)\" style=\"fill: #0071bc; stroke: #0071bc; stroke-linejoin: miter\"/>\n   </g>\n   <g id=\"patch_46\">\n    <path d=\"M 198.813295 228.96 \nL 201.856932 228.96 \nL 201.856932 227.074286 \nL 198.813295 227.074286 \nz\n\" clip-path=\"url(#p0e91306ede)\" style=\"fill: #0071bc; stroke: #0071bc; stroke-linejoin: miter\"/>\n   </g>\n   <g id=\"patch_47\">\n    <path d=\"M 201.856932 228.96 \nL 204.900568 228.96 \nL 204.900568 228.96 \nL 201.856932 228.96 \nz\n\" clip-path=\"url(#p0e91306ede)\" style=\"fill: #0071bc; stroke: #0071bc; stroke-linejoin: miter\"/>\n   </g>\n   <g id=\"patch_48\">\n    <path d=\"M 204.900568 228.96 \nL 207.944205 228.96 \nL 207.944205 228.017143 \nL 204.900568 228.017143 \nz\n\" clip-path=\"url(#p0e91306ede)\" style=\"fill: #0071bc; stroke: #0071bc; stroke-linejoin: miter\"/>\n   </g>\n   <g id=\"patch_49\">\n    <path d=\"M 207.944205 228.96 \nL 210.987841 228.96 \nL 210.987841 228.017143 \nL 207.944205 228.017143 \nz\n\" clip-path=\"url(#p0e91306ede)\" style=\"fill: #0071bc; stroke: #0071bc; stroke-linejoin: miter\"/>\n   </g>\n   <g id=\"patch_50\">\n    <path d=\"M 210.987841 228.96 \nL 214.031477 228.96 \nL 214.031477 228.96 \nL 210.987841 228.96 \nz\n\" clip-path=\"url(#p0e91306ede)\" style=\"fill: #0071bc; stroke: #0071bc; stroke-linejoin: miter\"/>\n   </g>\n   <g id=\"patch_51\">\n    <path d=\"M 214.031477 228.96 \nL 217.075114 228.96 \nL 217.075114 228.96 \nL 214.031477 228.96 \nz\n\" clip-path=\"url(#p0e91306ede)\" style=\"fill: #0071bc; stroke: #0071bc; stroke-linejoin: miter\"/>\n   </g>\n   <g id=\"patch_52\">\n    <path d=\"M 217.075114 228.96 \nL 220.11875 228.96 \nL 220.11875 228.96 \nL 217.075114 228.96 \nz\n\" clip-path=\"url(#p0e91306ede)\" style=\"fill: #0071bc; stroke: #0071bc; stroke-linejoin: miter\"/>\n   </g>\n   <g id=\"patch_53\">\n    <path d=\"M 220.11875 228.96 \nL 223.162386 228.96 \nL 223.162386 228.96 \nL 220.11875 228.96 \nz\n\" clip-path=\"url(#p0e91306ede)\" style=\"fill: #0071bc; stroke: #0071bc; stroke-linejoin: miter\"/>\n   </g>\n   <g id=\"patch_54\">\n    <path d=\"M 223.162386 228.96 \nL 226.206023 228.96 \nL 226.206023 227.074286 \nL 223.162386 227.074286 \nz\n\" clip-path=\"url(#p0e91306ede)\" style=\"fill: #0071bc; stroke: #0071bc; stroke-linejoin: miter\"/>\n   </g>\n   <g id=\"patch_55\">\n    <path d=\"M 226.206023 228.96 \nL 229.249659 228.96 \nL 229.249659 228.017143 \nL 226.206023 228.017143 \nz\n\" clip-path=\"url(#p0e91306ede)\" style=\"fill: #0071bc; stroke: #0071bc; stroke-linejoin: miter\"/>\n   </g>\n   <g id=\"patch_56\">\n    <path d=\"M 229.249659 228.96 \nL 232.293295 228.96 \nL 232.293295 228.96 \nL 229.249659 228.96 \nz\n\" clip-path=\"url(#p0e91306ede)\" style=\"fill: #0071bc; stroke: #0071bc; stroke-linejoin: miter\"/>\n   </g>\n   <g id=\"patch_57\">\n    <path d=\"M 232.293295 228.96 \nL 235.336932 228.96 \nL 235.336932 227.074286 \nL 232.293295 227.074286 \nz\n\" clip-path=\"url(#p0e91306ede)\" style=\"fill: #0071bc; stroke: #0071bc; stroke-linejoin: miter\"/>\n   </g>\n   <g id=\"patch_58\">\n    <path d=\"M 235.336932 228.96 \nL 238.380568 228.96 \nL 238.380568 228.017143 \nL 235.336932 228.017143 \nz\n\" clip-path=\"url(#p0e91306ede)\" style=\"fill: #0071bc; stroke: #0071bc; stroke-linejoin: miter\"/>\n   </g>\n   <g id=\"patch_59\">\n    <path d=\"M 238.380568 228.96 \nL 241.424205 228.96 \nL 241.424205 228.96 \nL 238.380568 228.96 \nz\n\" clip-path=\"url(#p0e91306ede)\" style=\"fill: #0071bc; stroke: #0071bc; stroke-linejoin: miter\"/>\n   </g>\n   <g id=\"patch_60\">\n    <path d=\"M 241.424205 228.96 \nL 244.467841 228.96 \nL 244.467841 228.017143 \nL 241.424205 228.017143 \nz\n\" clip-path=\"url(#p0e91306ede)\" style=\"fill: #0071bc; stroke: #0071bc; stroke-linejoin: miter\"/>\n   </g>\n   <g id=\"patch_61\">\n    <path d=\"M 244.467841 228.96 \nL 247.511477 228.96 \nL 247.511477 228.96 \nL 244.467841 228.96 \nz\n\" clip-path=\"url(#p0e91306ede)\" style=\"fill: #0071bc; stroke: #0071bc; stroke-linejoin: miter\"/>\n   </g>\n   <g id=\"patch_62\">\n    <path d=\"M 247.511477 228.96 \nL 250.555114 228.96 \nL 250.555114 228.017143 \nL 247.511477 228.017143 \nz\n\" clip-path=\"url(#p0e91306ede)\" style=\"fill: #0071bc; stroke: #0071bc; stroke-linejoin: miter\"/>\n   </g>\n   <g id=\"patch_63\">\n    <path d=\"M 250.555114 228.96 \nL 253.59875 228.96 \nL 253.59875 227.074286 \nL 250.555114 227.074286 \nz\n\" clip-path=\"url(#p0e91306ede)\" style=\"fill: #0071bc; stroke: #0071bc; stroke-linejoin: miter\"/>\n   </g>\n   <g id=\"patch_64\">\n    <path d=\"M 253.59875 228.96 \nL 256.642386 228.96 \nL 256.642386 228.96 \nL 253.59875 228.96 \nz\n\" clip-path=\"url(#p0e91306ede)\" style=\"fill: #0071bc; stroke: #0071bc; stroke-linejoin: miter\"/>\n   </g>\n   <g id=\"patch_65\">\n    <path d=\"M 256.642386 228.96 \nL 259.686023 228.96 \nL 259.686023 228.017143 \nL 256.642386 228.017143 \nz\n\" clip-path=\"url(#p0e91306ede)\" style=\"fill: #0071bc; stroke: #0071bc; stroke-linejoin: miter\"/>\n   </g>\n   <g id=\"patch_66\">\n    <path d=\"M 259.686023 228.96 \nL 262.729659 228.96 \nL 262.729659 228.96 \nL 259.686023 228.96 \nz\n\" clip-path=\"url(#p0e91306ede)\" style=\"fill: #0071bc; stroke: #0071bc; stroke-linejoin: miter\"/>\n   </g>\n   <g id=\"patch_67\">\n    <path d=\"M 262.729659 228.96 \nL 265.773295 228.96 \nL 265.773295 228.017143 \nL 262.729659 228.017143 \nz\n\" clip-path=\"url(#p0e91306ede)\" style=\"fill: #0071bc; stroke: #0071bc; stroke-linejoin: miter\"/>\n   </g>\n   <g id=\"patch_68\">\n    <path d=\"M 265.773295 228.96 \nL 268.816932 228.96 \nL 268.816932 228.96 \nL 265.773295 228.96 \nz\n\" clip-path=\"url(#p0e91306ede)\" style=\"fill: #0071bc; stroke: #0071bc; stroke-linejoin: miter\"/>\n   </g>\n   <g id=\"patch_69\">\n    <path d=\"M 268.816932 228.96 \nL 271.860568 228.96 \nL 271.860568 228.96 \nL 268.816932 228.96 \nz\n\" clip-path=\"url(#p0e91306ede)\" style=\"fill: #0071bc; stroke: #0071bc; stroke-linejoin: miter\"/>\n   </g>\n   <g id=\"patch_70\">\n    <path d=\"M 271.860568 228.96 \nL 274.904205 228.96 \nL 274.904205 228.96 \nL 271.860568 228.96 \nz\n\" clip-path=\"url(#p0e91306ede)\" style=\"fill: #0071bc; stroke: #0071bc; stroke-linejoin: miter\"/>\n   </g>\n   <g id=\"patch_71\">\n    <path d=\"M 274.904205 228.96 \nL 277.947841 228.96 \nL 277.947841 228.96 \nL 274.904205 228.96 \nz\n\" clip-path=\"url(#p0e91306ede)\" style=\"fill: #0071bc; stroke: #0071bc; stroke-linejoin: miter\"/>\n   </g>\n   <g id=\"patch_72\">\n    <path d=\"M 277.947841 228.96 \nL 280.991477 228.96 \nL 280.991477 228.96 \nL 277.947841 228.96 \nz\n\" clip-path=\"url(#p0e91306ede)\" style=\"fill: #0071bc; stroke: #0071bc; stroke-linejoin: miter\"/>\n   </g>\n   <g id=\"patch_73\">\n    <path d=\"M 280.991477 228.96 \nL 284.035114 228.96 \nL 284.035114 228.96 \nL 280.991477 228.96 \nz\n\" clip-path=\"url(#p0e91306ede)\" style=\"fill: #0071bc; stroke: #0071bc; stroke-linejoin: miter\"/>\n   </g>\n   <g id=\"patch_74\">\n    <path d=\"M 284.035114 228.96 \nL 287.07875 228.96 \nL 287.07875 228.96 \nL 284.035114 228.96 \nz\n\" clip-path=\"url(#p0e91306ede)\" style=\"fill: #0071bc; stroke: #0071bc; stroke-linejoin: miter\"/>\n   </g>\n   <g id=\"patch_75\">\n    <path d=\"M 287.07875 228.96 \nL 290.122386 228.96 \nL 290.122386 228.96 \nL 287.07875 228.96 \nz\n\" clip-path=\"url(#p0e91306ede)\" style=\"fill: #0071bc; stroke: #0071bc; stroke-linejoin: miter\"/>\n   </g>\n   <g id=\"patch_76\">\n    <path d=\"M 290.122386 228.96 \nL 293.166023 228.96 \nL 293.166023 228.96 \nL 290.122386 228.96 \nz\n\" clip-path=\"url(#p0e91306ede)\" style=\"fill: #0071bc; stroke: #0071bc; stroke-linejoin: miter\"/>\n   </g>\n   <g id=\"patch_77\">\n    <path d=\"M 293.166023 228.96 \nL 296.209659 228.96 \nL 296.209659 228.96 \nL 293.166023 228.96 \nz\n\" clip-path=\"url(#p0e91306ede)\" style=\"fill: #0071bc; stroke: #0071bc; stroke-linejoin: miter\"/>\n   </g>\n   <g id=\"patch_78\">\n    <path d=\"M 296.209659 228.96 \nL 299.253295 228.96 \nL 299.253295 228.96 \nL 296.209659 228.96 \nz\n\" clip-path=\"url(#p0e91306ede)\" style=\"fill: #0071bc; stroke: #0071bc; stroke-linejoin: miter\"/>\n   </g>\n   <g id=\"patch_79\">\n    <path d=\"M 299.253295 228.96 \nL 302.296932 228.96 \nL 302.296932 228.96 \nL 299.253295 228.96 \nz\n\" clip-path=\"url(#p0e91306ede)\" style=\"fill: #0071bc; stroke: #0071bc; stroke-linejoin: miter\"/>\n   </g>\n   <g id=\"patch_80\">\n    <path d=\"M 302.296932 228.96 \nL 305.340568 228.96 \nL 305.340568 228.96 \nL 302.296932 228.96 \nz\n\" clip-path=\"url(#p0e91306ede)\" style=\"fill: #0071bc; stroke: #0071bc; stroke-linejoin: miter\"/>\n   </g>\n   <g id=\"patch_81\">\n    <path d=\"M 305.340568 228.96 \nL 308.384205 228.96 \nL 308.384205 228.96 \nL 305.340568 228.96 \nz\n\" clip-path=\"url(#p0e91306ede)\" style=\"fill: #0071bc; stroke: #0071bc; stroke-linejoin: miter\"/>\n   </g>\n   <g id=\"patch_82\">\n    <path d=\"M 308.384205 228.96 \nL 311.427841 228.96 \nL 311.427841 228.96 \nL 308.384205 228.96 \nz\n\" clip-path=\"url(#p0e91306ede)\" style=\"fill: #0071bc; stroke: #0071bc; stroke-linejoin: miter\"/>\n   </g>\n   <g id=\"patch_83\">\n    <path d=\"M 311.427841 228.96 \nL 314.471477 228.96 \nL 314.471477 228.96 \nL 311.427841 228.96 \nz\n\" clip-path=\"url(#p0e91306ede)\" style=\"fill: #0071bc; stroke: #0071bc; stroke-linejoin: miter\"/>\n   </g>\n   <g id=\"patch_84\">\n    <path d=\"M 314.471477 228.96 \nL 317.515114 228.96 \nL 317.515114 228.96 \nL 314.471477 228.96 \nz\n\" clip-path=\"url(#p0e91306ede)\" style=\"fill: #0071bc; stroke: #0071bc; stroke-linejoin: miter\"/>\n   </g>\n   <g id=\"patch_85\">\n    <path d=\"M 317.515114 228.96 \nL 320.55875 228.96 \nL 320.55875 228.96 \nL 317.515114 228.96 \nz\n\" clip-path=\"url(#p0e91306ede)\" style=\"fill: #0071bc; stroke: #0071bc; stroke-linejoin: miter\"/>\n   </g>\n   <g id=\"patch_86\">\n    <path d=\"M 320.55875 228.96 \nL 323.602386 228.96 \nL 323.602386 228.96 \nL 320.55875 228.96 \nz\n\" clip-path=\"url(#p0e91306ede)\" style=\"fill: #0071bc; stroke: #0071bc; stroke-linejoin: miter\"/>\n   </g>\n   <g id=\"patch_87\">\n    <path d=\"M 323.602386 228.96 \nL 326.646023 228.96 \nL 326.646023 228.96 \nL 323.602386 228.96 \nz\n\" clip-path=\"url(#p0e91306ede)\" style=\"fill: #0071bc; stroke: #0071bc; stroke-linejoin: miter\"/>\n   </g>\n   <g id=\"patch_88\">\n    <path d=\"M 326.646023 228.96 \nL 329.689659 228.96 \nL 329.689659 228.96 \nL 326.646023 228.96 \nz\n\" clip-path=\"url(#p0e91306ede)\" style=\"fill: #0071bc; stroke: #0071bc; stroke-linejoin: miter\"/>\n   </g>\n   <g id=\"patch_89\">\n    <path d=\"M 329.689659 228.96 \nL 332.733295 228.96 \nL 332.733295 228.017143 \nL 329.689659 228.017143 \nz\n\" clip-path=\"url(#p0e91306ede)\" style=\"fill: #0071bc; stroke: #0071bc; stroke-linejoin: miter\"/>\n   </g>\n   <g id=\"patch_90\">\n    <path d=\"M 332.733295 228.96 \nL 335.776932 228.96 \nL 335.776932 228.96 \nL 332.733295 228.96 \nz\n\" clip-path=\"url(#p0e91306ede)\" style=\"fill: #0071bc; stroke: #0071bc; stroke-linejoin: miter\"/>\n   </g>\n   <g id=\"patch_91\">\n    <path d=\"M 335.776932 228.96 \nL 338.820568 228.96 \nL 338.820568 228.96 \nL 335.776932 228.96 \nz\n\" clip-path=\"url(#p0e91306ede)\" style=\"fill: #0071bc; stroke: #0071bc; stroke-linejoin: miter\"/>\n   </g>\n   <g id=\"patch_92\">\n    <path d=\"M 338.820568 228.96 \nL 341.864205 228.96 \nL 341.864205 228.96 \nL 338.820568 228.96 \nz\n\" clip-path=\"url(#p0e91306ede)\" style=\"fill: #0071bc; stroke: #0071bc; stroke-linejoin: miter\"/>\n   </g>\n   <g id=\"patch_93\">\n    <path d=\"M 341.864205 228.96 \nL 344.907841 228.96 \nL 344.907841 228.96 \nL 341.864205 228.96 \nz\n\" clip-path=\"url(#p0e91306ede)\" style=\"fill: #0071bc; stroke: #0071bc; stroke-linejoin: miter\"/>\n   </g>\n   <g id=\"patch_94\">\n    <path d=\"M 344.907841 228.96 \nL 347.951477 228.96 \nL 347.951477 228.96 \nL 344.907841 228.96 \nz\n\" clip-path=\"url(#p0e91306ede)\" style=\"fill: #0071bc; stroke: #0071bc; stroke-linejoin: miter\"/>\n   </g>\n   <g id=\"patch_95\">\n    <path d=\"M 347.951477 228.96 \nL 350.995114 228.96 \nL 350.995114 228.96 \nL 347.951477 228.96 \nz\n\" clip-path=\"url(#p0e91306ede)\" style=\"fill: #0071bc; stroke: #0071bc; stroke-linejoin: miter\"/>\n   </g>\n   <g id=\"patch_96\">\n    <path d=\"M 350.995114 228.96 \nL 354.03875 228.96 \nL 354.03875 228.96 \nL 350.995114 228.96 \nz\n\" clip-path=\"url(#p0e91306ede)\" style=\"fill: #0071bc; stroke: #0071bc; stroke-linejoin: miter\"/>\n   </g>\n   <g id=\"patch_97\">\n    <path d=\"M 354.03875 228.96 \nL 357.082386 228.96 \nL 357.082386 228.96 \nL 354.03875 228.96 \nz\n\" clip-path=\"url(#p0e91306ede)\" style=\"fill: #0071bc; stroke: #0071bc; stroke-linejoin: miter\"/>\n   </g>\n   <g id=\"patch_98\">\n    <path d=\"M 357.082386 228.96 \nL 360.126023 228.96 \nL 360.126023 228.96 \nL 357.082386 228.96 \nz\n\" clip-path=\"url(#p0e91306ede)\" style=\"fill: #0071bc; stroke: #0071bc; stroke-linejoin: miter\"/>\n   </g>\n   <g id=\"patch_99\">\n    <path d=\"M 360.126023 228.96 \nL 363.169659 228.96 \nL 363.169659 228.96 \nL 360.126023 228.96 \nz\n\" clip-path=\"url(#p0e91306ede)\" style=\"fill: #0071bc; stroke: #0071bc; stroke-linejoin: miter\"/>\n   </g>\n   <g id=\"patch_100\">\n    <path d=\"M 363.169659 228.96 \nL 366.213295 228.96 \nL 366.213295 228.96 \nL 363.169659 228.96 \nz\n\" clip-path=\"url(#p0e91306ede)\" style=\"fill: #0071bc; stroke: #0071bc; stroke-linejoin: miter\"/>\n   </g>\n   <g id=\"patch_101\">\n    <path d=\"M 366.213295 228.96 \nL 369.256932 228.96 \nL 369.256932 228.96 \nL 366.213295 228.96 \nz\n\" clip-path=\"url(#p0e91306ede)\" style=\"fill: #0071bc; stroke: #0071bc; stroke-linejoin: miter\"/>\n   </g>\n   <g id=\"patch_102\">\n    <path d=\"M 369.256932 228.96 \nL 372.300568 228.96 \nL 372.300568 228.017143 \nL 369.256932 228.017143 \nz\n\" clip-path=\"url(#p0e91306ede)\" style=\"fill: #0071bc; stroke: #0071bc; stroke-linejoin: miter\"/>\n   </g>\n   <g id=\"matplotlib.axis_1\">\n    <g id=\"xtick_1\">\n     <g id=\"line2d_1\">\n      <defs>\n       <path id=\"mff90410b26\" d=\"M 0 0 \nL 0 3.5 \n\" style=\"stroke: #000000; stroke-width: 0.8\"/>\n      </defs>\n      <g>\n       <use xlink:href=\"#mff90410b26\" x=\"66.162025\" y=\"228.96\" style=\"stroke: #000000; stroke-width: 0.8\"/>\n      </g>\n     </g>\n     <g id=\"text_1\">\n      <!-- 0 -->\n      <g transform=\"translate(62.344525 245.078125) scale(0.12 -0.12)\">\n       <defs>\n        <path id=\"DejaVuSans-30\" d=\"M 2034 4250 \nQ 1547 4250 1301 3770 \nQ 1056 3291 1056 2328 \nQ 1056 1369 1301 889 \nQ 1547 409 2034 409 \nQ 2525 409 2770 889 \nQ 3016 1369 3016 2328 \nQ 3016 3291 2770 3770 \nQ 2525 4250 2034 4250 \nz\nM 2034 4750 \nQ 2819 4750 3233 4129 \nQ 3647 3509 3647 2328 \nQ 3647 1150 3233 529 \nQ 2819 -91 2034 -91 \nQ 1250 -91 836 529 \nQ 422 1150 422 2328 \nQ 422 3509 836 4129 \nQ 1250 4750 2034 4750 \nz\n\" transform=\"scale(0.015625)\"/>\n       </defs>\n       <use xlink:href=\"#DejaVuSans-30\"/>\n      </g>\n     </g>\n    </g>\n    <g id=\"xtick_2\">\n     <g id=\"line2d_2\">\n      <g>\n       <use xlink:href=\"#mff90410b26\" x=\"131.899312\" y=\"228.96\" style=\"stroke: #000000; stroke-width: 0.8\"/>\n      </g>\n     </g>\n     <g id=\"text_2\">\n      <!-- 1000 -->\n      <g transform=\"translate(116.629312 245.078125) scale(0.12 -0.12)\">\n       <defs>\n        <path id=\"DejaVuSans-31\" d=\"M 794 531 \nL 1825 531 \nL 1825 4091 \nL 703 3866 \nL 703 4441 \nL 1819 4666 \nL 2450 4666 \nL 2450 531 \nL 3481 531 \nL 3481 0 \nL 794 0 \nL 794 531 \nz\n\" transform=\"scale(0.015625)\"/>\n       </defs>\n       <use xlink:href=\"#DejaVuSans-31\"/>\n       <use xlink:href=\"#DejaVuSans-30\" x=\"63.623047\"/>\n       <use xlink:href=\"#DejaVuSans-30\" x=\"127.246094\"/>\n       <use xlink:href=\"#DejaVuSans-30\" x=\"190.869141\"/>\n      </g>\n     </g>\n    </g>\n    <g id=\"xtick_3\">\n     <g id=\"line2d_3\">\n      <g>\n       <use xlink:href=\"#mff90410b26\" x=\"197.636598\" y=\"228.96\" style=\"stroke: #000000; stroke-width: 0.8\"/>\n      </g>\n     </g>\n     <g id=\"text_3\">\n      <!-- 2000 -->\n      <g transform=\"translate(182.366598 245.078125) scale(0.12 -0.12)\">\n       <defs>\n        <path id=\"DejaVuSans-32\" d=\"M 1228 531 \nL 3431 531 \nL 3431 0 \nL 469 0 \nL 469 531 \nQ 828 903 1448 1529 \nQ 2069 2156 2228 2338 \nQ 2531 2678 2651 2914 \nQ 2772 3150 2772 3378 \nQ 2772 3750 2511 3984 \nQ 2250 4219 1831 4219 \nQ 1534 4219 1204 4116 \nQ 875 4013 500 3803 \nL 500 4441 \nQ 881 4594 1212 4672 \nQ 1544 4750 1819 4750 \nQ 2544 4750 2975 4387 \nQ 3406 4025 3406 3419 \nQ 3406 3131 3298 2873 \nQ 3191 2616 2906 2266 \nQ 2828 2175 2409 1742 \nQ 1991 1309 1228 531 \nz\n\" transform=\"scale(0.015625)\"/>\n       </defs>\n       <use xlink:href=\"#DejaVuSans-32\"/>\n       <use xlink:href=\"#DejaVuSans-30\" x=\"63.623047\"/>\n       <use xlink:href=\"#DejaVuSans-30\" x=\"127.246094\"/>\n       <use xlink:href=\"#DejaVuSans-30\" x=\"190.869141\"/>\n      </g>\n     </g>\n    </g>\n    <g id=\"xtick_4\">\n     <g id=\"line2d_4\">\n      <g>\n       <use xlink:href=\"#mff90410b26\" x=\"263.373884\" y=\"228.96\" style=\"stroke: #000000; stroke-width: 0.8\"/>\n      </g>\n     </g>\n     <g id=\"text_4\">\n      <!-- 3000 -->\n      <g transform=\"translate(248.103884 245.078125) scale(0.12 -0.12)\">\n       <defs>\n        <path id=\"DejaVuSans-33\" d=\"M 2597 2516 \nQ 3050 2419 3304 2112 \nQ 3559 1806 3559 1356 \nQ 3559 666 3084 287 \nQ 2609 -91 1734 -91 \nQ 1441 -91 1130 -33 \nQ 819 25 488 141 \nL 488 750 \nQ 750 597 1062 519 \nQ 1375 441 1716 441 \nQ 2309 441 2620 675 \nQ 2931 909 2931 1356 \nQ 2931 1769 2642 2001 \nQ 2353 2234 1838 2234 \nL 1294 2234 \nL 1294 2753 \nL 1863 2753 \nQ 2328 2753 2575 2939 \nQ 2822 3125 2822 3475 \nQ 2822 3834 2567 4026 \nQ 2313 4219 1838 4219 \nQ 1578 4219 1281 4162 \nQ 984 4106 628 3988 \nL 628 4550 \nQ 988 4650 1302 4700 \nQ 1616 4750 1894 4750 \nQ 2613 4750 3031 4423 \nQ 3450 4097 3450 3541 \nQ 3450 3153 3228 2886 \nQ 3006 2619 2597 2516 \nz\n\" transform=\"scale(0.015625)\"/>\n       </defs>\n       <use xlink:href=\"#DejaVuSans-33\"/>\n       <use xlink:href=\"#DejaVuSans-30\" x=\"63.623047\"/>\n       <use xlink:href=\"#DejaVuSans-30\" x=\"127.246094\"/>\n       <use xlink:href=\"#DejaVuSans-30\" x=\"190.869141\"/>\n      </g>\n     </g>\n    </g>\n    <g id=\"xtick_5\">\n     <g id=\"line2d_5\">\n      <g>\n       <use xlink:href=\"#mff90410b26\" x=\"329.111171\" y=\"228.96\" style=\"stroke: #000000; stroke-width: 0.8\"/>\n      </g>\n     </g>\n     <g id=\"text_5\">\n      <!-- 4000 -->\n      <g transform=\"translate(313.841171 245.078125) scale(0.12 -0.12)\">\n       <defs>\n        <path id=\"DejaVuSans-34\" d=\"M 2419 4116 \nL 825 1625 \nL 2419 1625 \nL 2419 4116 \nz\nM 2253 4666 \nL 3047 4666 \nL 3047 1625 \nL 3713 1625 \nL 3713 1100 \nL 3047 1100 \nL 3047 0 \nL 2419 0 \nL 2419 1100 \nL 313 1100 \nL 313 1709 \nL 2253 4666 \nz\n\" transform=\"scale(0.015625)\"/>\n       </defs>\n       <use xlink:href=\"#DejaVuSans-34\"/>\n       <use xlink:href=\"#DejaVuSans-30\" x=\"63.623047\"/>\n       <use xlink:href=\"#DejaVuSans-30\" x=\"127.246094\"/>\n       <use xlink:href=\"#DejaVuSans-30\" x=\"190.869141\"/>\n      </g>\n     </g>\n    </g>\n    <g id=\"text_6\">\n     <!-- Number of tokens in question-context pair -->\n     <g transform=\"translate(93.006875 260.691875) scale(0.12 -0.12)\">\n      <defs>\n       <path id=\"DejaVuSans-4e\" d=\"M 628 4666 \nL 1478 4666 \nL 3547 763 \nL 3547 4666 \nL 4159 4666 \nL 4159 0 \nL 3309 0 \nL 1241 3903 \nL 1241 0 \nL 628 0 \nL 628 4666 \nz\n\" transform=\"scale(0.015625)\"/>\n       <path id=\"DejaVuSans-75\" d=\"M 544 1381 \nL 544 3500 \nL 1119 3500 \nL 1119 1403 \nQ 1119 906 1312 657 \nQ 1506 409 1894 409 \nQ 2359 409 2629 706 \nQ 2900 1003 2900 1516 \nL 2900 3500 \nL 3475 3500 \nL 3475 0 \nL 2900 0 \nL 2900 538 \nQ 2691 219 2414 64 \nQ 2138 -91 1772 -91 \nQ 1169 -91 856 284 \nQ 544 659 544 1381 \nz\nM 1991 3584 \nL 1991 3584 \nz\n\" transform=\"scale(0.015625)\"/>\n       <path id=\"DejaVuSans-6d\" d=\"M 3328 2828 \nQ 3544 3216 3844 3400 \nQ 4144 3584 4550 3584 \nQ 5097 3584 5394 3201 \nQ 5691 2819 5691 2113 \nL 5691 0 \nL 5113 0 \nL 5113 2094 \nQ 5113 2597 4934 2840 \nQ 4756 3084 4391 3084 \nQ 3944 3084 3684 2787 \nQ 3425 2491 3425 1978 \nL 3425 0 \nL 2847 0 \nL 2847 2094 \nQ 2847 2600 2669 2842 \nQ 2491 3084 2119 3084 \nQ 1678 3084 1418 2786 \nQ 1159 2488 1159 1978 \nL 1159 0 \nL 581 0 \nL 581 3500 \nL 1159 3500 \nL 1159 2956 \nQ 1356 3278 1631 3431 \nQ 1906 3584 2284 3584 \nQ 2666 3584 2933 3390 \nQ 3200 3197 3328 2828 \nz\n\" transform=\"scale(0.015625)\"/>\n       <path id=\"DejaVuSans-62\" d=\"M 3116 1747 \nQ 3116 2381 2855 2742 \nQ 2594 3103 2138 3103 \nQ 1681 3103 1420 2742 \nQ 1159 2381 1159 1747 \nQ 1159 1113 1420 752 \nQ 1681 391 2138 391 \nQ 2594 391 2855 752 \nQ 3116 1113 3116 1747 \nz\nM 1159 2969 \nQ 1341 3281 1617 3432 \nQ 1894 3584 2278 3584 \nQ 2916 3584 3314 3078 \nQ 3713 2572 3713 1747 \nQ 3713 922 3314 415 \nQ 2916 -91 2278 -91 \nQ 1894 -91 1617 61 \nQ 1341 213 1159 525 \nL 1159 0 \nL 581 0 \nL 581 4863 \nL 1159 4863 \nL 1159 2969 \nz\n\" transform=\"scale(0.015625)\"/>\n       <path id=\"DejaVuSans-65\" d=\"M 3597 1894 \nL 3597 1613 \nL 953 1613 \nQ 991 1019 1311 708 \nQ 1631 397 2203 397 \nQ 2534 397 2845 478 \nQ 3156 559 3463 722 \nL 3463 178 \nQ 3153 47 2828 -22 \nQ 2503 -91 2169 -91 \nQ 1331 -91 842 396 \nQ 353 884 353 1716 \nQ 353 2575 817 3079 \nQ 1281 3584 2069 3584 \nQ 2775 3584 3186 3129 \nQ 3597 2675 3597 1894 \nz\nM 3022 2063 \nQ 3016 2534 2758 2815 \nQ 2500 3097 2075 3097 \nQ 1594 3097 1305 2825 \nQ 1016 2553 972 2059 \nL 3022 2063 \nz\n\" transform=\"scale(0.015625)\"/>\n       <path id=\"DejaVuSans-72\" d=\"M 2631 2963 \nQ 2534 3019 2420 3045 \nQ 2306 3072 2169 3072 \nQ 1681 3072 1420 2755 \nQ 1159 2438 1159 1844 \nL 1159 0 \nL 581 0 \nL 581 3500 \nL 1159 3500 \nL 1159 2956 \nQ 1341 3275 1631 3429 \nQ 1922 3584 2338 3584 \nQ 2397 3584 2469 3576 \nQ 2541 3569 2628 3553 \nL 2631 2963 \nz\n\" transform=\"scale(0.015625)\"/>\n       <path id=\"DejaVuSans-20\" transform=\"scale(0.015625)\"/>\n       <path id=\"DejaVuSans-6f\" d=\"M 1959 3097 \nQ 1497 3097 1228 2736 \nQ 959 2375 959 1747 \nQ 959 1119 1226 758 \nQ 1494 397 1959 397 \nQ 2419 397 2687 759 \nQ 2956 1122 2956 1747 \nQ 2956 2369 2687 2733 \nQ 2419 3097 1959 3097 \nz\nM 1959 3584 \nQ 2709 3584 3137 3096 \nQ 3566 2609 3566 1747 \nQ 3566 888 3137 398 \nQ 2709 -91 1959 -91 \nQ 1206 -91 779 398 \nQ 353 888 353 1747 \nQ 353 2609 779 3096 \nQ 1206 3584 1959 3584 \nz\n\" transform=\"scale(0.015625)\"/>\n       <path id=\"DejaVuSans-66\" d=\"M 2375 4863 \nL 2375 4384 \nL 1825 4384 \nQ 1516 4384 1395 4259 \nQ 1275 4134 1275 3809 \nL 1275 3500 \nL 2222 3500 \nL 2222 3053 \nL 1275 3053 \nL 1275 0 \nL 697 0 \nL 697 3053 \nL 147 3053 \nL 147 3500 \nL 697 3500 \nL 697 3744 \nQ 697 4328 969 4595 \nQ 1241 4863 1831 4863 \nL 2375 4863 \nz\n\" transform=\"scale(0.015625)\"/>\n       <path id=\"DejaVuSans-74\" d=\"M 1172 4494 \nL 1172 3500 \nL 2356 3500 \nL 2356 3053 \nL 1172 3053 \nL 1172 1153 \nQ 1172 725 1289 603 \nQ 1406 481 1766 481 \nL 2356 481 \nL 2356 0 \nL 1766 0 \nQ 1100 0 847 248 \nQ 594 497 594 1153 \nL 594 3053 \nL 172 3053 \nL 172 3500 \nL 594 3500 \nL 594 4494 \nL 1172 4494 \nz\n\" transform=\"scale(0.015625)\"/>\n       <path id=\"DejaVuSans-6b\" d=\"M 581 4863 \nL 1159 4863 \nL 1159 1991 \nL 2875 3500 \nL 3609 3500 \nL 1753 1863 \nL 3688 0 \nL 2938 0 \nL 1159 1709 \nL 1159 0 \nL 581 0 \nL 581 4863 \nz\n\" transform=\"scale(0.015625)\"/>\n       <path id=\"DejaVuSans-6e\" d=\"M 3513 2113 \nL 3513 0 \nL 2938 0 \nL 2938 2094 \nQ 2938 2591 2744 2837 \nQ 2550 3084 2163 3084 \nQ 1697 3084 1428 2787 \nQ 1159 2491 1159 1978 \nL 1159 0 \nL 581 0 \nL 581 3500 \nL 1159 3500 \nL 1159 2956 \nQ 1366 3272 1645 3428 \nQ 1925 3584 2291 3584 \nQ 2894 3584 3203 3211 \nQ 3513 2838 3513 2113 \nz\n\" transform=\"scale(0.015625)\"/>\n       <path id=\"DejaVuSans-73\" d=\"M 2834 3397 \nL 2834 2853 \nQ 2591 2978 2328 3040 \nQ 2066 3103 1784 3103 \nQ 1356 3103 1142 2972 \nQ 928 2841 928 2578 \nQ 928 2378 1081 2264 \nQ 1234 2150 1697 2047 \nL 1894 2003 \nQ 2506 1872 2764 1633 \nQ 3022 1394 3022 966 \nQ 3022 478 2636 193 \nQ 2250 -91 1575 -91 \nQ 1294 -91 989 -36 \nQ 684 19 347 128 \nL 347 722 \nQ 666 556 975 473 \nQ 1284 391 1588 391 \nQ 1994 391 2212 530 \nQ 2431 669 2431 922 \nQ 2431 1156 2273 1281 \nQ 2116 1406 1581 1522 \nL 1381 1569 \nQ 847 1681 609 1914 \nQ 372 2147 372 2553 \nQ 372 3047 722 3315 \nQ 1072 3584 1716 3584 \nQ 2034 3584 2315 3537 \nQ 2597 3491 2834 3397 \nz\n\" transform=\"scale(0.015625)\"/>\n       <path id=\"DejaVuSans-69\" d=\"M 603 3500 \nL 1178 3500 \nL 1178 0 \nL 603 0 \nL 603 3500 \nz\nM 603 4863 \nL 1178 4863 \nL 1178 4134 \nL 603 4134 \nL 603 4863 \nz\n\" transform=\"scale(0.015625)\"/>\n       <path id=\"DejaVuSans-71\" d=\"M 947 1747 \nQ 947 1113 1208 752 \nQ 1469 391 1925 391 \nQ 2381 391 2643 752 \nQ 2906 1113 2906 1747 \nQ 2906 2381 2643 2742 \nQ 2381 3103 1925 3103 \nQ 1469 3103 1208 2742 \nQ 947 2381 947 1747 \nz\nM 2906 525 \nQ 2725 213 2448 61 \nQ 2172 -91 1784 -91 \nQ 1150 -91 751 415 \nQ 353 922 353 1747 \nQ 353 2572 751 3078 \nQ 1150 3584 1784 3584 \nQ 2172 3584 2448 3432 \nQ 2725 3281 2906 2969 \nL 2906 3500 \nL 3481 3500 \nL 3481 -1331 \nL 2906 -1331 \nL 2906 525 \nz\n\" transform=\"scale(0.015625)\"/>\n       <path id=\"DejaVuSans-2d\" d=\"M 313 2009 \nL 1997 2009 \nL 1997 1497 \nL 313 1497 \nL 313 2009 \nz\n\" transform=\"scale(0.015625)\"/>\n       <path id=\"DejaVuSans-63\" d=\"M 3122 3366 \nL 3122 2828 \nQ 2878 2963 2633 3030 \nQ 2388 3097 2138 3097 \nQ 1578 3097 1268 2742 \nQ 959 2388 959 1747 \nQ 959 1106 1268 751 \nQ 1578 397 2138 397 \nQ 2388 397 2633 464 \nQ 2878 531 3122 666 \nL 3122 134 \nQ 2881 22 2623 -34 \nQ 2366 -91 2075 -91 \nQ 1284 -91 818 406 \nQ 353 903 353 1747 \nQ 353 2603 823 3093 \nQ 1294 3584 2113 3584 \nQ 2378 3584 2631 3529 \nQ 2884 3475 3122 3366 \nz\n\" transform=\"scale(0.015625)\"/>\n       <path id=\"DejaVuSans-78\" d=\"M 3513 3500 \nL 2247 1797 \nL 3578 0 \nL 2900 0 \nL 1881 1375 \nL 863 0 \nL 184 0 \nL 1544 1831 \nL 300 3500 \nL 978 3500 \nL 1906 2253 \nL 2834 3500 \nL 3513 3500 \nz\n\" transform=\"scale(0.015625)\"/>\n       <path id=\"DejaVuSans-70\" d=\"M 1159 525 \nL 1159 -1331 \nL 581 -1331 \nL 581 3500 \nL 1159 3500 \nL 1159 2969 \nQ 1341 3281 1617 3432 \nQ 1894 3584 2278 3584 \nQ 2916 3584 3314 3078 \nQ 3713 2572 3713 1747 \nQ 3713 922 3314 415 \nQ 2916 -91 2278 -91 \nQ 1894 -91 1617 61 \nQ 1341 213 1159 525 \nz\nM 3116 1747 \nQ 3116 2381 2855 2742 \nQ 2594 3103 2138 3103 \nQ 1681 3103 1420 2742 \nQ 1159 2381 1159 1747 \nQ 1159 1113 1420 752 \nQ 1681 391 2138 391 \nQ 2594 391 2855 752 \nQ 3116 1113 3116 1747 \nz\n\" transform=\"scale(0.015625)\"/>\n       <path id=\"DejaVuSans-61\" d=\"M 2194 1759 \nQ 1497 1759 1228 1600 \nQ 959 1441 959 1056 \nQ 959 750 1161 570 \nQ 1363 391 1709 391 \nQ 2188 391 2477 730 \nQ 2766 1069 2766 1631 \nL 2766 1759 \nL 2194 1759 \nz\nM 3341 1997 \nL 3341 0 \nL 2766 0 \nL 2766 531 \nQ 2569 213 2275 61 \nQ 1981 -91 1556 -91 \nQ 1019 -91 701 211 \nQ 384 513 384 1019 \nQ 384 1609 779 1909 \nQ 1175 2209 1959 2209 \nL 2766 2209 \nL 2766 2266 \nQ 2766 2663 2505 2880 \nQ 2244 3097 1772 3097 \nQ 1472 3097 1187 3025 \nQ 903 2953 641 2809 \nL 641 3341 \nQ 956 3463 1253 3523 \nQ 1550 3584 1831 3584 \nQ 2591 3584 2966 3190 \nQ 3341 2797 3341 1997 \nz\n\" transform=\"scale(0.015625)\"/>\n      </defs>\n      <use xlink:href=\"#DejaVuSans-4e\"/>\n      <use xlink:href=\"#DejaVuSans-75\" x=\"74.804688\"/>\n      <use xlink:href=\"#DejaVuSans-6d\" x=\"138.183594\"/>\n      <use xlink:href=\"#DejaVuSans-62\" x=\"235.595703\"/>\n      <use xlink:href=\"#DejaVuSans-65\" x=\"299.072266\"/>\n      <use xlink:href=\"#DejaVuSans-72\" x=\"360.595703\"/>\n      <use xlink:href=\"#DejaVuSans-20\" x=\"401.708984\"/>\n      <use xlink:href=\"#DejaVuSans-6f\" x=\"433.496094\"/>\n      <use xlink:href=\"#DejaVuSans-66\" x=\"494.677734\"/>\n      <use xlink:href=\"#DejaVuSans-20\" x=\"529.882812\"/>\n      <use xlink:href=\"#DejaVuSans-74\" x=\"561.669922\"/>\n      <use xlink:href=\"#DejaVuSans-6f\" x=\"600.878906\"/>\n      <use xlink:href=\"#DejaVuSans-6b\" x=\"662.060547\"/>\n      <use xlink:href=\"#DejaVuSans-65\" x=\"716.345703\"/>\n      <use xlink:href=\"#DejaVuSans-6e\" x=\"777.869141\"/>\n      <use xlink:href=\"#DejaVuSans-73\" x=\"841.248047\"/>\n      <use xlink:href=\"#DejaVuSans-20\" x=\"893.347656\"/>\n      <use xlink:href=\"#DejaVuSans-69\" x=\"925.134766\"/>\n      <use xlink:href=\"#DejaVuSans-6e\" x=\"952.917969\"/>\n      <use xlink:href=\"#DejaVuSans-20\" x=\"1016.296875\"/>\n      <use xlink:href=\"#DejaVuSans-71\" x=\"1048.083984\"/>\n      <use xlink:href=\"#DejaVuSans-75\" x=\"1111.560547\"/>\n      <use xlink:href=\"#DejaVuSans-65\" x=\"1174.939453\"/>\n      <use xlink:href=\"#DejaVuSans-73\" x=\"1236.462891\"/>\n      <use xlink:href=\"#DejaVuSans-74\" x=\"1288.5625\"/>\n      <use xlink:href=\"#DejaVuSans-69\" x=\"1327.771484\"/>\n      <use xlink:href=\"#DejaVuSans-6f\" x=\"1355.554688\"/>\n      <use xlink:href=\"#DejaVuSans-6e\" x=\"1416.736328\"/>\n      <use xlink:href=\"#DejaVuSans-2d\" x=\"1480.115234\"/>\n      <use xlink:href=\"#DejaVuSans-63\" x=\"1516.199219\"/>\n      <use xlink:href=\"#DejaVuSans-6f\" x=\"1571.179688\"/>\n      <use xlink:href=\"#DejaVuSans-6e\" x=\"1632.361328\"/>\n      <use xlink:href=\"#DejaVuSans-74\" x=\"1695.740234\"/>\n      <use xlink:href=\"#DejaVuSans-65\" x=\"1734.949219\"/>\n      <use xlink:href=\"#DejaVuSans-78\" x=\"1794.722656\"/>\n      <use xlink:href=\"#DejaVuSans-74\" x=\"1853.902344\"/>\n      <use xlink:href=\"#DejaVuSans-20\" x=\"1893.111328\"/>\n      <use xlink:href=\"#DejaVuSans-70\" x=\"1924.898438\"/>\n      <use xlink:href=\"#DejaVuSans-61\" x=\"1988.375\"/>\n      <use xlink:href=\"#DejaVuSans-69\" x=\"2049.654297\"/>\n      <use xlink:href=\"#DejaVuSans-72\" x=\"2077.4375\"/>\n     </g>\n    </g>\n   </g>\n   <g id=\"matplotlib.axis_2\">\n    <g id=\"ytick_1\">\n     <g id=\"line2d_6\">\n      <defs>\n       <path id=\"m5586778a90\" d=\"M 0 0 \nL -3.5 0 \n\" style=\"stroke: #000000; stroke-width: 0.8\"/>\n      </defs>\n      <g>\n       <use xlink:href=\"#m5586778a90\" x=\"52.71875\" y=\"228.96\" style=\"stroke: #000000; stroke-width: 0.8\"/>\n      </g>\n     </g>\n     <g id=\"text_7\">\n      <!-- 0 -->\n      <g transform=\"translate(38.08375 233.519063) scale(0.12 -0.12)\">\n       <use xlink:href=\"#DejaVuSans-30\"/>\n      </g>\n     </g>\n    </g>\n    <g id=\"ytick_2\">\n     <g id=\"line2d_7\">\n      <g>\n       <use xlink:href=\"#m5586778a90\" x=\"52.71875\" y=\"181.817143\" style=\"stroke: #000000; stroke-width: 0.8\"/>\n      </g>\n     </g>\n     <g id=\"text_8\">\n      <!-- 50 -->\n      <g transform=\"translate(30.44875 186.376205) scale(0.12 -0.12)\">\n       <defs>\n        <path id=\"DejaVuSans-35\" d=\"M 691 4666 \nL 3169 4666 \nL 3169 4134 \nL 1269 4134 \nL 1269 2991 \nQ 1406 3038 1543 3061 \nQ 1681 3084 1819 3084 \nQ 2600 3084 3056 2656 \nQ 3513 2228 3513 1497 \nQ 3513 744 3044 326 \nQ 2575 -91 1722 -91 \nQ 1428 -91 1123 -41 \nQ 819 9 494 109 \nL 494 744 \nQ 775 591 1075 516 \nQ 1375 441 1709 441 \nQ 2250 441 2565 725 \nQ 2881 1009 2881 1497 \nQ 2881 1984 2565 2268 \nQ 2250 2553 1709 2553 \nQ 1456 2553 1204 2497 \nQ 953 2441 691 2322 \nL 691 4666 \nz\n\" transform=\"scale(0.015625)\"/>\n       </defs>\n       <use xlink:href=\"#DejaVuSans-35\"/>\n       <use xlink:href=\"#DejaVuSans-30\" x=\"63.623047\"/>\n      </g>\n     </g>\n    </g>\n    <g id=\"ytick_3\">\n     <g id=\"line2d_8\">\n      <g>\n       <use xlink:href=\"#m5586778a90\" x=\"52.71875\" y=\"134.674286\" style=\"stroke: #000000; stroke-width: 0.8\"/>\n      </g>\n     </g>\n     <g id=\"text_9\">\n      <!-- 100 -->\n      <g transform=\"translate(22.81375 139.233348) scale(0.12 -0.12)\">\n       <use xlink:href=\"#DejaVuSans-31\"/>\n       <use xlink:href=\"#DejaVuSans-30\" x=\"63.623047\"/>\n       <use xlink:href=\"#DejaVuSans-30\" x=\"127.246094\"/>\n      </g>\n     </g>\n    </g>\n    <g id=\"ytick_4\">\n     <g id=\"line2d_9\">\n      <g>\n       <use xlink:href=\"#m5586778a90\" x=\"52.71875\" y=\"87.531429\" style=\"stroke: #000000; stroke-width: 0.8\"/>\n      </g>\n     </g>\n     <g id=\"text_10\">\n      <!-- 150 -->\n      <g transform=\"translate(22.81375 92.090491) scale(0.12 -0.12)\">\n       <use xlink:href=\"#DejaVuSans-31\"/>\n       <use xlink:href=\"#DejaVuSans-35\" x=\"63.623047\"/>\n       <use xlink:href=\"#DejaVuSans-30\" x=\"127.246094\"/>\n      </g>\n     </g>\n    </g>\n    <g id=\"ytick_5\">\n     <g id=\"line2d_10\">\n      <g>\n       <use xlink:href=\"#m5586778a90\" x=\"52.71875\" y=\"40.388571\" style=\"stroke: #000000; stroke-width: 0.8\"/>\n      </g>\n     </g>\n     <g id=\"text_11\">\n      <!-- 200 -->\n      <g transform=\"translate(22.81375 44.947634) scale(0.12 -0.12)\">\n       <use xlink:href=\"#DejaVuSans-32\"/>\n       <use xlink:href=\"#DejaVuSans-30\" x=\"63.623047\"/>\n       <use xlink:href=\"#DejaVuSans-30\" x=\"127.246094\"/>\n      </g>\n     </g>\n    </g>\n    <g id=\"text_12\">\n     <!-- Count -->\n     <g transform=\"translate(16.318125 135.898125) rotate(-90) scale(0.12 -0.12)\">\n      <defs>\n       <path id=\"DejaVuSans-43\" d=\"M 4122 4306 \nL 4122 3641 \nQ 3803 3938 3442 4084 \nQ 3081 4231 2675 4231 \nQ 1875 4231 1450 3742 \nQ 1025 3253 1025 2328 \nQ 1025 1406 1450 917 \nQ 1875 428 2675 428 \nQ 3081 428 3442 575 \nQ 3803 722 4122 1019 \nL 4122 359 \nQ 3791 134 3420 21 \nQ 3050 -91 2638 -91 \nQ 1578 -91 968 557 \nQ 359 1206 359 2328 \nQ 359 3453 968 4101 \nQ 1578 4750 2638 4750 \nQ 3056 4750 3426 4639 \nQ 3797 4528 4122 4306 \nz\n\" transform=\"scale(0.015625)\"/>\n      </defs>\n      <use xlink:href=\"#DejaVuSans-43\"/>\n      <use xlink:href=\"#DejaVuSans-6f\" x=\"69.824219\"/>\n      <use xlink:href=\"#DejaVuSans-75\" x=\"131.005859\"/>\n      <use xlink:href=\"#DejaVuSans-6e\" x=\"194.384766\"/>\n      <use xlink:href=\"#DejaVuSans-74\" x=\"257.763672\"/>\n     </g>\n    </g>\n   </g>\n   <g id=\"line2d_11\">\n    <path d=\"M 99.819516 228.96 \nL 99.819516 7.2 \n\" clip-path=\"url(#p0e91306ede)\" style=\"fill: none; stroke-dasharray: 5.55,2.4; stroke-dashoffset: 0; stroke: #f7931e; stroke-width: 1.5\"/>\n   </g>\n   <g id=\"patch_103\">\n    <path d=\"M 52.71875 228.96 \nL 52.71875 7.2 \n\" style=\"fill: none; stroke: #000000; stroke-width: 0.8; stroke-linejoin: miter; stroke-linecap: square\"/>\n   </g>\n   <g id=\"patch_104\">\n    <path d=\"M 387.51875 228.96 \nL 387.51875 7.2 \n\" style=\"fill: none; stroke: #000000; stroke-width: 0.8; stroke-linejoin: miter; stroke-linecap: square\"/>\n   </g>\n   <g id=\"patch_105\">\n    <path d=\"M 52.71875 228.96 \nL 387.51875 228.96 \n\" style=\"fill: none; stroke: #000000; stroke-width: 0.8; stroke-linejoin: miter; stroke-linecap: square\"/>\n   </g>\n   <g id=\"patch_106\">\n    <path d=\"M 52.71875 7.2 \nL 387.51875 7.2 \n\" style=\"fill: none; stroke: #000000; stroke-width: 0.8; stroke-linejoin: miter; stroke-linecap: square\"/>\n   </g>\n   <g id=\"legend_1\">\n    <g id=\"patch_107\">\n     <path d=\"M 177.88625 34.41375 \nL 379.11875 34.41375 \nQ 381.51875 34.41375 381.51875 32.01375 \nL 381.51875 15.6 \nQ 381.51875 13.2 379.11875 13.2 \nL 177.88625 13.2 \nQ 175.48625 13.2 175.48625 15.6 \nL 175.48625 32.01375 \nQ 175.48625 34.41375 177.88625 34.41375 \nz\n\" style=\"fill: #ffffff; opacity: 0.8; stroke: #cccccc; stroke-linejoin: miter\"/>\n    </g>\n    <g id=\"line2d_12\">\n     <path d=\"M 180.28625 22.918125 \nL 192.28625 22.918125 \nL 204.28625 22.918125 \n\" style=\"fill: none; stroke-dasharray: 5.55,2.4; stroke-dashoffset: 0; stroke: #f7931e; stroke-width: 1.5\"/>\n    </g>\n    <g id=\"text_13\">\n     <!-- Maximum sequence length -->\n     <g transform=\"translate(213.88625 27.118125) scale(0.12 -0.12)\">\n      <defs>\n       <path id=\"DejaVuSans-4d\" d=\"M 628 4666 \nL 1569 4666 \nL 2759 1491 \nL 3956 4666 \nL 4897 4666 \nL 4897 0 \nL 4281 0 \nL 4281 4097 \nL 3078 897 \nL 2444 897 \nL 1241 4097 \nL 1241 0 \nL 628 0 \nL 628 4666 \nz\n\" transform=\"scale(0.015625)\"/>\n       <path id=\"DejaVuSans-6c\" d=\"M 603 4863 \nL 1178 4863 \nL 1178 0 \nL 603 0 \nL 603 4863 \nz\n\" transform=\"scale(0.015625)\"/>\n       <path id=\"DejaVuSans-67\" d=\"M 2906 1791 \nQ 2906 2416 2648 2759 \nQ 2391 3103 1925 3103 \nQ 1463 3103 1205 2759 \nQ 947 2416 947 1791 \nQ 947 1169 1205 825 \nQ 1463 481 1925 481 \nQ 2391 481 2648 825 \nQ 2906 1169 2906 1791 \nz\nM 3481 434 \nQ 3481 -459 3084 -895 \nQ 2688 -1331 1869 -1331 \nQ 1566 -1331 1297 -1286 \nQ 1028 -1241 775 -1147 \nL 775 -588 \nQ 1028 -725 1275 -790 \nQ 1522 -856 1778 -856 \nQ 2344 -856 2625 -561 \nQ 2906 -266 2906 331 \nL 2906 616 \nQ 2728 306 2450 153 \nQ 2172 0 1784 0 \nQ 1141 0 747 490 \nQ 353 981 353 1791 \nQ 353 2603 747 3093 \nQ 1141 3584 1784 3584 \nQ 2172 3584 2450 3431 \nQ 2728 3278 2906 2969 \nL 2906 3500 \nL 3481 3500 \nL 3481 434 \nz\n\" transform=\"scale(0.015625)\"/>\n       <path id=\"DejaVuSans-68\" d=\"M 3513 2113 \nL 3513 0 \nL 2938 0 \nL 2938 2094 \nQ 2938 2591 2744 2837 \nQ 2550 3084 2163 3084 \nQ 1697 3084 1428 2787 \nQ 1159 2491 1159 1978 \nL 1159 0 \nL 581 0 \nL 581 4863 \nL 1159 4863 \nL 1159 2956 \nQ 1366 3272 1645 3428 \nQ 1925 3584 2291 3584 \nQ 2894 3584 3203 3211 \nQ 3513 2838 3513 2113 \nz\n\" transform=\"scale(0.015625)\"/>\n      </defs>\n      <use xlink:href=\"#DejaVuSans-4d\"/>\n      <use xlink:href=\"#DejaVuSans-61\" x=\"86.279297\"/>\n      <use xlink:href=\"#DejaVuSans-78\" x=\"147.558594\"/>\n      <use xlink:href=\"#DejaVuSans-69\" x=\"206.738281\"/>\n      <use xlink:href=\"#DejaVuSans-6d\" x=\"234.521484\"/>\n      <use xlink:href=\"#DejaVuSans-75\" x=\"331.933594\"/>\n      <use xlink:href=\"#DejaVuSans-6d\" x=\"395.3125\"/>\n      <use xlink:href=\"#DejaVuSans-20\" x=\"492.724609\"/>\n      <use xlink:href=\"#DejaVuSans-73\" x=\"524.511719\"/>\n      <use xlink:href=\"#DejaVuSans-65\" x=\"576.611328\"/>\n      <use xlink:href=\"#DejaVuSans-71\" x=\"638.134766\"/>\n      <use xlink:href=\"#DejaVuSans-75\" x=\"701.611328\"/>\n      <use xlink:href=\"#DejaVuSans-65\" x=\"764.990234\"/>\n      <use xlink:href=\"#DejaVuSans-6e\" x=\"826.513672\"/>\n      <use xlink:href=\"#DejaVuSans-63\" x=\"889.892578\"/>\n      <use xlink:href=\"#DejaVuSans-65\" x=\"944.873047\"/>\n      <use xlink:href=\"#DejaVuSans-20\" x=\"1006.396484\"/>\n      <use xlink:href=\"#DejaVuSans-6c\" x=\"1038.183594\"/>\n      <use xlink:href=\"#DejaVuSans-65\" x=\"1065.966797\"/>\n      <use xlink:href=\"#DejaVuSans-6e\" x=\"1127.490234\"/>\n      <use xlink:href=\"#DejaVuSans-67\" x=\"1190.869141\"/>\n      <use xlink:href=\"#DejaVuSans-74\" x=\"1254.345703\"/>\n      <use xlink:href=\"#DejaVuSans-68\" x=\"1293.554688\"/>\n     </g>\n    </g>\n   </g>\n  </g>\n </g>\n <defs>\n  <clipPath id=\"p0e91306ede\">\n   <rect x=\"52.71875\" y=\"7.2\" width=\"334.8\" height=\"221.76\"/>\n  </clipPath>\n </defs>\n</svg>\n",
            "application/pdf": "[encoded data removed]"
          },
          "metadata": {}
        }
      ],
      "source": [
        "#hide_input\n",
        "#id subjqa-dist\n",
        "#caption Distribution of tokens for each question-context pair in the SubjQA training set\n",
        "def compute_input_length(row):\n",
        "    inputs = tokenizer(row[\"question\"], row[\"context\"])\n",
        "    return len(inputs[\"input_ids\"])\n",
        "\n",
        "dfs[\"train\"][\"n_tokens\"] = dfs[\"train\"].apply(compute_input_length, axis=1)\n",
        "\n",
        "fig, ax = plt.subplots()\n",
        "dfs[\"train\"][\"n_tokens\"].hist(bins=100, grid=False, ec=\"C0\", ax=ax)\n",
        "plt.xlabel(\"Number of tokens in question-context pair\")\n",
        "ax.axvline(x=512, ymin=0, ymax=1, linestyle=\"--\", color=\"C1\",\n",
        "           label=\"Maximum sequence length\")\n",
        "plt.legend()\n",
        "plt.ylabel(\"Count\")\n",
        "plt.show()"
      ]
    },
    {
      "cell_type": "markdown",
      "metadata": {
        "id": "aY_r9xwdZf9Q"
      },
      "source": [
        "<img alt=\"Sliding window\" caption=\"How the sliding window creates multiple question-context pairs for long documents—the first bar corresponds to the question, while the second bar is the context captured in each window\" src=\"https://github.com/nlp-with-transformers/notebooks/blob/main/images/chapter07_sliding-window.png?raw=1\" id=\"sliding-window\"/>"
      ]
    },
    {
      "cell_type": "code",
      "execution_count": 25,
      "metadata": {
        "id": "ynvU1h5O6t1k"
      },
      "outputs": [],
      "source": [
        "example = dfs[\"train\"].iloc[0][[\"question\", \"context\"]]\n",
        "tokenized_example = tokenizer(example[\"question\"], example[\"context\"],\n",
        "                              return_overflowing_tokens=True, max_length=100,\n",
        "                              stride=25)"
      ]
    },
    {
      "cell_type": "code",
      "execution_count": 26,
      "metadata": {
        "colab": {
          "base_uri": "https://localhost:8080/"
        },
        "id": "WrvX1WM56t1k",
        "outputId": "9ba6729c-56f5-46d4-f007-434d26f862f4"
      },
      "outputs": [
        {
          "output_type": "stream",
          "name": "stdout",
          "text": [
            "Window #0 has 100 tokens\n",
            "Window #1 has 88 tokens\n"
          ]
        }
      ],
      "source": [
        "for idx, window in enumerate(tokenized_example[\"input_ids\"]):\n",
        "    print(f\"Window #{idx} has {len(window)} tokens\")"
      ]
    },
    {
      "cell_type": "code",
      "execution_count": 27,
      "metadata": {
        "colab": {
          "base_uri": "https://localhost:8080/"
        },
        "id": "cJ1zcygY6t1k",
        "outputId": "d08f8146-5a38-4258-cfde-78f0afdef34d"
      },
      "outputs": [
        {
          "output_type": "stream",
          "name": "stdout",
          "text": [
            "[CLS] how is the bass? [SEP] i have had koss headphones in the past, pro 4aa and\n",
            "qz - 99. the koss portapro is portable and has great bass response. the work\n",
            "great with my android phone and can be \" rolled up \" to be carried in my\n",
            "motorcycle jacket or computer bag without getting crunched. they are very light\n",
            "and do not feel heavy or bear down on your ears even after listening to music\n",
            "with them on all day. the sound is [SEP]\n",
            "\n",
            "[CLS] how is the bass? [SEP] and do not feel heavy or bear down on your ears\n",
            "even after listening to music with them on all day. the sound is night and day\n",
            "better than any ear - bud could be and are almost as good as the pro 4aa. they\n",
            "are \" open air \" headphones so you cannot match the bass to the sealed types,\n",
            "but it comes close. for $ 32, you cannot go wrong. [SEP]\n",
            "\n"
          ]
        }
      ],
      "source": [
        "for window in tokenized_example[\"input_ids\"]:\n",
        "    print(f\"{tokenizer.decode(window)} \\n\")"
      ]
    },
    {
      "cell_type": "markdown",
      "metadata": {
        "id": "l2ADrS1G6t1k"
      },
      "source": [
        "### Using Haystack to Build a QA Pipeline"
      ]
    },
    {
      "cell_type": "markdown",
      "metadata": {
        "id": "wa53elOxZf9R"
      },
      "source": [
        "<img alt=\"QA Architecture\" caption=\"The retriever-reader architecture for modern QA systems\" src=\"https://github.com/nlp-with-transformers/notebooks/blob/main/images/chapter07_retriever-reader.png?raw=1\" id=\"retriever-reader\"/>"
      ]
    },
    {
      "cell_type": "markdown",
      "metadata": {
        "id": "mrjtAgpL6t1k"
      },
      "source": [
        "#### Initializing a document store"
      ]
    },
    {
      "cell_type": "code",
      "execution_count": 28,
      "metadata": {
        "id": "XAq3zKBP6t1k"
      },
      "outputs": [],
      "source": [
        "url = \"\"\"https://artifacts.elastic.co/downloads/elasticsearch/\\\n",
        "elasticsearch-7.9.2-linux-x86_64.tar.gz\"\"\"\n",
        "!wget -nc -q {url}\n",
        "!tar -xzf elasticsearch-7.9.2-linux-x86_64.tar.gz"
      ]
    },
    {
      "cell_type": "code",
      "execution_count": 29,
      "metadata": {
        "id": "79DUkVfe6t1k",
        "outputId": "8f3d7020-c78c-44cb-e4ab-d847720988fb",
        "colab": {
          "base_uri": "https://localhost:8080/"
        }
      },
      "outputs": [
        {
          "output_type": "stream",
          "name": "stderr",
          "text": [
            "/usr/lib/python3.10/subprocess.py:1796: RuntimeWarning: os.fork() was called. os.fork() is incompatible with multithreaded code, and JAX is multithreaded, so this will likely lead to a deadlock.\n",
            "  self.pid = _posixsubprocess.fork_exec(\n"
          ]
        }
      ],
      "source": [
        "import os\n",
        "from subprocess import Popen, PIPE, STDOUT\n",
        "\n",
        "# Run Elasticsearch as a background process\n",
        "!chown -R daemon:daemon elasticsearch-7.9.2\n",
        "es_server = Popen(args=['elasticsearch-7.9.2/bin/elasticsearch'],\n",
        "                  stdout=PIPE, stderr=STDOUT, preexec_fn=lambda: os.setuid(1))\n",
        "# Wait until Elasticsearch has started\n",
        "!sleep 30"
      ]
    },
    {
      "cell_type": "code",
      "execution_count": 38,
      "metadata": {
        "id": "nnsCqkUx6t1k",
        "outputId": "b3f57927-5556-43ce-9208-916bae90bd82",
        "colab": {
          "base_uri": "https://localhost:8080/",
          "height": 106
        }
      },
      "outputs": [
        {
          "output_type": "error",
          "ename": "SyntaxError",
          "evalue": "invalid syntax (<ipython-input-38-3176f2f111eb>, line 2)",
          "traceback": [
            "\u001b[0;36m  File \u001b[0;32m\"<ipython-input-38-3176f2f111eb>\"\u001b[0;36m, line \u001b[0;32m2\u001b[0m\n\u001b[0;31m    from farm-haystacks.utils import launch_es\u001b[0m\n\u001b[0m             ^\u001b[0m\n\u001b[0;31mSyntaxError\u001b[0m\u001b[0;31m:\u001b[0m invalid syntax\n"
          ]
        }
      ],
      "source": [
        "# Alternative if Docker is installed\n",
        "from haystack.utils import launch_es\n",
        "\n",
        "launch_es()"
      ]
    },
    {
      "cell_type": "code",
      "source": [
        "!pip show haystack"
      ],
      "metadata": {
        "id": "7E7PBa1GduEL",
        "outputId": "3d1e439a-49c3-4bf3-cf06-1cc6d28bb164",
        "colab": {
          "base_uri": "https://localhost:8080/"
        }
      },
      "execution_count": 41,
      "outputs": [
        {
          "output_type": "stream",
          "name": "stdout",
          "text": [
            "\u001b[33mWARNING: Package(s) not found: haystack\u001b[0m\u001b[33m\n",
            "\u001b[0m"
          ]
        }
      ]
    },
    {
      "cell_type": "code",
      "execution_count": 34,
      "metadata": {
        "colab": {
          "base_uri": "https://localhost:8080/"
        },
        "id": "H1vm8hHx6t1k",
        "outputId": "17e6fa2e-0631-4048-871e-6b9dfee96889"
      },
      "outputs": [
        {
          "output_type": "stream",
          "name": "stdout",
          "text": [
            "{\n",
            "  \"name\" : \"b8e42d5c7665\",\n",
            "  \"cluster_name\" : \"elasticsearch\",\n",
            "  \"cluster_uuid\" : \"usspkSJhQy64yD5zeUockw\",\n",
            "  \"version\" : {\n",
            "    \"number\" : \"7.9.2\",\n",
            "    \"build_flavor\" : \"default\",\n",
            "    \"build_type\" : \"tar\",\n",
            "    \"build_hash\" : \"d34da0ea4a966c4e49417f2da2f244e3e97b4e6e\",\n",
            "    \"build_date\" : \"2020-09-23T00:45:33.626720Z\",\n",
            "    \"build_snapshot\" : false,\n",
            "    \"lucene_version\" : \"8.6.2\",\n",
            "    \"minimum_wire_compatibility_version\" : \"6.8.0\",\n",
            "    \"minimum_index_compatibility_version\" : \"6.0.0-beta1\"\n",
            "  },\n",
            "  \"tagline\" : \"You Know, for Search\"\n",
            "}\n"
          ]
        }
      ],
      "source": [
        "!curl -X GET \"localhost:9200/?pretty\""
      ]
    },
    {
      "cell_type": "code",
      "execution_count": 35,
      "metadata": {
        "id": "6vMc2EqA6t1k",
        "outputId": "e53fc13e-f8ba-472a-c775-3a1f56612b07",
        "colab": {
          "base_uri": "https://localhost:8080/",
          "height": 366
        }
      },
      "outputs": [
        {
          "output_type": "error",
          "ename": "ModuleNotFoundError",
          "evalue": "No module named 'haystack'",
          "traceback": [
            "\u001b[0;31m---------------------------------------------------------------------------\u001b[0m",
            "\u001b[0;31mModuleNotFoundError\u001b[0m                       Traceback (most recent call last)",
            "\u001b[0;32m<ipython-input-35-c9b68c3c9195>\u001b[0m in \u001b[0;36m<cell line: 1>\u001b[0;34m()\u001b[0m\n\u001b[0;32m----> 1\u001b[0;31m \u001b[0;32mfrom\u001b[0m \u001b[0mhaystack\u001b[0m\u001b[0;34m.\u001b[0m\u001b[0mdocument_stores\u001b[0m\u001b[0;34m.\u001b[0m\u001b[0melasticsearch\u001b[0m \u001b[0;32mimport\u001b[0m \u001b[0mElasticsearchDocumentStore\u001b[0m\u001b[0;34m\u001b[0m\u001b[0;34m\u001b[0m\u001b[0m\n\u001b[0m\u001b[1;32m      2\u001b[0m \u001b[0;34m\u001b[0m\u001b[0m\n\u001b[1;32m      3\u001b[0m \u001b[0;31m# Return the document embedding for later use with dense retriever\u001b[0m\u001b[0;34m\u001b[0m\u001b[0;34m\u001b[0m\u001b[0m\n\u001b[1;32m      4\u001b[0m \u001b[0mdocument_store\u001b[0m \u001b[0;34m=\u001b[0m \u001b[0mElasticsearchDocumentStore\u001b[0m\u001b[0;34m(\u001b[0m\u001b[0mreturn_embedding\u001b[0m\u001b[0;34m=\u001b[0m\u001b[0;32mTrue\u001b[0m\u001b[0;34m)\u001b[0m\u001b[0;34m\u001b[0m\u001b[0;34m\u001b[0m\u001b[0m\n",
            "\u001b[0;31mModuleNotFoundError\u001b[0m: No module named 'haystack'",
            "",
            "\u001b[0;31m---------------------------------------------------------------------------\u001b[0;32m\nNOTE: If your import is failing due to a missing package, you can\nmanually install dependencies using either !pip or !apt.\n\nTo view examples of installing some common dependencies, click the\n\"Open Examples\" button below.\n\u001b[0;31m---------------------------------------------------------------------------\u001b[0m\n"
          ],
          "errorDetails": {
            "actions": [
              {
                "action": "open_url",
                "actionText": "Open Examples",
                "url": "/notebooks/snippets/importing_libraries.ipynb"
              }
            ]
          }
        }
      ],
      "source": [
        "from haystack.document_stores.elasticsearch import ElasticsearchDocumentStore\n",
        "\n",
        "# Return the document embedding for later use with dense retriever\n",
        "document_store = ElasticsearchDocumentStore(return_embedding=True)"
      ]
    },
    {
      "cell_type": "code",
      "execution_count": 36,
      "metadata": {
        "id": "-zt7gJJR6t1l",
        "outputId": "c6b5555e-d05c-45a0-ffa9-96830c30afd6",
        "colab": {
          "base_uri": "https://localhost:8080/",
          "height": 193
        }
      },
      "outputs": [
        {
          "output_type": "error",
          "ename": "NameError",
          "evalue": "name 'document_store' is not defined",
          "traceback": [
            "\u001b[0;31m---------------------------------------------------------------------------\u001b[0m",
            "\u001b[0;31mNameError\u001b[0m                                 Traceback (most recent call last)",
            "\u001b[0;32m<ipython-input-36-936e1d9d00ca>\u001b[0m in \u001b[0;36m<cell line: 2>\u001b[0;34m()\u001b[0m\n\u001b[1;32m      1\u001b[0m \u001b[0;31m# It's a good idea to flush Elasticsearch with each notebook restart\u001b[0m\u001b[0;34m\u001b[0m\u001b[0;34m\u001b[0m\u001b[0m\n\u001b[0;32m----> 2\u001b[0;31m \u001b[0;32mif\u001b[0m \u001b[0mlen\u001b[0m\u001b[0;34m(\u001b[0m\u001b[0mdocument_store\u001b[0m\u001b[0;34m.\u001b[0m\u001b[0mget_all_documents\u001b[0m\u001b[0;34m(\u001b[0m\u001b[0;34m)\u001b[0m\u001b[0;34m)\u001b[0m \u001b[0;32mor\u001b[0m \u001b[0mlen\u001b[0m\u001b[0;34m(\u001b[0m\u001b[0mdocument_store\u001b[0m\u001b[0;34m.\u001b[0m\u001b[0mget_all_labels\u001b[0m\u001b[0;34m(\u001b[0m\u001b[0;34m)\u001b[0m\u001b[0;34m)\u001b[0m \u001b[0;34m>\u001b[0m \u001b[0;36m0\u001b[0m\u001b[0;34m:\u001b[0m\u001b[0;34m\u001b[0m\u001b[0;34m\u001b[0m\u001b[0m\n\u001b[0m\u001b[1;32m      3\u001b[0m     \u001b[0mdocument_store\u001b[0m\u001b[0;34m.\u001b[0m\u001b[0mdelete_documents\u001b[0m\u001b[0;34m(\u001b[0m\u001b[0mindex\u001b[0m\u001b[0;34m=\u001b[0m\u001b[0;34m\"document\"\u001b[0m\u001b[0;34m)\u001b[0m\u001b[0;34m\u001b[0m\u001b[0;34m\u001b[0m\u001b[0m\n\u001b[1;32m      4\u001b[0m     \u001b[0mdocument_store\u001b[0m\u001b[0;34m.\u001b[0m\u001b[0mdelete_documents\u001b[0m\u001b[0;34m(\u001b[0m\u001b[0mindex\u001b[0m\u001b[0;34m=\u001b[0m\u001b[0;34m\"label\"\u001b[0m\u001b[0;34m)\u001b[0m\u001b[0;34m\u001b[0m\u001b[0;34m\u001b[0m\u001b[0m\n",
            "\u001b[0;31mNameError\u001b[0m: name 'document_store' is not defined"
          ]
        }
      ],
      "source": [
        "# It's a good idea to flush Elasticsearch with each notebook restart\n",
        "if len(document_store.get_all_documents()) or len(document_store.get_all_labels()) > 0:\n",
        "    document_store.delete_documents(index=\"document\")\n",
        "    document_store.delete_documents(index=\"label\")"
      ]
    },
    {
      "cell_type": "markdown",
      "metadata": {
        "id": "w66wf8fxXhrz"
      },
      "source": [
        "Since version 1.0 of Haystack, Documents now have a field `content`, which replaces the field `text`. This change was introduced because Documents have become more flexible and can also store tables in addition to texts."
      ]
    },
    {
      "cell_type": "code",
      "execution_count": null,
      "metadata": {
        "id": "kL1DoFNh6t1l"
      },
      "outputs": [],
      "source": [
        "for split, df in dfs.items():\n",
        "    # Exclude duplicate reviews\n",
        "    docs = [{\"content\": row[\"context\"], \"id\": row[\"review_id\"],\n",
        "             \"meta\":{\"item_id\": row[\"title\"], \"question_id\": row[\"id\"],\n",
        "                     \"split\": split}}\n",
        "        for _,row in df.drop_duplicates(subset=\"context\").iterrows()]\n",
        "    document_store.write_documents(documents=docs, index=\"document\")\n",
        "\n",
        "print(f\"Loaded {document_store.get_document_count()} documents\")"
      ]
    },
    {
      "cell_type": "markdown",
      "metadata": {
        "id": "dnUXWwX06t1l"
      },
      "source": [
        "#### Initializing a retriever"
      ]
    },
    {
      "cell_type": "markdown",
      "metadata": {
        "id": "T8c0GV2QZf9S"
      },
      "source": [
        "In Haystack 1.4 `ElasticsearchRetriever` was renamed to `BM25Retriever`. You can still use `ElasticsearchRetriever` for compatibility reasons in version 1.5 but it might be removed in future releases."
      ]
    },
    {
      "cell_type": "code",
      "execution_count": 33,
      "metadata": {
        "id": "2zvJUgnZ6t1l",
        "outputId": "1f30f4a3-057f-44ff-a610-ff588e94df8d",
        "colab": {
          "base_uri": "https://localhost:8080/",
          "height": 349
        }
      },
      "outputs": [
        {
          "output_type": "error",
          "ename": "ModuleNotFoundError",
          "evalue": "No module named 'haystack'",
          "traceback": [
            "\u001b[0;31m---------------------------------------------------------------------------\u001b[0m",
            "\u001b[0;31mModuleNotFoundError\u001b[0m                       Traceback (most recent call last)",
            "\u001b[0;32m<ipython-input-33-92159d5c3180>\u001b[0m in \u001b[0;36m<cell line: 1>\u001b[0;34m()\u001b[0m\n\u001b[0;32m----> 1\u001b[0;31m \u001b[0;32mfrom\u001b[0m \u001b[0mhaystack\u001b[0m\u001b[0;34m.\u001b[0m\u001b[0mnodes\u001b[0m\u001b[0;34m.\u001b[0m\u001b[0mretriever\u001b[0m \u001b[0;32mimport\u001b[0m \u001b[0mBM25Retriever\u001b[0m\u001b[0;34m\u001b[0m\u001b[0;34m\u001b[0m\u001b[0m\n\u001b[0m\u001b[1;32m      2\u001b[0m \u001b[0;34m\u001b[0m\u001b[0m\n\u001b[1;32m      3\u001b[0m \u001b[0mbm25_retriever\u001b[0m \u001b[0;34m=\u001b[0m \u001b[0mBM25Retriever\u001b[0m\u001b[0;34m(\u001b[0m\u001b[0mdocument_store\u001b[0m\u001b[0;34m=\u001b[0m\u001b[0mdocument_store\u001b[0m\u001b[0;34m)\u001b[0m\u001b[0;34m\u001b[0m\u001b[0;34m\u001b[0m\u001b[0m\n",
            "\u001b[0;31mModuleNotFoundError\u001b[0m: No module named 'haystack'",
            "",
            "\u001b[0;31m---------------------------------------------------------------------------\u001b[0;32m\nNOTE: If your import is failing due to a missing package, you can\nmanually install dependencies using either !pip or !apt.\n\nTo view examples of installing some common dependencies, click the\n\"Open Examples\" button below.\n\u001b[0;31m---------------------------------------------------------------------------\u001b[0m\n"
          ],
          "errorDetails": {
            "actions": [
              {
                "action": "open_url",
                "actionText": "Open Examples",
                "url": "/notebooks/snippets/importing_libraries.ipynb"
              }
            ]
          }
        }
      ],
      "source": [
        "from haystack.nodes.retriever import BM25Retriever\n",
        "\n",
        "bm25_retriever = BM25Retriever(document_store=document_store)"
      ]
    },
    {
      "cell_type": "code",
      "execution_count": null,
      "metadata": {
        "id": "IxtBLm3q6t1l"
      },
      "outputs": [],
      "source": [
        "item_id = \"B0074BW614\"\n",
        "query = \"Is it good for reading?\"\n",
        "retrieved_docs = bm25_retriever.retrieve(\n",
        "    query=query, top_k=3, filters={\"item_id\":[item_id], \"split\":[\"train\"]})"
      ]
    },
    {
      "cell_type": "code",
      "execution_count": null,
      "metadata": {
        "id": "1mruy2lB6t1l"
      },
      "outputs": [],
      "source": [
        "print(retrieved_docs[0])"
      ]
    },
    {
      "cell_type": "markdown",
      "metadata": {
        "id": "jluvt5W06t1l"
      },
      "source": [
        "#### Initializing a reader"
      ]
    },
    {
      "cell_type": "code",
      "execution_count": null,
      "metadata": {
        "id": "lAcIAbc-6t1l"
      },
      "outputs": [],
      "source": [
        "from haystack.nodes import FARMReader\n",
        "\n",
        "model_ckpt = \"deepset/minilm-uncased-squad2\" #alternative larger models: deepset/roberta-base-squad2-distilled or deepset/xlm-roberta-large-squad2 or the tiny distilled model: deepset/tinyroberta-squad2\n",
        "max_seq_length, doc_stride = 384, 128\n",
        "reader = FARMReader(model_name_or_path=model_ckpt, progress_bar=False,\n",
        "                    max_seq_len=max_seq_length, doc_stride=doc_stride,\n",
        "                    return_no_answer=True)"
      ]
    },
    {
      "cell_type": "code",
      "execution_count": null,
      "metadata": {
        "id": "s6Z61Vcg6t1l"
      },
      "outputs": [],
      "source": [
        "print(reader.predict_on_texts(question=question, texts=[context], top_k=1))"
      ]
    },
    {
      "cell_type": "markdown",
      "metadata": {
        "id": "oY5r-zAt6t1l"
      },
      "source": [
        "#### Putting it all together"
      ]
    },
    {
      "cell_type": "code",
      "execution_count": null,
      "metadata": {
        "id": "lkZTySI46t1l"
      },
      "outputs": [],
      "source": [
        "from haystack.pipelines import ExtractiveQAPipeline\n",
        "\n",
        "pipe = ExtractiveQAPipeline(reader=reader, retriever=bm25_retriever)"
      ]
    },
    {
      "cell_type": "markdown",
      "metadata": {
        "id": "7uRE1oOrYTc9"
      },
      "source": [
        "The format of parameters that can be passed to a pipeline has slightly changed. In the old version, the method call was\n",
        "```python\n",
        "preds = pipe.run(query=query, top_k_retriever=3, top_k_reader=n_answers,\n",
        "                 filters={\"item_id\": [item_id], \"split\":[\"train\"]})\n",
        "```\n",
        "Now, you can specify the name of the node, e.g., `\"Retriever\"`, that you want to pass parameters to."
      ]
    },
    {
      "cell_type": "code",
      "execution_count": null,
      "metadata": {
        "id": "Y9HKi8T-6t1l"
      },
      "outputs": [],
      "source": [
        "n_answers = 3\n",
        "preds = pipe.run(query=query, params={\"Retriever\": {\"top_k\": 3, \"filters\":{\"item_id\": [item_id], \"split\":[\"train\"]}},\n",
        "                                      \"Reader\": {\"top_k\": n_answers}})\n",
        "\n",
        "print(f\"Question: {preds['query']} \\n\")\n",
        "\n",
        "for idx in range(n_answers):\n",
        "    print(f\"Answer {idx+1}: {preds['answers'][idx].answer}\")\n",
        "    print(f\"Review snippet: ...{preds['answers'][idx].context}...\")\n",
        "    print(\"\\n\\n\")"
      ]
    },
    {
      "cell_type": "markdown",
      "metadata": {
        "id": "Pzvl0anw6t1l"
      },
      "source": [
        "## Improving Our QA Pipeline"
      ]
    },
    {
      "cell_type": "markdown",
      "metadata": {
        "id": "S3XUQydu6t1l"
      },
      "source": [
        "### Evaluating the Retriever"
      ]
    },
    {
      "cell_type": "markdown",
      "metadata": {
        "id": "fXtZWZ7HcHQp"
      },
      "source": [
        "Evaluating the retriever is the same as evaluating a `DocumentSearchPipeline`, which consists only of a single node, a retriever."
      ]
    },
    {
      "cell_type": "code",
      "execution_count": null,
      "metadata": {
        "id": "tc-Do8K06t1l"
      },
      "outputs": [],
      "source": [
        "from haystack.pipelines import DocumentSearchPipeline\n",
        "\n",
        "pipe = DocumentSearchPipeline(retriever=bm25_retriever)"
      ]
    },
    {
      "cell_type": "markdown",
      "metadata": {
        "id": "wF8pZb-NZlNe"
      },
      "source": [
        "Since version 1.0 of Haystack, `Answer` has become a class and each `Label` contains a `Document` that the `Label` refers to. Thus, the initialization of a `Label` in the following code cell has changed.\n",
        "Note that the code printed in the book had a small bug. In the for loop of the old code, `Label`s were created that were all initialized with the same id. Thus they were handled as duplicates and not all of them were stored in the document store when we later on called `document_store.write_labels(labels, index=\"label\")`:\n",
        "```python\n",
        "for answer in row[\"answers.text\"]:\n",
        "            label = Label(\n",
        "                question=row[\"question\"], answer=answer, id=i, origin=row[\"id\"],\n",
        "                meta=meta, is_correct_answer=True, is_correct_document=True,\n",
        "                no_answer=False)\n",
        "            labels.append(label)\n",
        "```\n"
      ]
    },
    {
      "cell_type": "markdown",
      "metadata": {
        "id": "oHfQHTkSdiyn"
      },
      "source": [
        "*In the previous version there was a bug that omitted some of the labels.*"
      ]
    },
    {
      "cell_type": "code",
      "execution_count": null,
      "metadata": {
        "id": "uPJ3dqbB6t1l"
      },
      "outputs": [],
      "source": [
        "from haystack import Label, Answer, Document\n",
        "\n",
        "labels = []\n",
        "for i, row in dfs[\"test\"].iterrows():\n",
        "    # Metadata used for filtering in the Retriever\n",
        "    meta = {\"item_id\": row[\"title\"], \"question_id\": row[\"id\"]}\n",
        "    # Populate labels for questions with answers\n",
        "    if len(row[\"answers.text\"]):\n",
        "        for answer in row[\"answers.text\"]:\n",
        "            label = Label(\n",
        "                query=row[\"question\"], answer=Answer(answer=answer), origin=\"gold-label\", document=Document(content=row[\"context\"], id=row[\"review_id\"]),\n",
        "                meta=meta, is_correct_answer=True, is_correct_document=True,\n",
        "                no_answer=False, filters={\"item_id\": [meta[\"item_id\"]], \"split\":[\"test\"]})\n",
        "            labels.append(label)\n",
        "    # Populate labels for questions without answers\n",
        "    else:\n",
        "        label = Label(\n",
        "            query=row[\"question\"], answer=Answer(answer=\"\"), origin=\"gold-label\", document=Document(content=row[\"context\"], id=row[\"review_id\"]),\n",
        "            meta=meta, is_correct_answer=True, is_correct_document=True,\n",
        "            no_answer=True, filters={\"item_id\": [row[\"title\"]], \"split\":[\"test\"]})\n",
        "        labels.append(label)"
      ]
    },
    {
      "cell_type": "code",
      "execution_count": null,
      "metadata": {
        "id": "5GYqIByP6t1m"
      },
      "outputs": [],
      "source": [
        "document_store.write_labels(labels, index=\"label\")\n",
        "\n",
        "print(f\"\"\"Loaded {document_store.get_label_count(index=\"label\")} \\\n",
        "question-answer pairs\"\"\")"
      ]
    },
    {
      "cell_type": "code",
      "execution_count": null,
      "metadata": {
        "id": "qufrEgpa6t1m"
      },
      "outputs": [],
      "source": [
        "labels_agg = document_store.get_all_labels_aggregated(\n",
        "    index=\"label\",\n",
        "    open_domain=True,\n",
        "    aggregate_by_meta=[\"item_id\"]\n",
        ")\n",
        "print(len(labels_agg))"
      ]
    },
    {
      "cell_type": "markdown",
      "metadata": {
        "id": "Yi94EA-Aaks_"
      },
      "source": [
        "Since version 1.0 of Haystack, the evaluation of pipelines is much different compared to the version described in the first edition of the book. `Pipeline` now has a method `eval()`, which runs the pipeline given input data from labels and returns the prediction and the labels in the format of one Pandas dataframe per pipeline node. This result is stored in `eval_result` in the following code cell. On these results, we can calculate arbitrary metrics - without rerunning the computationally intesive inference steps of the pipeline."
      ]
    },
    {
      "cell_type": "code",
      "execution_count": null,
      "metadata": {
        "id": "s6RviAdS4pMi"
      },
      "outputs": [],
      "source": [
        "# We can run the pipeline with the desired top_k value like this\n",
        "eval_result = pipe.eval(\n",
        "    labels=labels_agg,\n",
        "    params={\"Retriever\": {\"top_k\": 3}},\n",
        ")\n",
        "metrics = eval_result.calculate_metrics()"
      ]
    },
    {
      "cell_type": "code",
      "execution_count": null,
      "metadata": {
        "id": "u9pJEV2E6t1m"
      },
      "outputs": [],
      "source": [
        "print(f\"Recall@3: {metrics['Retriever']['recall_single_hit']:.2f}\")"
      ]
    },
    {
      "cell_type": "markdown",
      "metadata": {
        "id": "3R2w-UbtKqRh"
      },
      "source": [
        "You can check the predictions of any query by inspecting the dataframe:"
      ]
    },
    {
      "cell_type": "code",
      "execution_count": null,
      "metadata": {
        "id": "LhGk2W8gKPka"
      },
      "outputs": [],
      "source": [
        "eval_df = eval_result[\"Retriever\"]\n",
        "eval_df[eval_df[\"query\"] == \"How do you like the lens?\"][[\"query\", \"filters\", \"rank\", \"content\", \"gold_document_contents\", \"document_id\", \"gold_document_ids\", \"gold_id_match\"]]"
      ]
    },
    {
      "cell_type": "markdown",
      "metadata": {
        "id": "-b7XKupFZf9Z"
      },
      "source": [
        "Or if we want to calculate metrics for multiple topk values, we can run the pipeline only once with the highest top_k value and calculate metrics for smaller top_ks afterwards."
      ]
    },
    {
      "cell_type": "code",
      "execution_count": null,
      "metadata": {
        "id": "EBTRo3q66t1m"
      },
      "outputs": [],
      "source": [
        "def evaluate_retriever(retriever, topk_values = [1,3,5,10,20]):\n",
        "    topk_results = {}\n",
        "    # Calculate max top_k\n",
        "    max_top_k = max(topk_values)\n",
        "    # Create Pipeline\n",
        "    p = DocumentSearchPipeline(retriever=retriever)\n",
        "    # Run inference with max top_k by looping over each question-answers pair in test set\n",
        "    eval_result = p.eval(\n",
        "        labels=labels_agg,\n",
        "        params={\"Retriever\": {\"top_k\": max_top_k}},\n",
        "    )\n",
        "    # Calculate metric for each top_k value\n",
        "    for topk in topk_values:\n",
        "        # Get metrics\n",
        "        metrics = eval_result.calculate_metrics(simulated_top_k_retriever=topk)\n",
        "        topk_results[topk] = {\"recall\": metrics[\"Retriever\"][\"recall_single_hit\"]}\n",
        "\n",
        "    return pd.DataFrame.from_dict(topk_results, orient=\"index\")\n",
        "\n",
        "\n",
        "bm25_topk_df = evaluate_retriever(bm25_retriever)"
      ]
    },
    {
      "cell_type": "code",
      "execution_count": null,
      "metadata": {
        "id": "iuVGkVW26t1m"
      },
      "outputs": [],
      "source": [
        "def plot_retriever_eval(dfs, retriever_names):\n",
        "    fig, ax = plt.subplots()\n",
        "    for df, retriever_name in zip(dfs, retriever_names):\n",
        "        df.plot(y=\"recall\", ax=ax, label=retriever_name)\n",
        "    plt.xticks(df.index)\n",
        "    plt.ylabel(\"Top-k Recall\")\n",
        "    plt.xlabel(\"k\")\n",
        "    plt.show()\n",
        "\n",
        "plot_retriever_eval([bm25_topk_df], [\"BM25\"])"
      ]
    },
    {
      "cell_type": "markdown",
      "metadata": {
        "id": "Lq8TWj-m6t1m"
      },
      "source": [
        "#### Dense Passage Retrieval"
      ]
    },
    {
      "cell_type": "markdown",
      "metadata": {
        "id": "i0gt2INiZf9Z"
      },
      "source": [
        "<img alt=\"DPR Architecture\" caption=\"DPR's bi-encoder architecture for computing the relevance of a document and query\" src=\"https://github.com/nlp-with-transformers/notebooks/blob/main/images/chapter07_dpr.png?raw=1\" id=\"dpr\"/>"
      ]
    },
    {
      "cell_type": "code",
      "execution_count": null,
      "metadata": {
        "id": "csu66qVS6t1m"
      },
      "outputs": [],
      "source": [
        "from haystack.nodes import DensePassageRetriever\n",
        "\n",
        "dpr_retriever = DensePassageRetriever(document_store=document_store,\n",
        "    query_embedding_model=\"facebook/dpr-question_encoder-single-nq-base\",\n",
        "    passage_embedding_model=\"facebook/dpr-ctx_encoder-single-nq-base\",\n",
        "    embed_title=False)"
      ]
    },
    {
      "cell_type": "code",
      "execution_count": null,
      "metadata": {
        "id": "OL1QGVO-6t1m"
      },
      "outputs": [],
      "source": [
        "document_store.update_embeddings(retriever=dpr_retriever)"
      ]
    },
    {
      "cell_type": "code",
      "execution_count": null,
      "metadata": {
        "id": "4v6ZNA-O6t1m"
      },
      "outputs": [],
      "source": [
        "dpr_topk_df = evaluate_retriever(dpr_retriever)\n",
        "plot_retriever_eval([bm25_topk_df, dpr_topk_df], [\"BM25\", \"DPR\"])"
      ]
    },
    {
      "cell_type": "markdown",
      "metadata": {
        "id": "DO3vM5Gz6t1m"
      },
      "source": [
        "### Evaluating the Reader"
      ]
    },
    {
      "cell_type": "code",
      "execution_count": null,
      "metadata": {
        "id": "sdutPr9A6t1m"
      },
      "outputs": [],
      "source": [
        "from haystack.modeling.evaluation.squad import compute_f1, compute_exact\n",
        "\n",
        "pred = \"about 6000 hours\"\n",
        "label = \"6000 hours\"\n",
        "print(f\"EM: {compute_exact(label, pred)}\")\n",
        "print(f\"F1: {compute_f1(label, pred)}\")"
      ]
    },
    {
      "cell_type": "code",
      "execution_count": null,
      "metadata": {
        "id": "sVlMZUwV6t1m"
      },
      "outputs": [],
      "source": [
        "pred = \"about 6000 dollars\"\n",
        "print(f\"EM: {compute_exact(label, pred)}\")\n",
        "print(f\"F1: {compute_f1(label, pred)}\")"
      ]
    },
    {
      "cell_type": "markdown",
      "metadata": {
        "id": "45aCFu7HcOIe"
      },
      "source": [
        "The evaluation of a reader can be done by creating a pipeline that consists only of a single node: a reader. In this case, the `pipeline.eval()` gets the relevant documents as direct input from the labels."
      ]
    },
    {
      "cell_type": "code",
      "execution_count": null,
      "metadata": {
        "id": "y0HOcFWM6t1m"
      },
      "outputs": [],
      "source": [
        "from haystack.pipelines import Pipeline\n",
        "def evaluate_reader(reader):\n",
        "    score_keys = ['exact_match', 'f1']\n",
        "    p = Pipeline()\n",
        "    p.add_node(component=reader, name=\"Reader\", inputs=[\"Query\"])\n",
        "\n",
        "    eval_result = p.eval(\n",
        "        labels=labels_agg,\n",
        "        documents= [[label.document for label in multilabel.labels] for multilabel in labels_agg],\n",
        "        params={},\n",
        "    )\n",
        "    metrics = eval_result.calculate_metrics(simulated_top_k_reader=1)\n",
        "\n",
        "    return {k:v for k,v in metrics[\"Reader\"].items() if k in score_keys}\n",
        "\n",
        "reader_eval = {}\n",
        "reader_eval[\"Fine-tune on SQuAD\"] = evaluate_reader(reader)"
      ]
    },
    {
      "cell_type": "markdown",
      "metadata": {
        "id": "pSFJD3dIeADy"
      },
      "source": [
        "In the first version no_answer labels weren't taken into account. Because there are quite many of them in the evaluation dataset the numbers differ significantly compared to the first version (EM was at ~0.07 and f1 at ~0.25)."
      ]
    },
    {
      "cell_type": "code",
      "execution_count": null,
      "metadata": {
        "id": "s7p0xnRY6t1n"
      },
      "outputs": [],
      "source": [
        "def plot_reader_eval(reader_eval):\n",
        "    fig, ax = plt.subplots()\n",
        "    df = pd.DataFrame.from_dict(reader_eval).reindex([\"exact_match\", \"f1\"])\n",
        "    df.plot(kind=\"bar\", ylabel=\"Score\", rot=0, ax=ax)\n",
        "    ax.set_xticklabels([\"EM\", \"F1\"])\n",
        "    plt.legend(loc='upper left')\n",
        "    plt.show()\n",
        "\n",
        "plot_reader_eval(reader_eval)"
      ]
    },
    {
      "cell_type": "markdown",
      "metadata": {
        "id": "BVx-6ZzB6t1n"
      },
      "source": [
        "### Domain Adaptation"
      ]
    },
    {
      "cell_type": "markdown",
      "metadata": {
        "id": "RJAWgnlQZf9b"
      },
      "source": [
        "<img alt=\"SQuAD Schema\" caption=\"Visualization of the SQuAD JSON format\" src=\"https://github.com/nlp-with-transformers/notebooks/blob/main/images/chapter07_squad-schema.png?raw=1\" id=\"squad-schema\"/>"
      ]
    },
    {
      "cell_type": "code",
      "execution_count": null,
      "metadata": {
        "id": "CDVlUwE_6t1n"
      },
      "outputs": [],
      "source": [
        "def create_paragraphs(df):\n",
        "    paragraphs = []\n",
        "    id2context = dict(zip(df[\"review_id\"], df[\"context\"]))\n",
        "    for review_id, review in id2context.items():\n",
        "        qas = []\n",
        "        # Filter for all question-answer pairs about a specific context\n",
        "        review_df = df.query(f\"review_id == '{review_id}'\")\n",
        "        id2question = dict(zip(review_df[\"id\"], review_df[\"question\"]))\n",
        "        # Build up the qas array\n",
        "        for qid, question in id2question.items():\n",
        "            # Filter for a single question ID\n",
        "            question_df = df.query(f\"id == '{qid}'\").to_dict(orient=\"list\")\n",
        "            ans_start_idxs = question_df[\"answers.answer_start\"][0].tolist()\n",
        "            ans_text = question_df[\"answers.text\"][0].tolist()\n",
        "            # Fill answerable questions\n",
        "            if len(ans_start_idxs):\n",
        "                answers = [\n",
        "                    {\"text\": text, \"answer_start\": answer_start}\n",
        "                    for text, answer_start in zip(ans_text, ans_start_idxs)]\n",
        "                is_impossible = False\n",
        "            else:\n",
        "                answers = []\n",
        "                is_impossible = True\n",
        "            # Add question-answer pairs to qas\n",
        "            qas.append({\"question\": question, \"id\": qid,\n",
        "                        \"is_impossible\": is_impossible, \"answers\": answers})\n",
        "        # Add context and question-answer pairs to paragraphs\n",
        "        paragraphs.append({\"qas\": qas, \"context\": review})\n",
        "    return paragraphs"
      ]
    },
    {
      "cell_type": "code",
      "execution_count": null,
      "metadata": {
        "id": "0L-xE93g6t1n"
      },
      "outputs": [],
      "source": [
        "product = dfs[\"train\"].query(\"title == 'B00001P4ZH'\")\n",
        "create_paragraphs(product)"
      ]
    },
    {
      "cell_type": "code",
      "execution_count": null,
      "metadata": {
        "id": "nk3VrC5C6t1n"
      },
      "outputs": [],
      "source": [
        "import json\n",
        "\n",
        "def convert_to_squad(dfs):\n",
        "    for split, df in dfs.items():\n",
        "        subjqa_data = {}\n",
        "        # Create `paragraphs` for each product ID\n",
        "        groups = (df.groupby(\"title\").apply(create_paragraphs)\n",
        "            .to_frame(name=\"paragraphs\").reset_index())\n",
        "        subjqa_data[\"data\"] = groups.to_dict(orient=\"records\")\n",
        "        # Save the result to disk\n",
        "        with open(f\"electronics-{split}.json\", \"w+\", encoding=\"utf-8\") as f:\n",
        "            json.dump(subjqa_data, f)\n",
        "\n",
        "convert_to_squad(dfs)"
      ]
    },
    {
      "cell_type": "code",
      "execution_count": null,
      "metadata": {
        "id": "6vU1ySZ76t1n"
      },
      "outputs": [],
      "source": [
        "train_filename = \"electronics-train.json\"\n",
        "dev_filename = \"electronics-validation.json\"\n",
        "\n",
        "reader.train(data_dir=\".\", use_gpu=True, n_epochs=1, batch_size=16,\n",
        "             train_filename=train_filename, dev_filename=dev_filename)"
      ]
    },
    {
      "cell_type": "code",
      "execution_count": null,
      "metadata": {
        "id": "fnLA2C_AcMu0"
      },
      "outputs": [],
      "source": [
        "reader_eval[\"Fine-tune on SQuAD + SubjQA\"] = evaluate_reader(reader)"
      ]
    },
    {
      "cell_type": "code",
      "execution_count": null,
      "metadata": {
        "id": "0coXNR8Z6t1n"
      },
      "outputs": [],
      "source": [
        "plot_reader_eval(reader_eval)"
      ]
    },
    {
      "cell_type": "code",
      "execution_count": null,
      "metadata": {
        "id": "6r41tRYQ6t1n"
      },
      "outputs": [],
      "source": [
        "minilm_ckpt = \"microsoft/MiniLM-L12-H384-uncased\"\n",
        "minilm_reader = FARMReader(model_name_or_path=minilm_ckpt, progress_bar=False,\n",
        "                           max_seq_len=max_seq_length, doc_stride=doc_stride,\n",
        "                           return_no_answer=True)"
      ]
    },
    {
      "cell_type": "code",
      "execution_count": null,
      "metadata": {
        "id": "dbwH8x786t1n"
      },
      "outputs": [],
      "source": [
        "minilm_reader.train(data_dir=\".\", use_gpu=True, n_epochs=1, batch_size=16,\n",
        "             train_filename=train_filename, dev_filename=dev_filename)"
      ]
    },
    {
      "cell_type": "code",
      "execution_count": null,
      "metadata": {
        "id": "-Xc0OUEa6t1n"
      },
      "outputs": [],
      "source": [
        "reader_eval[\"Fine-tune on SubjQA\"] = evaluate_reader(minilm_reader)"
      ]
    },
    {
      "cell_type": "code",
      "execution_count": null,
      "metadata": {
        "id": "PpQa6pS_eFtc"
      },
      "outputs": [],
      "source": [
        "plot_reader_eval(reader_eval)"
      ]
    },
    {
      "cell_type": "markdown",
      "metadata": {
        "id": "QmmwKtVk6t1n"
      },
      "source": [
        "### Evaluating the Whole QA Pipeline"
      ]
    },
    {
      "cell_type": "code",
      "execution_count": null,
      "metadata": {
        "id": "d0ecnVkv6t1n"
      },
      "outputs": [],
      "source": [
        "from haystack.pipelines import ExtractiveQAPipeline\n",
        "pipe = ExtractiveQAPipeline(retriever=bm25_retriever, reader=reader)\n",
        "\n",
        "# Evaluate!\n",
        "eval_result = pipe.eval(\n",
        "    labels=labels_agg,\n",
        "    params={},\n",
        ")\n",
        "metrics = eval_result.calculate_metrics(simulated_top_k_reader=1)\n",
        "# Extract metrics from reader\n",
        "reader_eval[\"QA Pipeline (top-1)\"] = {\n",
        "    k:v for k,v in metrics[\"Reader\"].items()\n",
        "    if k in [\"exact_match\", \"f1\"]}"
      ]
    },
    {
      "cell_type": "code",
      "execution_count": null,
      "metadata": {
        "id": "x4be4otu6t1n"
      },
      "outputs": [],
      "source": [
        "#id reader-vs-pipeline\n",
        "#caption Comparison of EM and _F_~1~ scores for the reader against the whole QA pipeline\n",
        "plot_reader_eval({\"Reader\": reader_eval[\"Fine-tune on SQuAD + SubjQA\"],\n",
        "                  \"QA pipeline (top-1)\": reader_eval[\"QA Pipeline (top-1)\"]})"
      ]
    },
    {
      "cell_type": "code",
      "execution_count": null,
      "metadata": {
        "id": "LUuzt_pBVtUr"
      },
      "outputs": [],
      "source": [
        "# Or get QA pipeline and Reader metrics in one shot:\n",
        "# Reader evaluation is run a second time using simulated perfect retriever results\n",
        "eval_result = pipe.eval(\n",
        "    labels=labels_agg,\n",
        "    params={},\n",
        "    add_isolated_node_eval=True\n",
        ")\n",
        "metrics = eval_result.calculate_metrics(simulated_top_k_reader=1)\n",
        "# Extract metrics from reader run in isolation with simulated perfect retriever\n",
        "isolated_metrics = eval_result.calculate_metrics(simulated_top_k_reader=1, eval_mode=\"isolated\")\n",
        "\n",
        "pipeline_reader_eval = {}\n",
        "pipeline_reader_eval[\"Reader\"] = {\n",
        "    k:v for k,v in isolated_metrics[\"Reader\"].items()\n",
        "    if k in [\"exact_match\", \"f1\"]}\n",
        "pipeline_reader_eval[\"QA Pipeline (top-1)\"] = {\n",
        "    k:v for k,v in metrics[\"Reader\"].items()\n",
        "    if k in [\"exact_match\", \"f1\"]}\n",
        "\n",
        "plot_reader_eval(pipeline_reader_eval)"
      ]
    },
    {
      "cell_type": "markdown",
      "metadata": {
        "id": "T1twl0YE6t1n"
      },
      "source": [
        "## Going Beyond Extractive QA"
      ]
    },
    {
      "cell_type": "markdown",
      "metadata": {
        "id": "FWCPNIAIZf9e"
      },
      "source": [
        "<img alt=\"RAG Architecture\" width=\"600\" caption=\"The RAG architecture for fine-tuning a retriever and generator end-to-end (courtesy of Ethan Perez)\" src=\"https://github.com/nlp-with-transformers/notebooks/blob/main/images/chapter07_rag-architecture.png?raw=1\" id=\"rag\"/>"
      ]
    },
    {
      "cell_type": "markdown",
      "metadata": {
        "id": "R6pMpZcI6t1n"
      },
      "source": [
        "### Retrieval-Augmented Generation"
      ]
    },
    {
      "cell_type": "code",
      "execution_count": null,
      "metadata": {
        "id": "f3tjexYF6t1n"
      },
      "outputs": [],
      "source": [
        "from haystack.nodes import RAGenerator\n",
        "\n",
        "generator = RAGenerator(model_name_or_path=\"facebook/rag-token-nq\",\n",
        "                        embed_title=False, num_beams=5)"
      ]
    },
    {
      "cell_type": "code",
      "execution_count": null,
      "metadata": {
        "id": "HWxVdJi96t1n"
      },
      "outputs": [],
      "source": [
        "from haystack.pipelines import GenerativeQAPipeline\n",
        "\n",
        "pipe = GenerativeQAPipeline(generator=generator, retriever=dpr_retriever)"
      ]
    },
    {
      "cell_type": "code",
      "execution_count": null,
      "metadata": {
        "id": "gNSabGyv6t1o"
      },
      "outputs": [],
      "source": [
        "def generate_answers(query, top_k_generator=3):\n",
        "    preds = pipe.run(query=query,\n",
        "                     params={\"Retriever\": {\"top_k\":5,\n",
        "                                  \"filters\":{\"item_id\": [\"B0074BW614\"]}},\n",
        "                             \"Generator\": {\"top_k\": top_k_generator}})\n",
        "    print(f\"Question: {preds['query']} \\n\")\n",
        "    for idx in range(top_k_generator):\n",
        "        print(f\"Answer {idx+1}: {preds['answers'][idx].answer}\")"
      ]
    },
    {
      "cell_type": "code",
      "execution_count": null,
      "metadata": {
        "id": "wwCcfqAn6t1o"
      },
      "outputs": [],
      "source": [
        "generate_answers(query)"
      ]
    },
    {
      "cell_type": "code",
      "execution_count": null,
      "metadata": {
        "id": "IkGg4OF_6t1o"
      },
      "outputs": [],
      "source": [
        "generate_answers(\"What is the main drawback?\")"
      ]
    },
    {
      "cell_type": "markdown",
      "metadata": {
        "id": "qJWaVfEO6t1o"
      },
      "source": [
        "## Conclusion"
      ]
    },
    {
      "cell_type": "markdown",
      "metadata": {
        "id": "d72kWF8hZf9f"
      },
      "source": [
        "<img alt=\"QA Pyramid\" caption=\"The QA hierarchy of needs\" src=\"https://github.com/nlp-with-transformers/notebooks/blob/main/images/chapter07_qa-pyramid.png?raw=1\" id=\"qa-pyramid\"/>"
      ]
    }
  ],
  "metadata": {
    "accelerator": "GPU",
    "colab": {
      "collapsed_sections": [
        "TzIA52ea6t1i",
        "wj72_19C6t1i",
        "kdRfEat-6t1i",
        "z-vI21LE6t1k"
      ],
      "name": "question-answering.ipynb",
      "provenance": [],
      "gpuType": "T4"
    },
    "kernelspec": {
      "display_name": "Python 3",
      "name": "python3"
    },
    "widgets": {
      "application/vnd.jupyter.widget-state+json": {
        "e38d52ad3fc24f5fa5d8ca9200e22c21": {
          "model_module": "@jupyter-widgets/controls",
          "model_name": "HBoxModel",
          "model_module_version": "1.5.0",
          "state": {
            "_dom_classes": [],
            "_model_module": "@jupyter-widgets/controls",
            "_model_module_version": "1.5.0",
            "_model_name": "HBoxModel",
            "_view_count": null,
            "_view_module": "@jupyter-widgets/controls",
            "_view_module_version": "1.5.0",
            "_view_name": "HBoxView",
            "box_style": "",
            "children": [
              "IPY_MODEL_94a24fe6e24a4a9398ac843b9b7f4d77",
              "IPY_MODEL_758643df9f244a7b9f14851fcd10dd7d",
              "IPY_MODEL_41ea7e175c1a4c50a067c2f76c319afc"
            ],
            "layout": "IPY_MODEL_a1e4c13c3ffc48bc992d8ff91565d626"
          }
        },
        "94a24fe6e24a4a9398ac843b9b7f4d77": {
          "model_module": "@jupyter-widgets/controls",
          "model_name": "HTMLModel",
          "model_module_version": "1.5.0",
          "state": {
            "_dom_classes": [],
            "_model_module": "@jupyter-widgets/controls",
            "_model_module_version": "1.5.0",
            "_model_name": "HTMLModel",
            "_view_count": null,
            "_view_module": "@jupyter-widgets/controls",
            "_view_module_version": "1.5.0",
            "_view_name": "HTMLView",
            "description": "",
            "description_tooltip": null,
            "layout": "IPY_MODEL_22a9f64065b549ab943a1fa6cc1e88f1",
            "placeholder": "​",
            "style": "IPY_MODEL_331cdef044604459b0cfc726a5351db2",
            "value": "tokenizer_config.json: 100%"
          }
        },
        "758643df9f244a7b9f14851fcd10dd7d": {
          "model_module": "@jupyter-widgets/controls",
          "model_name": "FloatProgressModel",
          "model_module_version": "1.5.0",
          "state": {
            "_dom_classes": [],
            "_model_module": "@jupyter-widgets/controls",
            "_model_module_version": "1.5.0",
            "_model_name": "FloatProgressModel",
            "_view_count": null,
            "_view_module": "@jupyter-widgets/controls",
            "_view_module_version": "1.5.0",
            "_view_name": "ProgressView",
            "bar_style": "success",
            "description": "",
            "description_tooltip": null,
            "layout": "IPY_MODEL_143dd68d6ab047779ae3f622bf4e2fec",
            "max": 107,
            "min": 0,
            "orientation": "horizontal",
            "style": "IPY_MODEL_146fb5dfd5b44acba9fa0e626019a822",
            "value": 107
          }
        },
        "41ea7e175c1a4c50a067c2f76c319afc": {
          "model_module": "@jupyter-widgets/controls",
          "model_name": "HTMLModel",
          "model_module_version": "1.5.0",
          "state": {
            "_dom_classes": [],
            "_model_module": "@jupyter-widgets/controls",
            "_model_module_version": "1.5.0",
            "_model_name": "HTMLModel",
            "_view_count": null,
            "_view_module": "@jupyter-widgets/controls",
            "_view_module_version": "1.5.0",
            "_view_name": "HTMLView",
            "description": "",
            "description_tooltip": null,
            "layout": "IPY_MODEL_ccaa4c8c131b4ea2b9ed0410042e4b8b",
            "placeholder": "​",
            "style": "IPY_MODEL_ac922dd7a8474028bee706ef23b23c65",
            "value": " 107/107 [00:00&lt;00:00, 5.76kB/s]"
          }
        },
        "a1e4c13c3ffc48bc992d8ff91565d626": {
          "model_module": "@jupyter-widgets/base",
          "model_name": "LayoutModel",
          "model_module_version": "1.2.0",
          "state": {
            "_model_module": "@jupyter-widgets/base",
            "_model_module_version": "1.2.0",
            "_model_name": "LayoutModel",
            "_view_count": null,
            "_view_module": "@jupyter-widgets/base",
            "_view_module_version": "1.2.0",
            "_view_name": "LayoutView",
            "align_content": null,
            "align_items": null,
            "align_self": null,
            "border": null,
            "bottom": null,
            "display": null,
            "flex": null,
            "flex_flow": null,
            "grid_area": null,
            "grid_auto_columns": null,
            "grid_auto_flow": null,
            "grid_auto_rows": null,
            "grid_column": null,
            "grid_gap": null,
            "grid_row": null,
            "grid_template_areas": null,
            "grid_template_columns": null,
            "grid_template_rows": null,
            "height": null,
            "justify_content": null,
            "justify_items": null,
            "left": null,
            "margin": null,
            "max_height": null,
            "max_width": null,
            "min_height": null,
            "min_width": null,
            "object_fit": null,
            "object_position": null,
            "order": null,
            "overflow": null,
            "overflow_x": null,
            "overflow_y": null,
            "padding": null,
            "right": null,
            "top": null,
            "visibility": null,
            "width": null
          }
        },
        "22a9f64065b549ab943a1fa6cc1e88f1": {
          "model_module": "@jupyter-widgets/base",
          "model_name": "LayoutModel",
          "model_module_version": "1.2.0",
          "state": {
            "_model_module": "@jupyter-widgets/base",
            "_model_module_version": "1.2.0",
            "_model_name": "LayoutModel",
            "_view_count": null,
            "_view_module": "@jupyter-widgets/base",
            "_view_module_version": "1.2.0",
            "_view_name": "LayoutView",
            "align_content": null,
            "align_items": null,
            "align_self": null,
            "border": null,
            "bottom": null,
            "display": null,
            "flex": null,
            "flex_flow": null,
            "grid_area": null,
            "grid_auto_columns": null,
            "grid_auto_flow": null,
            "grid_auto_rows": null,
            "grid_column": null,
            "grid_gap": null,
            "grid_row": null,
            "grid_template_areas": null,
            "grid_template_columns": null,
            "grid_template_rows": null,
            "height": null,
            "justify_content": null,
            "justify_items": null,
            "left": null,
            "margin": null,
            "max_height": null,
            "max_width": null,
            "min_height": null,
            "min_width": null,
            "object_fit": null,
            "object_position": null,
            "order": null,
            "overflow": null,
            "overflow_x": null,
            "overflow_y": null,
            "padding": null,
            "right": null,
            "top": null,
            "visibility": null,
            "width": null
          }
        },
        "331cdef044604459b0cfc726a5351db2": {
          "model_module": "@jupyter-widgets/controls",
          "model_name": "DescriptionStyleModel",
          "model_module_version": "1.5.0",
          "state": {
            "_model_module": "@jupyter-widgets/controls",
            "_model_module_version": "1.5.0",
            "_model_name": "DescriptionStyleModel",
            "_view_count": null,
            "_view_module": "@jupyter-widgets/base",
            "_view_module_version": "1.2.0",
            "_view_name": "StyleView",
            "description_width": ""
          }
        },
        "143dd68d6ab047779ae3f622bf4e2fec": {
          "model_module": "@jupyter-widgets/base",
          "model_name": "LayoutModel",
          "model_module_version": "1.2.0",
          "state": {
            "_model_module": "@jupyter-widgets/base",
            "_model_module_version": "1.2.0",
            "_model_name": "LayoutModel",
            "_view_count": null,
            "_view_module": "@jupyter-widgets/base",
            "_view_module_version": "1.2.0",
            "_view_name": "LayoutView",
            "align_content": null,
            "align_items": null,
            "align_self": null,
            "border": null,
            "bottom": null,
            "display": null,
            "flex": null,
            "flex_flow": null,
            "grid_area": null,
            "grid_auto_columns": null,
            "grid_auto_flow": null,
            "grid_auto_rows": null,
            "grid_column": null,
            "grid_gap": null,
            "grid_row": null,
            "grid_template_areas": null,
            "grid_template_columns": null,
            "grid_template_rows": null,
            "height": null,
            "justify_content": null,
            "justify_items": null,
            "left": null,
            "margin": null,
            "max_height": null,
            "max_width": null,
            "min_height": null,
            "min_width": null,
            "object_fit": null,
            "object_position": null,
            "order": null,
            "overflow": null,
            "overflow_x": null,
            "overflow_y": null,
            "padding": null,
            "right": null,
            "top": null,
            "visibility": null,
            "width": null
          }
        },
        "146fb5dfd5b44acba9fa0e626019a822": {
          "model_module": "@jupyter-widgets/controls",
          "model_name": "ProgressStyleModel",
          "model_module_version": "1.5.0",
          "state": {
            "_model_module": "@jupyter-widgets/controls",
            "_model_module_version": "1.5.0",
            "_model_name": "ProgressStyleModel",
            "_view_count": null,
            "_view_module": "@jupyter-widgets/base",
            "_view_module_version": "1.2.0",
            "_view_name": "StyleView",
            "bar_color": null,
            "description_width": ""
          }
        },
        "ccaa4c8c131b4ea2b9ed0410042e4b8b": {
          "model_module": "@jupyter-widgets/base",
          "model_name": "LayoutModel",
          "model_module_version": "1.2.0",
          "state": {
            "_model_module": "@jupyter-widgets/base",
            "_model_module_version": "1.2.0",
            "_model_name": "LayoutModel",
            "_view_count": null,
            "_view_module": "@jupyter-widgets/base",
            "_view_module_version": "1.2.0",
            "_view_name": "LayoutView",
            "align_content": null,
            "align_items": null,
            "align_self": null,
            "border": null,
            "bottom": null,
            "display": null,
            "flex": null,
            "flex_flow": null,
            "grid_area": null,
            "grid_auto_columns": null,
            "grid_auto_flow": null,
            "grid_auto_rows": null,
            "grid_column": null,
            "grid_gap": null,
            "grid_row": null,
            "grid_template_areas": null,
            "grid_template_columns": null,
            "grid_template_rows": null,
            "height": null,
            "justify_content": null,
            "justify_items": null,
            "left": null,
            "margin": null,
            "max_height": null,
            "max_width": null,
            "min_height": null,
            "min_width": null,
            "object_fit": null,
            "object_position": null,
            "order": null,
            "overflow": null,
            "overflow_x": null,
            "overflow_y": null,
            "padding": null,
            "right": null,
            "top": null,
            "visibility": null,
            "width": null
          }
        },
        "ac922dd7a8474028bee706ef23b23c65": {
          "model_module": "@jupyter-widgets/controls",
          "model_name": "DescriptionStyleModel",
          "model_module_version": "1.5.0",
          "state": {
            "_model_module": "@jupyter-widgets/controls",
            "_model_module_version": "1.5.0",
            "_model_name": "DescriptionStyleModel",
            "_view_count": null,
            "_view_module": "@jupyter-widgets/base",
            "_view_module_version": "1.2.0",
            "_view_name": "StyleView",
            "description_width": ""
          }
        },
        "f776a6551b264aab89956b3aea23c598": {
          "model_module": "@jupyter-widgets/controls",
          "model_name": "HBoxModel",
          "model_module_version": "1.5.0",
          "state": {
            "_dom_classes": [],
            "_model_module": "@jupyter-widgets/controls",
            "_model_module_version": "1.5.0",
            "_model_name": "HBoxModel",
            "_view_count": null,
            "_view_module": "@jupyter-widgets/controls",
            "_view_module_version": "1.5.0",
            "_view_name": "HBoxView",
            "box_style": "",
            "children": [
              "IPY_MODEL_79b138204dd34493ba02b3992ad08ec3",
              "IPY_MODEL_2f57665daa024b07b12647588044007d",
              "IPY_MODEL_33089ff5ab8341758c2c5cf172a8928b"
            ],
            "layout": "IPY_MODEL_29e13f5efca94601ae36ff387075a44b"
          }
        },
        "79b138204dd34493ba02b3992ad08ec3": {
          "model_module": "@jupyter-widgets/controls",
          "model_name": "HTMLModel",
          "model_module_version": "1.5.0",
          "state": {
            "_dom_classes": [],
            "_model_module": "@jupyter-widgets/controls",
            "_model_module_version": "1.5.0",
            "_model_name": "HTMLModel",
            "_view_count": null,
            "_view_module": "@jupyter-widgets/controls",
            "_view_module_version": "1.5.0",
            "_view_name": "HTMLView",
            "description": "",
            "description_tooltip": null,
            "layout": "IPY_MODEL_980c389f4ffa474ea0ef3dd963e052d3",
            "placeholder": "​",
            "style": "IPY_MODEL_e2e724fc3e7846108a7f04b9d6ff1cf1",
            "value": "config.json: 100%"
          }
        },
        "2f57665daa024b07b12647588044007d": {
          "model_module": "@jupyter-widgets/controls",
          "model_name": "FloatProgressModel",
          "model_module_version": "1.5.0",
          "state": {
            "_dom_classes": [],
            "_model_module": "@jupyter-widgets/controls",
            "_model_module_version": "1.5.0",
            "_model_name": "FloatProgressModel",
            "_view_count": null,
            "_view_module": "@jupyter-widgets/controls",
            "_view_module_version": "1.5.0",
            "_view_name": "ProgressView",
            "bar_style": "success",
            "description": "",
            "description_tooltip": null,
            "layout": "IPY_MODEL_889d6a3ce0ff48059bbdc1ab434aa2b0",
            "max": 477,
            "min": 0,
            "orientation": "horizontal",
            "style": "IPY_MODEL_b32a7c600e56438994122716c9f8011c",
            "value": 477
          }
        },
        "33089ff5ab8341758c2c5cf172a8928b": {
          "model_module": "@jupyter-widgets/controls",
          "model_name": "HTMLModel",
          "model_module_version": "1.5.0",
          "state": {
            "_dom_classes": [],
            "_model_module": "@jupyter-widgets/controls",
            "_model_module_version": "1.5.0",
            "_model_name": "HTMLModel",
            "_view_count": null,
            "_view_module": "@jupyter-widgets/controls",
            "_view_module_version": "1.5.0",
            "_view_name": "HTMLView",
            "description": "",
            "description_tooltip": null,
            "layout": "IPY_MODEL_6355864cd4574dc587de3bf17595c03e",
            "placeholder": "​",
            "style": "IPY_MODEL_45b667b6c9944cf0a15e03a876c38169",
            "value": " 477/477 [00:00&lt;00:00, 24.4kB/s]"
          }
        },
        "29e13f5efca94601ae36ff387075a44b": {
          "model_module": "@jupyter-widgets/base",
          "model_name": "LayoutModel",
          "model_module_version": "1.2.0",
          "state": {
            "_model_module": "@jupyter-widgets/base",
            "_model_module_version": "1.2.0",
            "_model_name": "LayoutModel",
            "_view_count": null,
            "_view_module": "@jupyter-widgets/base",
            "_view_module_version": "1.2.0",
            "_view_name": "LayoutView",
            "align_content": null,
            "align_items": null,
            "align_self": null,
            "border": null,
            "bottom": null,
            "display": null,
            "flex": null,
            "flex_flow": null,
            "grid_area": null,
            "grid_auto_columns": null,
            "grid_auto_flow": null,
            "grid_auto_rows": null,
            "grid_column": null,
            "grid_gap": null,
            "grid_row": null,
            "grid_template_areas": null,
            "grid_template_columns": null,
            "grid_template_rows": null,
            "height": null,
            "justify_content": null,
            "justify_items": null,
            "left": null,
            "margin": null,
            "max_height": null,
            "max_width": null,
            "min_height": null,
            "min_width": null,
            "object_fit": null,
            "object_position": null,
            "order": null,
            "overflow": null,
            "overflow_x": null,
            "overflow_y": null,
            "padding": null,
            "right": null,
            "top": null,
            "visibility": null,
            "width": null
          }
        },
        "980c389f4ffa474ea0ef3dd963e052d3": {
          "model_module": "@jupyter-widgets/base",
          "model_name": "LayoutModel",
          "model_module_version": "1.2.0",
          "state": {
            "_model_module": "@jupyter-widgets/base",
            "_model_module_version": "1.2.0",
            "_model_name": "LayoutModel",
            "_view_count": null,
            "_view_module": "@jupyter-widgets/base",
            "_view_module_version": "1.2.0",
            "_view_name": "LayoutView",
            "align_content": null,
            "align_items": null,
            "align_self": null,
            "border": null,
            "bottom": null,
            "display": null,
            "flex": null,
            "flex_flow": null,
            "grid_area": null,
            "grid_auto_columns": null,
            "grid_auto_flow": null,
            "grid_auto_rows": null,
            "grid_column": null,
            "grid_gap": null,
            "grid_row": null,
            "grid_template_areas": null,
            "grid_template_columns": null,
            "grid_template_rows": null,
            "height": null,
            "justify_content": null,
            "justify_items": null,
            "left": null,
            "margin": null,
            "max_height": null,
            "max_width": null,
            "min_height": null,
            "min_width": null,
            "object_fit": null,
            "object_position": null,
            "order": null,
            "overflow": null,
            "overflow_x": null,
            "overflow_y": null,
            "padding": null,
            "right": null,
            "top": null,
            "visibility": null,
            "width": null
          }
        },
        "e2e724fc3e7846108a7f04b9d6ff1cf1": {
          "model_module": "@jupyter-widgets/controls",
          "model_name": "DescriptionStyleModel",
          "model_module_version": "1.5.0",
          "state": {
            "_model_module": "@jupyter-widgets/controls",
            "_model_module_version": "1.5.0",
            "_model_name": "DescriptionStyleModel",
            "_view_count": null,
            "_view_module": "@jupyter-widgets/base",
            "_view_module_version": "1.2.0",
            "_view_name": "StyleView",
            "description_width": ""
          }
        },
        "889d6a3ce0ff48059bbdc1ab434aa2b0": {
          "model_module": "@jupyter-widgets/base",
          "model_name": "LayoutModel",
          "model_module_version": "1.2.0",
          "state": {
            "_model_module": "@jupyter-widgets/base",
            "_model_module_version": "1.2.0",
            "_model_name": "LayoutModel",
            "_view_count": null,
            "_view_module": "@jupyter-widgets/base",
            "_view_module_version": "1.2.0",
            "_view_name": "LayoutView",
            "align_content": null,
            "align_items": null,
            "align_self": null,
            "border": null,
            "bottom": null,
            "display": null,
            "flex": null,
            "flex_flow": null,
            "grid_area": null,
            "grid_auto_columns": null,
            "grid_auto_flow": null,
            "grid_auto_rows": null,
            "grid_column": null,
            "grid_gap": null,
            "grid_row": null,
            "grid_template_areas": null,
            "grid_template_columns": null,
            "grid_template_rows": null,
            "height": null,
            "justify_content": null,
            "justify_items": null,
            "left": null,
            "margin": null,
            "max_height": null,
            "max_width": null,
            "min_height": null,
            "min_width": null,
            "object_fit": null,
            "object_position": null,
            "order": null,
            "overflow": null,
            "overflow_x": null,
            "overflow_y": null,
            "padding": null,
            "right": null,
            "top": null,
            "visibility": null,
            "width": null
          }
        },
        "b32a7c600e56438994122716c9f8011c": {
          "model_module": "@jupyter-widgets/controls",
          "model_name": "ProgressStyleModel",
          "model_module_version": "1.5.0",
          "state": {
            "_model_module": "@jupyter-widgets/controls",
            "_model_module_version": "1.5.0",
            "_model_name": "ProgressStyleModel",
            "_view_count": null,
            "_view_module": "@jupyter-widgets/base",
            "_view_module_version": "1.2.0",
            "_view_name": "StyleView",
            "bar_color": null,
            "description_width": ""
          }
        },
        "6355864cd4574dc587de3bf17595c03e": {
          "model_module": "@jupyter-widgets/base",
          "model_name": "LayoutModel",
          "model_module_version": "1.2.0",
          "state": {
            "_model_module": "@jupyter-widgets/base",
            "_model_module_version": "1.2.0",
            "_model_name": "LayoutModel",
            "_view_count": null,
            "_view_module": "@jupyter-widgets/base",
            "_view_module_version": "1.2.0",
            "_view_name": "LayoutView",
            "align_content": null,
            "align_items": null,
            "align_self": null,
            "border": null,
            "bottom": null,
            "display": null,
            "flex": null,
            "flex_flow": null,
            "grid_area": null,
            "grid_auto_columns": null,
            "grid_auto_flow": null,
            "grid_auto_rows": null,
            "grid_column": null,
            "grid_gap": null,
            "grid_row": null,
            "grid_template_areas": null,
            "grid_template_columns": null,
            "grid_template_rows": null,
            "height": null,
            "justify_content": null,
            "justify_items": null,
            "left": null,
            "margin": null,
            "max_height": null,
            "max_width": null,
            "min_height": null,
            "min_width": null,
            "object_fit": null,
            "object_position": null,
            "order": null,
            "overflow": null,
            "overflow_x": null,
            "overflow_y": null,
            "padding": null,
            "right": null,
            "top": null,
            "visibility": null,
            "width": null
          }
        },
        "45b667b6c9944cf0a15e03a876c38169": {
          "model_module": "@jupyter-widgets/controls",
          "model_name": "DescriptionStyleModel",
          "model_module_version": "1.5.0",
          "state": {
            "_model_module": "@jupyter-widgets/controls",
            "_model_module_version": "1.5.0",
            "_model_name": "DescriptionStyleModel",
            "_view_count": null,
            "_view_module": "@jupyter-widgets/base",
            "_view_module_version": "1.2.0",
            "_view_name": "StyleView",
            "description_width": ""
          }
        },
        "3bea4699cc2e4f468352be44f29c47c2": {
          "model_module": "@jupyter-widgets/controls",
          "model_name": "HBoxModel",
          "model_module_version": "1.5.0",
          "state": {
            "_dom_classes": [],
            "_model_module": "@jupyter-widgets/controls",
            "_model_module_version": "1.5.0",
            "_model_name": "HBoxModel",
            "_view_count": null,
            "_view_module": "@jupyter-widgets/controls",
            "_view_module_version": "1.5.0",
            "_view_name": "HBoxView",
            "box_style": "",
            "children": [
              "IPY_MODEL_3975046ff3844cc4bdd1ff71deb53fc9",
              "IPY_MODEL_48744f3dc5a74d16b69123b9699ac1e2",
              "IPY_MODEL_f8fbdcd8f97d44db912bb4c910f0b488"
            ],
            "layout": "IPY_MODEL_1d078fe28d414b3bb6e6a5df2d486b99"
          }
        },
        "3975046ff3844cc4bdd1ff71deb53fc9": {
          "model_module": "@jupyter-widgets/controls",
          "model_name": "HTMLModel",
          "model_module_version": "1.5.0",
          "state": {
            "_dom_classes": [],
            "_model_module": "@jupyter-widgets/controls",
            "_model_module_version": "1.5.0",
            "_model_name": "HTMLModel",
            "_view_count": null,
            "_view_module": "@jupyter-widgets/controls",
            "_view_module_version": "1.5.0",
            "_view_name": "HTMLView",
            "description": "",
            "description_tooltip": null,
            "layout": "IPY_MODEL_81cc131781ad4d089eb913074e6735ee",
            "placeholder": "​",
            "style": "IPY_MODEL_4a0c06aedadc419fb9a1ad1ce1dcd53b",
            "value": "vocab.txt: 100%"
          }
        },
        "48744f3dc5a74d16b69123b9699ac1e2": {
          "model_module": "@jupyter-widgets/controls",
          "model_name": "FloatProgressModel",
          "model_module_version": "1.5.0",
          "state": {
            "_dom_classes": [],
            "_model_module": "@jupyter-widgets/controls",
            "_model_module_version": "1.5.0",
            "_model_name": "FloatProgressModel",
            "_view_count": null,
            "_view_module": "@jupyter-widgets/controls",
            "_view_module_version": "1.5.0",
            "_view_name": "ProgressView",
            "bar_style": "success",
            "description": "",
            "description_tooltip": null,
            "layout": "IPY_MODEL_c8f82261a30344fbbe70742b01f4e542",
            "max": 231508,
            "min": 0,
            "orientation": "horizontal",
            "style": "IPY_MODEL_3c5ef3b6b32c4685a64d1e5559c0fd62",
            "value": 231508
          }
        },
        "f8fbdcd8f97d44db912bb4c910f0b488": {
          "model_module": "@jupyter-widgets/controls",
          "model_name": "HTMLModel",
          "model_module_version": "1.5.0",
          "state": {
            "_dom_classes": [],
            "_model_module": "@jupyter-widgets/controls",
            "_model_module_version": "1.5.0",
            "_model_name": "HTMLModel",
            "_view_count": null,
            "_view_module": "@jupyter-widgets/controls",
            "_view_module_version": "1.5.0",
            "_view_name": "HTMLView",
            "description": "",
            "description_tooltip": null,
            "layout": "IPY_MODEL_fc7699d6ef424c0c95f670e4aa0c4f74",
            "placeholder": "​",
            "style": "IPY_MODEL_a3c34f18153c45e381e68ed2a5cb0f0b",
            "value": " 232k/232k [00:00&lt;00:00, 6.11MB/s]"
          }
        },
        "1d078fe28d414b3bb6e6a5df2d486b99": {
          "model_module": "@jupyter-widgets/base",
          "model_name": "LayoutModel",
          "model_module_version": "1.2.0",
          "state": {
            "_model_module": "@jupyter-widgets/base",
            "_model_module_version": "1.2.0",
            "_model_name": "LayoutModel",
            "_view_count": null,
            "_view_module": "@jupyter-widgets/base",
            "_view_module_version": "1.2.0",
            "_view_name": "LayoutView",
            "align_content": null,
            "align_items": null,
            "align_self": null,
            "border": null,
            "bottom": null,
            "display": null,
            "flex": null,
            "flex_flow": null,
            "grid_area": null,
            "grid_auto_columns": null,
            "grid_auto_flow": null,
            "grid_auto_rows": null,
            "grid_column": null,
            "grid_gap": null,
            "grid_row": null,
            "grid_template_areas": null,
            "grid_template_columns": null,
            "grid_template_rows": null,
            "height": null,
            "justify_content": null,
            "justify_items": null,
            "left": null,
            "margin": null,
            "max_height": null,
            "max_width": null,
            "min_height": null,
            "min_width": null,
            "object_fit": null,
            "object_position": null,
            "order": null,
            "overflow": null,
            "overflow_x": null,
            "overflow_y": null,
            "padding": null,
            "right": null,
            "top": null,
            "visibility": null,
            "width": null
          }
        },
        "81cc131781ad4d089eb913074e6735ee": {
          "model_module": "@jupyter-widgets/base",
          "model_name": "LayoutModel",
          "model_module_version": "1.2.0",
          "state": {
            "_model_module": "@jupyter-widgets/base",
            "_model_module_version": "1.2.0",
            "_model_name": "LayoutModel",
            "_view_count": null,
            "_view_module": "@jupyter-widgets/base",
            "_view_module_version": "1.2.0",
            "_view_name": "LayoutView",
            "align_content": null,
            "align_items": null,
            "align_self": null,
            "border": null,
            "bottom": null,
            "display": null,
            "flex": null,
            "flex_flow": null,
            "grid_area": null,
            "grid_auto_columns": null,
            "grid_auto_flow": null,
            "grid_auto_rows": null,
            "grid_column": null,
            "grid_gap": null,
            "grid_row": null,
            "grid_template_areas": null,
            "grid_template_columns": null,
            "grid_template_rows": null,
            "height": null,
            "justify_content": null,
            "justify_items": null,
            "left": null,
            "margin": null,
            "max_height": null,
            "max_width": null,
            "min_height": null,
            "min_width": null,
            "object_fit": null,
            "object_position": null,
            "order": null,
            "overflow": null,
            "overflow_x": null,
            "overflow_y": null,
            "padding": null,
            "right": null,
            "top": null,
            "visibility": null,
            "width": null
          }
        },
        "4a0c06aedadc419fb9a1ad1ce1dcd53b": {
          "model_module": "@jupyter-widgets/controls",
          "model_name": "DescriptionStyleModel",
          "model_module_version": "1.5.0",
          "state": {
            "_model_module": "@jupyter-widgets/controls",
            "_model_module_version": "1.5.0",
            "_model_name": "DescriptionStyleModel",
            "_view_count": null,
            "_view_module": "@jupyter-widgets/base",
            "_view_module_version": "1.2.0",
            "_view_name": "StyleView",
            "description_width": ""
          }
        },
        "c8f82261a30344fbbe70742b01f4e542": {
          "model_module": "@jupyter-widgets/base",
          "model_name": "LayoutModel",
          "model_module_version": "1.2.0",
          "state": {
            "_model_module": "@jupyter-widgets/base",
            "_model_module_version": "1.2.0",
            "_model_name": "LayoutModel",
            "_view_count": null,
            "_view_module": "@jupyter-widgets/base",
            "_view_module_version": "1.2.0",
            "_view_name": "LayoutView",
            "align_content": null,
            "align_items": null,
            "align_self": null,
            "border": null,
            "bottom": null,
            "display": null,
            "flex": null,
            "flex_flow": null,
            "grid_area": null,
            "grid_auto_columns": null,
            "grid_auto_flow": null,
            "grid_auto_rows": null,
            "grid_column": null,
            "grid_gap": null,
            "grid_row": null,
            "grid_template_areas": null,
            "grid_template_columns": null,
            "grid_template_rows": null,
            "height": null,
            "justify_content": null,
            "justify_items": null,
            "left": null,
            "margin": null,
            "max_height": null,
            "max_width": null,
            "min_height": null,
            "min_width": null,
            "object_fit": null,
            "object_position": null,
            "order": null,
            "overflow": null,
            "overflow_x": null,
            "overflow_y": null,
            "padding": null,
            "right": null,
            "top": null,
            "visibility": null,
            "width": null
          }
        },
        "3c5ef3b6b32c4685a64d1e5559c0fd62": {
          "model_module": "@jupyter-widgets/controls",
          "model_name": "ProgressStyleModel",
          "model_module_version": "1.5.0",
          "state": {
            "_model_module": "@jupyter-widgets/controls",
            "_model_module_version": "1.5.0",
            "_model_name": "ProgressStyleModel",
            "_view_count": null,
            "_view_module": "@jupyter-widgets/base",
            "_view_module_version": "1.2.0",
            "_view_name": "StyleView",
            "bar_color": null,
            "description_width": ""
          }
        },
        "fc7699d6ef424c0c95f670e4aa0c4f74": {
          "model_module": "@jupyter-widgets/base",
          "model_name": "LayoutModel",
          "model_module_version": "1.2.0",
          "state": {
            "_model_module": "@jupyter-widgets/base",
            "_model_module_version": "1.2.0",
            "_model_name": "LayoutModel",
            "_view_count": null,
            "_view_module": "@jupyter-widgets/base",
            "_view_module_version": "1.2.0",
            "_view_name": "LayoutView",
            "align_content": null,
            "align_items": null,
            "align_self": null,
            "border": null,
            "bottom": null,
            "display": null,
            "flex": null,
            "flex_flow": null,
            "grid_area": null,
            "grid_auto_columns": null,
            "grid_auto_flow": null,
            "grid_auto_rows": null,
            "grid_column": null,
            "grid_gap": null,
            "grid_row": null,
            "grid_template_areas": null,
            "grid_template_columns": null,
            "grid_template_rows": null,
            "height": null,
            "justify_content": null,
            "justify_items": null,
            "left": null,
            "margin": null,
            "max_height": null,
            "max_width": null,
            "min_height": null,
            "min_width": null,
            "object_fit": null,
            "object_position": null,
            "order": null,
            "overflow": null,
            "overflow_x": null,
            "overflow_y": null,
            "padding": null,
            "right": null,
            "top": null,
            "visibility": null,
            "width": null
          }
        },
        "a3c34f18153c45e381e68ed2a5cb0f0b": {
          "model_module": "@jupyter-widgets/controls",
          "model_name": "DescriptionStyleModel",
          "model_module_version": "1.5.0",
          "state": {
            "_model_module": "@jupyter-widgets/controls",
            "_model_module_version": "1.5.0",
            "_model_name": "DescriptionStyleModel",
            "_view_count": null,
            "_view_module": "@jupyter-widgets/base",
            "_view_module_version": "1.2.0",
            "_view_name": "StyleView",
            "description_width": ""
          }
        },
        "44e427f57ab34e80baf10713c56d8036": {
          "model_module": "@jupyter-widgets/controls",
          "model_name": "HBoxModel",
          "model_module_version": "1.5.0",
          "state": {
            "_dom_classes": [],
            "_model_module": "@jupyter-widgets/controls",
            "_model_module_version": "1.5.0",
            "_model_name": "HBoxModel",
            "_view_count": null,
            "_view_module": "@jupyter-widgets/controls",
            "_view_module_version": "1.5.0",
            "_view_name": "HBoxView",
            "box_style": "",
            "children": [
              "IPY_MODEL_0ebb2906e7c54f7485d90330733ee597",
              "IPY_MODEL_29153a41f10343a5a703058b6e74fc95",
              "IPY_MODEL_c74127b1cb7f49579832ebb39ddf3960"
            ],
            "layout": "IPY_MODEL_87b8e16796b94f8e92072834bf940fba"
          }
        },
        "0ebb2906e7c54f7485d90330733ee597": {
          "model_module": "@jupyter-widgets/controls",
          "model_name": "HTMLModel",
          "model_module_version": "1.5.0",
          "state": {
            "_dom_classes": [],
            "_model_module": "@jupyter-widgets/controls",
            "_model_module_version": "1.5.0",
            "_model_name": "HTMLModel",
            "_view_count": null,
            "_view_module": "@jupyter-widgets/controls",
            "_view_module_version": "1.5.0",
            "_view_name": "HTMLView",
            "description": "",
            "description_tooltip": null,
            "layout": "IPY_MODEL_eb8139f187c5478db57f8801e3ab3e50",
            "placeholder": "​",
            "style": "IPY_MODEL_272bc12e184a434b8d76fb6fdc32b82d",
            "value": "special_tokens_map.json: 100%"
          }
        },
        "29153a41f10343a5a703058b6e74fc95": {
          "model_module": "@jupyter-widgets/controls",
          "model_name": "FloatProgressModel",
          "model_module_version": "1.5.0",
          "state": {
            "_dom_classes": [],
            "_model_module": "@jupyter-widgets/controls",
            "_model_module_version": "1.5.0",
            "_model_name": "FloatProgressModel",
            "_view_count": null,
            "_view_module": "@jupyter-widgets/controls",
            "_view_module_version": "1.5.0",
            "_view_name": "ProgressView",
            "bar_style": "success",
            "description": "",
            "description_tooltip": null,
            "layout": "IPY_MODEL_117e392abfaf4fdbaab314ba0e53c82a",
            "max": 112,
            "min": 0,
            "orientation": "horizontal",
            "style": "IPY_MODEL_f90ff28a663a4077bd7bd18c31f94d7c",
            "value": 112
          }
        },
        "c74127b1cb7f49579832ebb39ddf3960": {
          "model_module": "@jupyter-widgets/controls",
          "model_name": "HTMLModel",
          "model_module_version": "1.5.0",
          "state": {
            "_dom_classes": [],
            "_model_module": "@jupyter-widgets/controls",
            "_model_module_version": "1.5.0",
            "_model_name": "HTMLModel",
            "_view_count": null,
            "_view_module": "@jupyter-widgets/controls",
            "_view_module_version": "1.5.0",
            "_view_name": "HTMLView",
            "description": "",
            "description_tooltip": null,
            "layout": "IPY_MODEL_4ebe4d358b5f448daa12d5adae38e587",
            "placeholder": "​",
            "style": "IPY_MODEL_9223d0d4512a4c9aa76ef8d19a327b29",
            "value": " 112/112 [00:00&lt;00:00, 6.97kB/s]"
          }
        },
        "87b8e16796b94f8e92072834bf940fba": {
          "model_module": "@jupyter-widgets/base",
          "model_name": "LayoutModel",
          "model_module_version": "1.2.0",
          "state": {
            "_model_module": "@jupyter-widgets/base",
            "_model_module_version": "1.2.0",
            "_model_name": "LayoutModel",
            "_view_count": null,
            "_view_module": "@jupyter-widgets/base",
            "_view_module_version": "1.2.0",
            "_view_name": "LayoutView",
            "align_content": null,
            "align_items": null,
            "align_self": null,
            "border": null,
            "bottom": null,
            "display": null,
            "flex": null,
            "flex_flow": null,
            "grid_area": null,
            "grid_auto_columns": null,
            "grid_auto_flow": null,
            "grid_auto_rows": null,
            "grid_column": null,
            "grid_gap": null,
            "grid_row": null,
            "grid_template_areas": null,
            "grid_template_columns": null,
            "grid_template_rows": null,
            "height": null,
            "justify_content": null,
            "justify_items": null,
            "left": null,
            "margin": null,
            "max_height": null,
            "max_width": null,
            "min_height": null,
            "min_width": null,
            "object_fit": null,
            "object_position": null,
            "order": null,
            "overflow": null,
            "overflow_x": null,
            "overflow_y": null,
            "padding": null,
            "right": null,
            "top": null,
            "visibility": null,
            "width": null
          }
        },
        "eb8139f187c5478db57f8801e3ab3e50": {
          "model_module": "@jupyter-widgets/base",
          "model_name": "LayoutModel",
          "model_module_version": "1.2.0",
          "state": {
            "_model_module": "@jupyter-widgets/base",
            "_model_module_version": "1.2.0",
            "_model_name": "LayoutModel",
            "_view_count": null,
            "_view_module": "@jupyter-widgets/base",
            "_view_module_version": "1.2.0",
            "_view_name": "LayoutView",
            "align_content": null,
            "align_items": null,
            "align_self": null,
            "border": null,
            "bottom": null,
            "display": null,
            "flex": null,
            "flex_flow": null,
            "grid_area": null,
            "grid_auto_columns": null,
            "grid_auto_flow": null,
            "grid_auto_rows": null,
            "grid_column": null,
            "grid_gap": null,
            "grid_row": null,
            "grid_template_areas": null,
            "grid_template_columns": null,
            "grid_template_rows": null,
            "height": null,
            "justify_content": null,
            "justify_items": null,
            "left": null,
            "margin": null,
            "max_height": null,
            "max_width": null,
            "min_height": null,
            "min_width": null,
            "object_fit": null,
            "object_position": null,
            "order": null,
            "overflow": null,
            "overflow_x": null,
            "overflow_y": null,
            "padding": null,
            "right": null,
            "top": null,
            "visibility": null,
            "width": null
          }
        },
        "272bc12e184a434b8d76fb6fdc32b82d": {
          "model_module": "@jupyter-widgets/controls",
          "model_name": "DescriptionStyleModel",
          "model_module_version": "1.5.0",
          "state": {
            "_model_module": "@jupyter-widgets/controls",
            "_model_module_version": "1.5.0",
            "_model_name": "DescriptionStyleModel",
            "_view_count": null,
            "_view_module": "@jupyter-widgets/base",
            "_view_module_version": "1.2.0",
            "_view_name": "StyleView",
            "description_width": ""
          }
        },
        "117e392abfaf4fdbaab314ba0e53c82a": {
          "model_module": "@jupyter-widgets/base",
          "model_name": "LayoutModel",
          "model_module_version": "1.2.0",
          "state": {
            "_model_module": "@jupyter-widgets/base",
            "_model_module_version": "1.2.0",
            "_model_name": "LayoutModel",
            "_view_count": null,
            "_view_module": "@jupyter-widgets/base",
            "_view_module_version": "1.2.0",
            "_view_name": "LayoutView",
            "align_content": null,
            "align_items": null,
            "align_self": null,
            "border": null,
            "bottom": null,
            "display": null,
            "flex": null,
            "flex_flow": null,
            "grid_area": null,
            "grid_auto_columns": null,
            "grid_auto_flow": null,
            "grid_auto_rows": null,
            "grid_column": null,
            "grid_gap": null,
            "grid_row": null,
            "grid_template_areas": null,
            "grid_template_columns": null,
            "grid_template_rows": null,
            "height": null,
            "justify_content": null,
            "justify_items": null,
            "left": null,
            "margin": null,
            "max_height": null,
            "max_width": null,
            "min_height": null,
            "min_width": null,
            "object_fit": null,
            "object_position": null,
            "order": null,
            "overflow": null,
            "overflow_x": null,
            "overflow_y": null,
            "padding": null,
            "right": null,
            "top": null,
            "visibility": null,
            "width": null
          }
        },
        "f90ff28a663a4077bd7bd18c31f94d7c": {
          "model_module": "@jupyter-widgets/controls",
          "model_name": "ProgressStyleModel",
          "model_module_version": "1.5.0",
          "state": {
            "_model_module": "@jupyter-widgets/controls",
            "_model_module_version": "1.5.0",
            "_model_name": "ProgressStyleModel",
            "_view_count": null,
            "_view_module": "@jupyter-widgets/base",
            "_view_module_version": "1.2.0",
            "_view_name": "StyleView",
            "bar_color": null,
            "description_width": ""
          }
        },
        "4ebe4d358b5f448daa12d5adae38e587": {
          "model_module": "@jupyter-widgets/base",
          "model_name": "LayoutModel",
          "model_module_version": "1.2.0",
          "state": {
            "_model_module": "@jupyter-widgets/base",
            "_model_module_version": "1.2.0",
            "_model_name": "LayoutModel",
            "_view_count": null,
            "_view_module": "@jupyter-widgets/base",
            "_view_module_version": "1.2.0",
            "_view_name": "LayoutView",
            "align_content": null,
            "align_items": null,
            "align_self": null,
            "border": null,
            "bottom": null,
            "display": null,
            "flex": null,
            "flex_flow": null,
            "grid_area": null,
            "grid_auto_columns": null,
            "grid_auto_flow": null,
            "grid_auto_rows": null,
            "grid_column": null,
            "grid_gap": null,
            "grid_row": null,
            "grid_template_areas": null,
            "grid_template_columns": null,
            "grid_template_rows": null,
            "height": null,
            "justify_content": null,
            "justify_items": null,
            "left": null,
            "margin": null,
            "max_height": null,
            "max_width": null,
            "min_height": null,
            "min_width": null,
            "object_fit": null,
            "object_position": null,
            "order": null,
            "overflow": null,
            "overflow_x": null,
            "overflow_y": null,
            "padding": null,
            "right": null,
            "top": null,
            "visibility": null,
            "width": null
          }
        },
        "9223d0d4512a4c9aa76ef8d19a327b29": {
          "model_module": "@jupyter-widgets/controls",
          "model_name": "DescriptionStyleModel",
          "model_module_version": "1.5.0",
          "state": {
            "_model_module": "@jupyter-widgets/controls",
            "_model_module_version": "1.5.0",
            "_model_name": "DescriptionStyleModel",
            "_view_count": null,
            "_view_module": "@jupyter-widgets/base",
            "_view_module_version": "1.2.0",
            "_view_name": "StyleView",
            "description_width": ""
          }
        },
        "a09e42dbb80248559f52aabc70c93907": {
          "model_module": "@jupyter-widgets/controls",
          "model_name": "HBoxModel",
          "model_module_version": "1.5.0",
          "state": {
            "_dom_classes": [],
            "_model_module": "@jupyter-widgets/controls",
            "_model_module_version": "1.5.0",
            "_model_name": "HBoxModel",
            "_view_count": null,
            "_view_module": "@jupyter-widgets/controls",
            "_view_module_version": "1.5.0",
            "_view_name": "HBoxView",
            "box_style": "",
            "children": [
              "IPY_MODEL_132e1480d11b442994f4dedebde4dcda",
              "IPY_MODEL_a1de4ebae0a54b869237f48699f021ef",
              "IPY_MODEL_22263263bc404af8990a3ac3da19203a"
            ],
            "layout": "IPY_MODEL_7ce88dd5d89c447180bb86ccbdb82b72"
          }
        },
        "132e1480d11b442994f4dedebde4dcda": {
          "model_module": "@jupyter-widgets/controls",
          "model_name": "HTMLModel",
          "model_module_version": "1.5.0",
          "state": {
            "_dom_classes": [],
            "_model_module": "@jupyter-widgets/controls",
            "_model_module_version": "1.5.0",
            "_model_name": "HTMLModel",
            "_view_count": null,
            "_view_module": "@jupyter-widgets/controls",
            "_view_module_version": "1.5.0",
            "_view_name": "HTMLView",
            "description": "",
            "description_tooltip": null,
            "layout": "IPY_MODEL_4bc4407e008549d596f334e966bcd518",
            "placeholder": "​",
            "style": "IPY_MODEL_24ef6f1a60844ccda88baa7dafbe7907",
            "value": "model.safetensors: 100%"
          }
        },
        "a1de4ebae0a54b869237f48699f021ef": {
          "model_module": "@jupyter-widgets/controls",
          "model_name": "FloatProgressModel",
          "model_module_version": "1.5.0",
          "state": {
            "_dom_classes": [],
            "_model_module": "@jupyter-widgets/controls",
            "_model_module_version": "1.5.0",
            "_model_name": "FloatProgressModel",
            "_view_count": null,
            "_view_module": "@jupyter-widgets/controls",
            "_view_module_version": "1.5.0",
            "_view_name": "ProgressView",
            "bar_style": "success",
            "description": "",
            "description_tooltip": null,
            "layout": "IPY_MODEL_cd6105dee7a647c1b8f7204e656bf8ff",
            "max": 133466376,
            "min": 0,
            "orientation": "horizontal",
            "style": "IPY_MODEL_bef3f9bfaa7d4e40913e5c56ff2c311b",
            "value": 133466376
          }
        },
        "22263263bc404af8990a3ac3da19203a": {
          "model_module": "@jupyter-widgets/controls",
          "model_name": "HTMLModel",
          "model_module_version": "1.5.0",
          "state": {
            "_dom_classes": [],
            "_model_module": "@jupyter-widgets/controls",
            "_model_module_version": "1.5.0",
            "_model_name": "HTMLModel",
            "_view_count": null,
            "_view_module": "@jupyter-widgets/controls",
            "_view_module_version": "1.5.0",
            "_view_name": "HTMLView",
            "description": "",
            "description_tooltip": null,
            "layout": "IPY_MODEL_45d45471e13542a29fe33ce6bde5c62d",
            "placeholder": "​",
            "style": "IPY_MODEL_0a8766a023624ee1b84f9fbefe4489c5",
            "value": " 133M/133M [00:01&lt;00:00, 132MB/s]"
          }
        },
        "7ce88dd5d89c447180bb86ccbdb82b72": {
          "model_module": "@jupyter-widgets/base",
          "model_name": "LayoutModel",
          "model_module_version": "1.2.0",
          "state": {
            "_model_module": "@jupyter-widgets/base",
            "_model_module_version": "1.2.0",
            "_model_name": "LayoutModel",
            "_view_count": null,
            "_view_module": "@jupyter-widgets/base",
            "_view_module_version": "1.2.0",
            "_view_name": "LayoutView",
            "align_content": null,
            "align_items": null,
            "align_self": null,
            "border": null,
            "bottom": null,
            "display": null,
            "flex": null,
            "flex_flow": null,
            "grid_area": null,
            "grid_auto_columns": null,
            "grid_auto_flow": null,
            "grid_auto_rows": null,
            "grid_column": null,
            "grid_gap": null,
            "grid_row": null,
            "grid_template_areas": null,
            "grid_template_columns": null,
            "grid_template_rows": null,
            "height": null,
            "justify_content": null,
            "justify_items": null,
            "left": null,
            "margin": null,
            "max_height": null,
            "max_width": null,
            "min_height": null,
            "min_width": null,
            "object_fit": null,
            "object_position": null,
            "order": null,
            "overflow": null,
            "overflow_x": null,
            "overflow_y": null,
            "padding": null,
            "right": null,
            "top": null,
            "visibility": null,
            "width": null
          }
        },
        "4bc4407e008549d596f334e966bcd518": {
          "model_module": "@jupyter-widgets/base",
          "model_name": "LayoutModel",
          "model_module_version": "1.2.0",
          "state": {
            "_model_module": "@jupyter-widgets/base",
            "_model_module_version": "1.2.0",
            "_model_name": "LayoutModel",
            "_view_count": null,
            "_view_module": "@jupyter-widgets/base",
            "_view_module_version": "1.2.0",
            "_view_name": "LayoutView",
            "align_content": null,
            "align_items": null,
            "align_self": null,
            "border": null,
            "bottom": null,
            "display": null,
            "flex": null,
            "flex_flow": null,
            "grid_area": null,
            "grid_auto_columns": null,
            "grid_auto_flow": null,
            "grid_auto_rows": null,
            "grid_column": null,
            "grid_gap": null,
            "grid_row": null,
            "grid_template_areas": null,
            "grid_template_columns": null,
            "grid_template_rows": null,
            "height": null,
            "justify_content": null,
            "justify_items": null,
            "left": null,
            "margin": null,
            "max_height": null,
            "max_width": null,
            "min_height": null,
            "min_width": null,
            "object_fit": null,
            "object_position": null,
            "order": null,
            "overflow": null,
            "overflow_x": null,
            "overflow_y": null,
            "padding": null,
            "right": null,
            "top": null,
            "visibility": null,
            "width": null
          }
        },
        "24ef6f1a60844ccda88baa7dafbe7907": {
          "model_module": "@jupyter-widgets/controls",
          "model_name": "DescriptionStyleModel",
          "model_module_version": "1.5.0",
          "state": {
            "_model_module": "@jupyter-widgets/controls",
            "_model_module_version": "1.5.0",
            "_model_name": "DescriptionStyleModel",
            "_view_count": null,
            "_view_module": "@jupyter-widgets/base",
            "_view_module_version": "1.2.0",
            "_view_name": "StyleView",
            "description_width": ""
          }
        },
        "cd6105dee7a647c1b8f7204e656bf8ff": {
          "model_module": "@jupyter-widgets/base",
          "model_name": "LayoutModel",
          "model_module_version": "1.2.0",
          "state": {
            "_model_module": "@jupyter-widgets/base",
            "_model_module_version": "1.2.0",
            "_model_name": "LayoutModel",
            "_view_count": null,
            "_view_module": "@jupyter-widgets/base",
            "_view_module_version": "1.2.0",
            "_view_name": "LayoutView",
            "align_content": null,
            "align_items": null,
            "align_self": null,
            "border": null,
            "bottom": null,
            "display": null,
            "flex": null,
            "flex_flow": null,
            "grid_area": null,
            "grid_auto_columns": null,
            "grid_auto_flow": null,
            "grid_auto_rows": null,
            "grid_column": null,
            "grid_gap": null,
            "grid_row": null,
            "grid_template_areas": null,
            "grid_template_columns": null,
            "grid_template_rows": null,
            "height": null,
            "justify_content": null,
            "justify_items": null,
            "left": null,
            "margin": null,
            "max_height": null,
            "max_width": null,
            "min_height": null,
            "min_width": null,
            "object_fit": null,
            "object_position": null,
            "order": null,
            "overflow": null,
            "overflow_x": null,
            "overflow_y": null,
            "padding": null,
            "right": null,
            "top": null,
            "visibility": null,
            "width": null
          }
        },
        "bef3f9bfaa7d4e40913e5c56ff2c311b": {
          "model_module": "@jupyter-widgets/controls",
          "model_name": "ProgressStyleModel",
          "model_module_version": "1.5.0",
          "state": {
            "_model_module": "@jupyter-widgets/controls",
            "_model_module_version": "1.5.0",
            "_model_name": "ProgressStyleModel",
            "_view_count": null,
            "_view_module": "@jupyter-widgets/base",
            "_view_module_version": "1.2.0",
            "_view_name": "StyleView",
            "bar_color": null,
            "description_width": ""
          }
        },
        "45d45471e13542a29fe33ce6bde5c62d": {
          "model_module": "@jupyter-widgets/base",
          "model_name": "LayoutModel",
          "model_module_version": "1.2.0",
          "state": {
            "_model_module": "@jupyter-widgets/base",
            "_model_module_version": "1.2.0",
            "_model_name": "LayoutModel",
            "_view_count": null,
            "_view_module": "@jupyter-widgets/base",
            "_view_module_version": "1.2.0",
            "_view_name": "LayoutView",
            "align_content": null,
            "align_items": null,
            "align_self": null,
            "border": null,
            "bottom": null,
            "display": null,
            "flex": null,
            "flex_flow": null,
            "grid_area": null,
            "grid_auto_columns": null,
            "grid_auto_flow": null,
            "grid_auto_rows": null,
            "grid_column": null,
            "grid_gap": null,
            "grid_row": null,
            "grid_template_areas": null,
            "grid_template_columns": null,
            "grid_template_rows": null,
            "height": null,
            "justify_content": null,
            "justify_items": null,
            "left": null,
            "margin": null,
            "max_height": null,
            "max_width": null,
            "min_height": null,
            "min_width": null,
            "object_fit": null,
            "object_position": null,
            "order": null,
            "overflow": null,
            "overflow_x": null,
            "overflow_y": null,
            "padding": null,
            "right": null,
            "top": null,
            "visibility": null,
            "width": null
          }
        },
        "0a8766a023624ee1b84f9fbefe4489c5": {
          "model_module": "@jupyter-widgets/controls",
          "model_name": "DescriptionStyleModel",
          "model_module_version": "1.5.0",
          "state": {
            "_model_module": "@jupyter-widgets/controls",
            "_model_module_version": "1.5.0",
            "_model_name": "DescriptionStyleModel",
            "_view_count": null,
            "_view_module": "@jupyter-widgets/base",
            "_view_module_version": "1.2.0",
            "_view_name": "StyleView",
            "description_width": ""
          }
        }
      }
    }
  },
  "nbformat": 4,
  "nbformat_minor": 0
}